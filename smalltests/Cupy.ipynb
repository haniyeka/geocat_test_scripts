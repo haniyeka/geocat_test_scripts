{
 "cells": [
  {
   "cell_type": "code",
   "execution_count": null,
   "id": "eda9355c-0d12-4e56-a950-f74754714a0d",
   "metadata": {},
   "outputs": [],
   "source": [
    "%env CUPY_ACCELERATORS = cub\n",
    "import cupy as cp\n",
    "import numpy as np\n",
    "import time\n",
    "from cupyx.profiler import benchmark\n",
    "\n",
    "def my_func():\n",
    "    x = cp.random.rand(10000,10000)\n",
    "    W = cp.random.rand(10000,10000)\n",
    "    y = cp.dot(x,W)\n",
    "\n",
    "start_gpu = cp.cuda.Event()\n",
    "end_gpu = cp.cuda.Event()\n",
    "start_gpu.record()\n",
    "start_cpu = time.perf_counter()\n",
    "out = my_func()\n",
    "end_cpu = time.perf_counter()\n",
    "end_gpu.record()\n",
    "end_gpu.synchronize()\n",
    "t_gpu = cp.cuda.get_elapsed_time(start_gpu, end_gpu)\n",
    "t_cpu = end_cpu - start_cpu\n",
    "print(f\"Runtime by CPU: {t_cpu}\")\n",
    "print(f\"Runtime by GPU: {t_gpu}\")\n",
    "\n",
    "def my_func(a):\n",
    "    return cp.sqrt(cp.sum(a**2, axis=-1))\n",
    "a = cp.random.random((1024, 2048))\n",
    "print(benchmark(my_func,(a,), n_repeat=100))"
   ]
  },
  {
   "cell_type": "code",
   "execution_count": null,
   "id": "93d995d5-c3bc-4d1d-a343-9ad750486467",
   "metadata": {},
   "outputs": [],
   "source": [
    "import cupy as cp\n",
    "import numpy as np\n",
    "\n",
    "for xp in [np,cp]:\n",
    "    start = time.time()\n",
    "    x = xp.arange(1,30000000)\n",
    "    l2 = xp.linalg.norm(x)\n",
    "    end = time.time()\n",
    "    print(f\"Runtime by {xp.__name__}: {end-start}\")"
   ]
  },
  {
   "cell_type": "code",
   "execution_count": null,
   "id": "a84e3c07-119b-4d20-940d-c1d9065315c5",
   "metadata": {},
   "outputs": [],
   "source": [
    "import cupy as cp\n",
    "import numpy as np\n",
    "\n",
    "x_cpu = np.arange(1,30000000)\n",
    "l2_cpu = np.linalg.norm(x_cpu)\n",
    "\n",
    "x_gpu = cp.arange(1,30000000)\n",
    "l2_gpu = cp.linalg.norm(x_gpu)"
   ]
  },
  {
   "cell_type": "code",
   "execution_count": 1,
   "id": "ae73d061-97ae-4143-8b09-bacda2f57686",
   "metadata": {},
   "outputs": [
    {
     "name": "stdout",
     "output_type": "stream",
     "text": [
      "sum                 :    CPU:   23.618 us   +/-10.574 (min:   14.739 / max:   64.493) us     GPU-0:10884.833 us   +/-269.084 (min:10702.848 / max:11978.752) us\n"
     ]
    }
   ],
   "source": [
    "import cupy as cp\n",
    "from cupyx.profiler import benchmark\n",
    "a = cp.random.random((256, 256, 256), dtype=cp.float32)\n",
    "print(benchmark(a.sum, (), n_repeat=100))  "
   ]
  },
  {
   "cell_type": "code",
   "execution_count": null,
   "id": "c8384fcd-aca4-4d16-88e7-17f85cdad8d8",
   "metadata": {},
   "outputs": [],
   "source": [
    "for xp in [np,cp]:\n",
    "    start = time.time()\n",
    "    x = xp.arange(1,30000000)\n",
    "    l2 = xp.linalg.norm(x)\n",
    "    end = time.time()\n",
    "    print(f\"Runtime by {xp.__name__}: {end-start}\")"
   ]
  },
  {
   "cell_type": "code",
   "execution_count": null,
   "id": "2cc009d7-dbe1-45b4-9d9f-946692c49d51",
   "metadata": {},
   "outputs": [],
   "source": [
    "print(x.device)\n",
    "with cp.cuda.Device(1):\n",
    "    x_on_gpu1 = cp.array([1, 2, 3, 4, 5])\n",
    "x_on_gpu0 = cp.array([1, 2, 3, 4, 5])"
   ]
  },
  {
   "cell_type": "code",
   "execution_count": null,
   "id": "0501350c-4c7a-4568-acd6-83932573bb93",
   "metadata": {},
   "outputs": [],
   "source": [
    "current_stream = cp.cuda.get_current_stream()\n",
    "current_stream"
   ]
  },
  {
   "cell_type": "code",
   "execution_count": null,
   "id": "b8b0b5ba-ece9-4c66-8d57-c5720632c791",
   "metadata": {},
   "outputs": [],
   "source": [
    "#move array to a device\n",
    "x_cpu = np.array([1,2,3])\n",
    "x_gpu = cp.asarray(x_cpu)\n",
    "#accepts np.ndarray\n",
    "with cp.cuda.device(0):\n",
    "    x_gpu_0 = cp.ndarray([1,2,3])\n",
    "with cp.cuda.device(1):\n",
    "    x_gpu_1 = cp.asarray(x_gpu_0)"
   ]
  },
  {
   "cell_type": "code",
   "execution_count": null,
   "id": "ec3d6988-8663-4993-b7f1-b618d10ed23c",
   "metadata": {},
   "outputs": [],
   "source": [
    "x_gpu = cp.array([1,2,3])\n",
    "x_cpu = cp.asnumpy(x_gpu)\n",
    "#or\n",
    "x_cpu = x_gpu.get()"
   ]
  },
  {
   "cell_type": "code",
   "execution_count": null,
   "id": "bb96f40d-b413-458b-8aae-554b49fa194b",
   "metadata": {},
   "outputs": [],
   "source": [
    "x_cpu"
   ]
  },
  {
   "cell_type": "code",
   "execution_count": null,
   "id": "19c55e07-8932-452f-8bbc-7c37ad3246d1",
   "metadata": {},
   "outputs": [],
   "source": [
    "def softplus(x):\n",
    "    xp = cp.get_array_module(x)\n",
    "    print(\"Using:\", xp.__name__)\n",
    "    return xp.maximum(0,x) + xp.log1p(xp.exp(-abs(x))) "
   ]
  },
  {
   "cell_type": "code",
   "execution_count": null,
   "id": "f9cd41a5-021b-4b5d-af0b-db1dd9770e2c",
   "metadata": {},
   "outputs": [],
   "source": [
    "softplus(x_gpu)\n",
    "softplus(x_cpu)"
   ]
  },
  {
   "cell_type": "code",
   "execution_count": null,
   "id": "4d88af8b-d9e0-4583-8842-54d244511cd7",
   "metadata": {},
   "outputs": [],
   "source": [
    "x_cpu = np.array([1,2,3])\n",
    "y_cpu = np.array([4,5,6])\n",
    "print(x_cpu + y_cpu)\n",
    "x_gpu = cp.asarray(x_cpu)\n",
    "#x_gpu + y_cpu\n",
    "cp.asnumpy(x_gpu)+y_cpu\n",
    "cp.asnumpy(x_gpu)+cp.asnumpy(y_cpu)\n",
    "x_gpu + cp.asarray(y_cpu)\n",
    "cp.asarray(x_gpu) + cp.asarray(y_cpu)"
   ]
  },
  {
   "cell_type": "code",
   "execution_count": null,
   "id": "aee60ed4-bba3-46ab-abbd-1c1e97ec4f17",
   "metadata": {},
   "outputs": [],
   "source": [
    "#Elementwise kernel\n",
    "squared_diff = cp.ElementwiseKernel(\n",
    "    'float32 x, float32 y', #input\n",
    "    'float32 z', #output\n",
    "    'z = (x-y)*(x-y)', #loop body\n",
    "    'squared_diff') #name    "
   ]
  },
  {
   "cell_type": "code",
   "execution_count": null,
   "id": "49ec1a6c-d6eb-4b85-ba77-8c07254cb910",
   "metadata": {},
   "outputs": [],
   "source": [
    "x = cp.arange(10, dtype = np.float32).reshape(2,5)\n",
    "y = cp.arange(5, dtype = np.float32)\n",
    "squared_diff(x,y)\n",
    "squared_diff(x,5)"
   ]
  },
  {
   "cell_type": "code",
   "execution_count": null,
   "id": "ae1c64fb-5d05-41f6-8cc0-053c292f9e4e",
   "metadata": {},
   "outputs": [],
   "source": [
    "z = cp.empty((2,5),dtype = np.float32)\n",
    "squared_diff(x,y,z)"
   ]
  },
  {
   "cell_type": "code",
   "execution_count": null,
   "id": "6a3760f3-b423-4675-b096-b0fbf59d2663",
   "metadata": {},
   "outputs": [],
   "source": [
    "#Type-generic kernel\n",
    "squared_diff_generic = cp.ElementwiseKernel(\n",
    "    'T x, T y', #input\n",
    "    'T z', #output\n",
    "    'z = (x-y)*(x-y)', #loop body\n",
    "    'squared_diff_generic') #name    "
   ]
  },
  {
   "cell_type": "code",
   "execution_count": null,
   "id": "caadee4d-c41e-4fba-b9fd-123ccbf5fd02",
   "metadata": {},
   "outputs": [],
   "source": [
    "#Type-generic kernel\n",
    "squared_diff_generic = cp.ElementwiseKernel(\n",
    "    'T x, T y', #input\n",
    "    'T z', #output\n",
    "    '''\n",
    "        T diff = x-y\n",
    "        z = diff*diff''', #loop body\n",
    "    'squared_diff_generic') #name    "
   ]
  },
  {
   "cell_type": "code",
   "execution_count": null,
   "id": "b0e26fc5-ea09-4262-954d-889b2684a994",
   "metadata": {},
   "outputs": [],
   "source": [
    "#Type-generic kernel\n",
    "squared_diff_super_generic = cp.ElementwiseKernel(\n",
    "    'X x, Y y', #input\n",
    "    'Z z', #output\n",
    "    'z = (x-y)*(x-y)', #loop body\n",
    "    'squared_diff_super_generic') #name    "
   ]
  },
  {
   "cell_type": "code",
   "execution_count": null,
   "id": "e835d365-4747-4898-a86f-088110930131",
   "metadata": {},
   "outputs": [],
   "source": [
    "#raw indexing \n",
    "add_reverse = cp.ElementwiseKernel(\n",
    "    'T x, raw T y', 'T z', \n",
    "    'z = x + y[_ind.size() - i - 1]',\n",
    "    'add_reverse')\n",
    "# z = x + y[::-1]\n",
    "print(x)\n",
    "print(y)\n",
    "add_reverse(x,y)\n"
   ]
  },
  {
   "cell_type": "code",
   "execution_count": null,
   "id": "db3a7efc-a792-4880-a395-d1ce184bc3c6",
   "metadata": {},
   "outputs": [],
   "source": [
    "#TextureObject() # no idea how it works"
   ]
  },
  {
   "cell_type": "code",
   "execution_count": null,
   "id": "9c77c5da-bee0-4bfd-b64a-f14ee876b44f",
   "metadata": {},
   "outputs": [],
   "source": [
    "#Reduction kernels\n",
    "l2norm_kernel = cp.ReductionKernel(\n",
    "    'T x', #input\n",
    "    'T y', #output\n",
    "    'x * x', # map\n",
    "    'a+b', #reduce\n",
    "    'y = sqrt(a)', #post-production map \n",
    "    '0',#identity value\n",
    "    'l2norm' #kernel name\n",
    ")\n",
    "x = cp.arange(10, dtype = cp.float32).reshape(2,5)\n",
    "l2norm_kernel(x,axis=1)"
   ]
  },
  {
   "cell_type": "code",
   "execution_count": null,
   "id": "d1289a21-aab9-4c95-94fa-aaa48d89f61a",
   "metadata": {},
   "outputs": [],
   "source": [
    "#raw kernel by c code \n",
    "add_kernel = cp.RawKernel(r'''\n",
    "extern \"C\" __global__\n",
    "void my_add(const float* x1, const float* x2, float* y){\n",
    "    int tid = blockDim.x * blockIdx.x + threadIdx.x;\n",
    "    y[tid] = x1[tid] + x2[tid];\n",
    "}\n",
    "''', 'my_add')\n",
    "x1 = cp.arange(25,dtype=cp.float32).reshape(5,5)\n",
    "x2 = cp.arange(25,dtype=cp.float32).reshape(5,5)\n",
    "y = cp.zeros((5,5), dtype=cp.float32)\n",
    "add_kernel((5,),(5,),(x1,x2,y))\n",
    "y"
   ]
  },
  {
   "cell_type": "code",
   "execution_count": null,
   "id": "8ac04d92-1e00-49f4-af6a-baf26c337816",
   "metadata": {},
   "outputs": [],
   "source": [
    "#using complex variables \n",
    "complex_kernel = cp.RawKernel(r'''\n",
    "#include <cupy/complex.cuh>\n",
    "extern \"C\" __global__\n",
    "void my_func(const complex<float>* x1, const complex<float>* x2, complex<float>* y,float a){\n",
    "    int tid = blockDim.x * blockIdx.x + threadIdx.x;\n",
    "    y[tid] = x1[tid] + a*x2[tid];\n",
    "}\n",
    "''', 'my_func')\n",
    "x1 = cp.arange(25,dtype=cp.complex64).reshape(5,5)\n",
    "x2 = cp.arange(25,dtype=cp.complex64).reshape(5,5)\n",
    "y = cp.zeros((5,5), dtype=cp.complex64)\n",
    "complex_kernel((5,),(5,),(x1,x2,y,cp.float32(2.0)))\n",
    "y"
   ]
  },
  {
   "cell_type": "code",
   "execution_count": null,
   "id": "ad422580-8e72-4b14-812d-f0a83005096a",
   "metadata": {},
   "outputs": [],
   "source": [
    "add_kernel = cp.RawKernel(r'''\n",
    "extern \"C\" __global__\n",
    "void my_add(const float* x1, const float* x2, float* y){\n",
    "    int tid = blockDim.x * blockIdx.x + threadIdx.x;\n",
    "    y[tid] = x1[tid] + x2[tid];\n",
    "}\n",
    "''', 'my_add')\n",
    "add_kernel.attributes\n",
    "add_kernel.max_dynamic_shared_size_bytes\n",
    "\n",
    "add_kernel.max_dynamic_shared_size_bytes = 50000\n",
    "add_kernel.max_dynamic_shared_size_bytes"
   ]
  },
  {
   "cell_type": "code",
   "execution_count": null,
   "id": "8a80d4ba-f8c2-43d8-a19e-62a558592c7e",
   "metadata": {},
   "outputs": [],
   "source": [
    "# primitive types and numpy scalars passed by value\n",
    "# array should be nd array\n",
    "# no validation by cupy \n",
    "# dtype should match the one in c kernel \n",
    "# cp.float32 >> float* \n",
    "# cp.uint64 >> unsigned long long* \n",
    "# float3 : cupy doesn't support but you can cast in kernel only \n",
    "# int >> long long \n",
    "# float >> double \n",
    "# complex >> cuDoubleComplex\n",
    "# bool >> bool \n"
   ]
  },
  {
   "cell_type": "code",
   "execution_count": null,
   "id": "0feb98a4-2489-4ca7-a373-e365193f8344",
   "metadata": {},
   "outputs": [],
   "source": [
    "#custom user types\n",
    "import numpy as np \n",
    "names = ['x','y','z']\n",
    "types = [np.float32]*3\n",
    "float3 = np.dtype({'names':names,'formats':types})\n",
    "arg = np.random.rand(3).astype(np.float32).view(float3)\n",
    "print(arg)\n",
    "arg['x'] = 42.0\n",
    "print(arg)"
   ]
  },
  {
   "cell_type": "code",
   "execution_count": null,
   "id": "53092da2-02d0-4249-a54c-134d10fa138e",
   "metadata": {},
   "outputs": [],
   "source": [
    "import numpy as np\n",
    "float5x5 = np.dtype({'names':['dummy'],'formats':[(np.float32,(5,5))]})\n",
    "arg = np.random.rand(25).astype(np.float32).view(float5x5)\n",
    "print(arg.itemsize)\n",
    "arg"
   ]
  },
  {
   "cell_type": "code",
   "execution_count": null,
   "id": "e7f8dfc8-bd5a-4427-af2c-968583c8529c",
   "metadata": {},
   "outputs": [],
   "source": [
    "loaded_from_source = r'''\n",
    "extern \"C\"{\n",
    "\n",
    "__global__ void test_sum(const float* x1, const float* x2, float* y, unsigned int N)\n",
    "{ \n",
    "    unsigned int tid = blockDim.x * blockIdx.x + threadIdx.x;\n",
    "    if(tid < N)\n",
    "    {\n",
    "        y[tid] = x1[tid] + x2[tid];\n",
    "    }\n",
    "}\n",
    "\n",
    "__global__ void test_multiply(const float* x1, const float* x2, float* y, unsigned int N)\n",
    "{ \n",
    "    unsigned int tid = blockDim.x * blockIdx.x + threadIdx.x;\n",
    "    if(tid < N)\n",
    "    {\n",
    "        y[tid] = x1[tid] * x2[tid];\n",
    "    }\n",
    "}\n",
    "\n",
    "}'''\n",
    "module = cp.RawModule(code=loaded_from_source)\n",
    "ker_sum = module.get_function('test_sum')\n",
    "ker_times = module.get_function('test_multiply')\n",
    "N = 10\n",
    "x1 = cp.arange(N**2, dtype = cp.float32).reshape(N,N)\n",
    "x2 = cp.ones((N,N),dtype= cp.float32)\n",
    "y = cp.zeros((N,N),dtype = cp.float32)\n",
    "ker_sum((N,),(N,),(x1,x2,y,N**2))\n",
    "assert cp.allclose(y,x1+x2)\n",
    "print(y)\n",
    "print(y.device)\n",
    "ker_times((N,),(N,),(x1,x2,y,N**2))\n",
    "assert cp.allclose(y,x1*x2)\n",
    "y\n"
   ]
  },
  {
   "cell_type": "code",
   "execution_count": null,
   "id": "e96e6018-c848-4c67-b756-bc1b06c8d544",
   "metadata": {},
   "outputs": [],
   "source": [
    "#c++\n",
    "code = r'''\n",
    "template<typename T>\n",
    "__global__ void fx3(T* arr, int N){\n",
    "    unsigned int tid = blockIdx.x * blockDim.x + threadIdx.x;\n",
    "    if(tid<N){\n",
    "        arr[tid] = arr[tid]*3;\n",
    "    }\n",
    "}\n",
    "'''\n",
    "name_exp = ['fx3<float>', 'fx3<double>']\n",
    "mod = cp.RawModule(code = code,options = ('-std=c++11',),\n",
    "                   name_expressions = name_exp)\n",
    "ker_float = mod.get_function(name_exp[0])\n",
    "N = 10\n",
    "a = cp.arange(N,dtype=cp.float32)\n",
    "print(a)\n",
    "ker_float((1,),(N,),(a,N))\n",
    "\n",
    "ker_double = mod.get_function(name_exp[1])\n",
    "a = cp.arange(N,dtype=cp.float64)\n",
    "print(a)\n",
    "ker_double((1,),(N,),(a,N))\n",
    "a"
   ]
  },
  {
   "cell_type": "code",
   "execution_count": null,
   "id": "a4c663a3-8960-47c3-a5b3-794c8f48ccd4",
   "metadata": {},
   "outputs": [],
   "source": [
    "@cp.fuse()\n",
    "def squared_diff(x,y):\n",
    "    return (x-y)*(x-y)\n",
    "x = cp.arange(10, dtype = np.float32).reshape(2,5)\n",
    "y = cp.arange(5, dtype = np.float32)\n",
    "squared_diff(x,y)"
   ]
  },
  {
   "cell_type": "code",
   "execution_count": null,
   "id": "4952026c-1880-4289-97bf-849d4f10b6e6",
   "metadata": {},
   "outputs": [],
   "source": [
    "#jit kernel function \n",
    "from cupyx import jit \n",
    "@jit.rawkernel()\n",
    "def elementwise_copy(x,y,size):\n",
    "    tid = jit.blockIdx.x * jit.blockDim.x + jit.threadIdx.x\n",
    "    ntid = jit.gridDim.x * jit.blockDim.x\n",
    "    for i in range(tid,size,ntid):\n",
    "        y[i] = x[i]\n",
    "size = cp.uint32(2**22)\n",
    "x = cp.random.normal(size = (size,), dtype = cp.float32)\n",
    "y = cp.empty((size,),dtype=cp.float32)\n",
    "\n",
    "print(x)\n",
    "print(y)\n",
    "print(size)\n",
    "elementwise_copy((128,),(1024,),(x,y,size))\n",
    "assert(x==y).all()\n",
    "y\n",
    "\n",
    "elementwise_copy[128,1024](x,y,size)\n",
    "assert(x==y).all()\n",
    "y"
   ]
  },
  {
   "cell_type": "code",
   "execution_count": null,
   "id": "dfb8f205-1f2f-475b-a8f6-d1d8f96f852d",
   "metadata": {},
   "outputs": [],
   "source": [
    "#streams and events\n",
    "a_np = np.arange(10)\n",
    "s = cp.cuda.Stream()\n",
    "s\n",
    "with s:\n",
    "    a_cp = cp.asarray(a_np)\n",
    "    b_cp = cp.sum(a_cp)\n",
    "    assert s == cp.cuda.get_current_stream()"
   ]
  },
  {
   "cell_type": "code",
   "execution_count": null,
   "id": "2eba7a4f-23b8-4d0b-aa99-ff0d7b54938e",
   "metadata": {},
   "outputs": [],
   "source": [
    "#or by using use() method \n",
    "s = cp.cuda.Stream()\n",
    "s.use() \n",
    "b_np = cp.asnumpy(b_cp)\n",
    "assert s == cp.cuda.get_current_stream()\n",
    "cp.cuda.Stream.null.use()\n",
    "assert cp.cuda.Stream.null == cp.cuda.get_current_stream()"
   ]
  },
  {
   "cell_type": "code",
   "execution_count": null,
   "id": "375ac048-f7f8-4c2f-a8c3-e2176e229a50",
   "metadata": {},
   "outputs": [],
   "source": [
    "cp.cuda.Stream.null"
   ]
  },
  {
   "cell_type": "code",
   "execution_count": null,
   "id": "798877e9-c8fb-46b7-bd09-fadfe182ec76",
   "metadata": {},
   "outputs": [],
   "source": [
    "e1 = cp.cuda.Event()\n",
    "e1.record()\n",
    "a_cp = b_cp * a_cp + 8\n",
    "e2 = cp.cuda.get_current_stream().record()\n",
    "s2 = cp.cuda.Stream()\n",
    "s2.wait_event(e2)\n",
    "with s2: \n",
    "    a_np = cp.asnumpy(a_cp)\n",
    "e2.synchronize()\n",
    "t=cp.cuda.get_elapsed_time(e1,e2) #only include the compute time not the copy time"
   ]
  },
  {
   "cell_type": "code",
   "execution_count": null,
   "id": "0b5b91c5-f55d-4e31-bc70-7b34de610a54",
   "metadata": {},
   "outputs": [],
   "source": [
    "!nvidia_smi"
   ]
  }
 ],
 "metadata": {
  "kernelspec": {
   "display_name": "Python [conda env:geocat]",
   "language": "python",
   "name": "conda-env-geocat-py"
  },
  "language_info": {
   "codemirror_mode": {
    "name": "ipython",
    "version": 3
   },
   "file_extension": ".py",
   "mimetype": "text/x-python",
   "name": "python",
   "nbconvert_exporter": "python",
   "pygments_lexer": "ipython3",
   "version": "3.10.4"
  }
 },
 "nbformat": 4,
 "nbformat_minor": 5
}
