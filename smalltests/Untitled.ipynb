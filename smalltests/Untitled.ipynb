{
 "cells": [
  {
   "cell_type": "code",
   "execution_count": 1,
   "id": "9927c140-58f1-4242-a0bc-f7d1037a1925",
   "metadata": {},
   "outputs": [],
   "source": [
    "import pandas as pd"
   ]
  },
  {
   "cell_type": "code",
   "execution_count": 3,
   "id": "fdd65c75-1989-49bc-86c8-d90073df91dd",
   "metadata": {},
   "outputs": [
    {
     "data": {
      "text/plain": [
       "'/glade/u/home/hkashgar/GPU_data_analysis_rapids/smalltests'"
      ]
     },
     "execution_count": 3,
     "metadata": {},
     "output_type": "execute_result"
    }
   ],
   "source": [
    "pwd()"
   ]
  },
  {
   "cell_type": "code",
   "execution_count": 34,
   "id": "352bcdcf-2672-4867-850c-5a49f3a13e9e",
   "metadata": {},
   "outputs": [],
   "source": [
    "csv = pd.read_csv(\"../geocat-comp/relhum_ported_test.csv\")"
   ]
  },
  {
   "cell_type": "code",
   "execution_count": 36,
   "id": "c1e60ed4-c03c-49ce-9610-11f293730d2c",
   "metadata": {},
   "outputs": [
    {
     "data": {
      "text/html": [
       "<div>\n",
       "<style scoped>\n",
       "    .dataframe tbody tr th:only-of-type {\n",
       "        vertical-align: middle;\n",
       "    }\n",
       "\n",
       "    .dataframe tbody tr th {\n",
       "        vertical-align: top;\n",
       "    }\n",
       "\n",
       "    .dataframe thead th {\n",
       "        text-align: right;\n",
       "    }\n",
       "</style>\n",
       "<table border=\"1\" class=\"dataframe\">\n",
       "  <thead>\n",
       "    <tr style=\"text-align: right;\">\n",
       "      <th></th>\n",
       "      <th>Routine</th>\n",
       "      <th>Input</th>\n",
       "      <th>Approach</th>\n",
       "      <th>ArraySize</th>\n",
       "      <th>iteration</th>\n",
       "      <th>Runtime(s)</th>\n",
       "    </tr>\n",
       "  </thead>\n",
       "  <tbody>\n",
       "    <tr>\n",
       "      <th>0</th>\n",
       "      <td>Relhum</td>\n",
       "      <td>NumPy input</td>\n",
       "      <td>numpy</td>\n",
       "      <td>10</td>\n",
       "      <td>1</td>\n",
       "      <td>0.000291</td>\n",
       "    </tr>\n",
       "    <tr>\n",
       "      <th>1</th>\n",
       "      <td>Relhum</td>\n",
       "      <td>NumPy input</td>\n",
       "      <td>numpy</td>\n",
       "      <td>10</td>\n",
       "      <td>2</td>\n",
       "      <td>0.000068</td>\n",
       "    </tr>\n",
       "    <tr>\n",
       "      <th>2</th>\n",
       "      <td>Relhum</td>\n",
       "      <td>NumPy input</td>\n",
       "      <td>numpy</td>\n",
       "      <td>10</td>\n",
       "      <td>3</td>\n",
       "      <td>0.000062</td>\n",
       "    </tr>\n",
       "    <tr>\n",
       "      <th>3</th>\n",
       "      <td>Relhum</td>\n",
       "      <td>NumPy input</td>\n",
       "      <td>numpy</td>\n",
       "      <td>10</td>\n",
       "      <td>4</td>\n",
       "      <td>0.000059</td>\n",
       "    </tr>\n",
       "    <tr>\n",
       "      <th>4</th>\n",
       "      <td>Relhum</td>\n",
       "      <td>NumPy input</td>\n",
       "      <td>numpy</td>\n",
       "      <td>10</td>\n",
       "      <td>5</td>\n",
       "      <td>0.000058</td>\n",
       "    </tr>\n",
       "    <tr>\n",
       "      <th>...</th>\n",
       "      <td>...</td>\n",
       "      <td>...</td>\n",
       "      <td>...</td>\n",
       "      <td>...</td>\n",
       "      <td>...</td>\n",
       "      <td>...</td>\n",
       "    </tr>\n",
       "    <tr>\n",
       "      <th>375</th>\n",
       "      <td>Relhum</td>\n",
       "      <td>Xarray with Dask array input</td>\n",
       "      <td>cupy</td>\n",
       "      <td>100000</td>\n",
       "      <td>6</td>\n",
       "      <td>15.673182</td>\n",
       "    </tr>\n",
       "    <tr>\n",
       "      <th>376</th>\n",
       "      <td>Relhum</td>\n",
       "      <td>Xarray with Dask array input</td>\n",
       "      <td>cupy</td>\n",
       "      <td>100000</td>\n",
       "      <td>7</td>\n",
       "      <td>15.832512</td>\n",
       "    </tr>\n",
       "    <tr>\n",
       "      <th>377</th>\n",
       "      <td>Relhum</td>\n",
       "      <td>Xarray with Dask array input</td>\n",
       "      <td>cupy</td>\n",
       "      <td>100000</td>\n",
       "      <td>8</td>\n",
       "      <td>15.651232</td>\n",
       "    </tr>\n",
       "    <tr>\n",
       "      <th>378</th>\n",
       "      <td>Relhum</td>\n",
       "      <td>Xarray with Dask array input</td>\n",
       "      <td>cupy</td>\n",
       "      <td>100000</td>\n",
       "      <td>9</td>\n",
       "      <td>15.802431</td>\n",
       "    </tr>\n",
       "    <tr>\n",
       "      <th>379</th>\n",
       "      <td>Relhum</td>\n",
       "      <td>Xarray with Dask array input</td>\n",
       "      <td>cupy</td>\n",
       "      <td>100000</td>\n",
       "      <td>10</td>\n",
       "      <td>15.664091</td>\n",
       "    </tr>\n",
       "  </tbody>\n",
       "</table>\n",
       "<p>380 rows × 6 columns</p>\n",
       "</div>"
      ],
      "text/plain": [
       "    Routine                         Input Approach  ArraySize  iteration  \\\n",
       "0    Relhum                   NumPy input    numpy         10          1   \n",
       "1    Relhum                   NumPy input    numpy         10          2   \n",
       "2    Relhum                   NumPy input    numpy         10          3   \n",
       "3    Relhum                   NumPy input    numpy         10          4   \n",
       "4    Relhum                   NumPy input    numpy         10          5   \n",
       "..      ...                           ...      ...        ...        ...   \n",
       "375  Relhum  Xarray with Dask array input     cupy     100000          6   \n",
       "376  Relhum  Xarray with Dask array input     cupy     100000          7   \n",
       "377  Relhum  Xarray with Dask array input     cupy     100000          8   \n",
       "378  Relhum  Xarray with Dask array input     cupy     100000          9   \n",
       "379  Relhum  Xarray with Dask array input     cupy     100000         10   \n",
       "\n",
       "     Runtime(s)  \n",
       "0      0.000291  \n",
       "1      0.000068  \n",
       "2      0.000062  \n",
       "3      0.000059  \n",
       "4      0.000058  \n",
       "..          ...  \n",
       "375   15.673182  \n",
       "376   15.832512  \n",
       "377   15.651232  \n",
       "378   15.802431  \n",
       "379   15.664091  \n",
       "\n",
       "[380 rows x 6 columns]"
      ]
     },
     "execution_count": 36,
     "metadata": {},
     "output_type": "execute_result"
    }
   ],
   "source": [
    "csv"
   ]
  },
  {
   "cell_type": "code",
   "execution_count": 37,
   "id": "be1b1d8e-0465-4fa9-a985-5f5016880d51",
   "metadata": {},
   "outputs": [
    {
     "data": {
      "text/plain": [
       "array(['NumPy input', 'Xarray with Dask array input',\n",
       "       'Xarray with NumPy input'], dtype=object)"
      ]
     },
     "execution_count": 37,
     "metadata": {},
     "output_type": "execute_result"
    }
   ],
   "source": [
    "np.unique(csv['Input'])"
   ]
  },
  {
   "cell_type": "code",
   "execution_count": 30,
   "id": "e6807932-d8bf-45cd-8414-6601e99cf39e",
   "metadata": {},
   "outputs": [],
   "source": [
    "import matplotlib.pyplot as plt\n",
    "import numpy as np\n",
    "\n",
    "def plot(allData,name):\n",
    "    arraysizes = np.unique(allData['ArraySize'])\n",
    "    sd_numpy = np.zeros(len(arraysizes))\n",
    "    sd_cupy = np.zeros(len(arraysizes))\n",
    "    y_numpy = np.zeros(len(arraysizes))\n",
    "    y_cupy = np.zeros(len(arraysizes))\n",
    "    plt.rcParams.update({'font.size': 16})\n",
    "    for i in range(0,len(arraysizes)):\n",
    "        cupydata = allData.loc[(allData['ArraySize'] == arraysizes[i]) & (allData['Approach'] == 'cupy')]\n",
    "        numpydata = allData.loc[(allData['ArraySize'] == arraysizes[i]) & (allData['Approach'] == 'numpy')]\n",
    "        y_cupy[i] = np.mean(cupydata['Runtime(s)'])\n",
    "        y_numpy[i] = np.mean(numpydata['Runtime(s)'])\n",
    "        sd_cupy[i] = np.std(cupydata['Runtime(s)'])\n",
    "        sd_numpy[i] = np.std(numpydata['Runtime(s)'])\n",
    "    fig, ax = plt.subplots(figsize=(9, 6))\n",
    "    ax.errorbar(arraysizes, y_numpy, yerr=sd_numpy, fmt='-o')\n",
    "    ax.errorbar(arraysizes, y_cupy, yerr=sd_cupy, fmt='-o')\n",
    "    ax.plot(arraysizes, y_numpy, label='numpy',color=\"steelblue\")\n",
    "    ax.plot(arraysizes, y_cupy, label='cupy',color=\"darkorange\")  # Plot more data on the axes...\n",
    "    ax.legend();  # Add a legend.\n",
    "    ax.set_xlabel('ArraySize')  # Add an x-label to the axes.\n",
    "    ax.set_ylabel('Runtime(s)')  # Add a y-label to the axes.\n",
    "    ax.set_title((\"Test_relhum\"))\n",
    "    ax.set_xscale('log')\n",
    "    ax.set_yscale('log')\n",
    "    plt.savefig(name,dpi=fig.dpi)"
   ]
  },
  {
   "cell_type": "code",
   "execution_count": 31,
   "id": "240dc275-620c-4136-96f2-1cf8dc854c5d",
   "metadata": {},
   "outputs": [
    {
     "data": {
      "image/png": "[encoded data removed]",
      "text/plain": [
       "<Figure size 648x432 with 1 Axes>"
      ]
     },
     "metadata": {
      "needs_background": "light"
     },
     "output_type": "display_data"
    }
   ],
   "source": [
    "plot(csv,\"Test_relhum.jpg\")"
   ]
  }
 ],
 "metadata": {
  "kernelspec": {
   "display_name": "Python 3 (ipykernel)",
   "language": "python",
   "name": "python3"
  },
  "language_info": {
   "codemirror_mode": {
    "name": "ipython",
    "version": 3
   },
   "file_extension": ".py",
   "mimetype": "text/x-python",
   "name": "python",
   "nbconvert_exporter": "python",
   "pygments_lexer": "ipython3",
   "version": "3.9.12"
  }
 },
 "nbformat": 4,
 "nbformat_minor": 5
}
