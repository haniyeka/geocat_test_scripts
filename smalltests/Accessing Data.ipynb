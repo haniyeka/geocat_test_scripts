{
 "cells": [
  {
   "cell_type": "code",
   "execution_count": 1,
   "id": "9bc3e661-a83f-4ab4-ae31-a1df5a9e02f7",
   "metadata": {},
   "outputs": [],
   "source": [
    "# Display output of plots directly in Notebook\n",
    "%matplotlib inline\n",
    "import warnings\n",
    "warnings.filterwarnings(\"ignore\")\n",
    "\n",
    "import intake\n",
    "import numpy as np\n",
    "import pandas as pd\n",
    "import xarray as xr\n",
    "\n",
    "from dask.distributed import Client\n",
    "from dask_cuda import LocalCUDACluster\n"
   ]
  },
  {
   "cell_type": "code",
   "execution_count": null,
   "id": "4d896ef0-320c-41ac-a608-4d8f6dfacff4",
   "metadata": {},
   "outputs": [],
   "source": [
    "cluster = LocalCUDACluster()\n",
    "client = Client(cluster)\n",
    "client"
   ]
  },
  {
   "cell_type": "code",
   "execution_count": null,
   "id": "cd5c1ab1-7f53-49ce-88cc-7abc42ea86fa",
   "metadata": {},
   "outputs": [],
   "source": [
    "# Open collection description file\n",
    "catalog_url = 'https://ncar-cesm-lens.s3-us-west-2.amazonaws.com/catalogs/aws-cesm1-le.json'\n",
    "col = intake.open_esm_datastore(catalog_url)\n",
    "col"
   ]
  },
  {
   "cell_type": "code",
   "execution_count": null,
   "id": "824a5b8a-8d1c-45bb-b8f4-48c2a607ebd3",
   "metadata": {},
   "outputs": [],
   "source": [
    "col.df.head(1000)"
   ]
  },
  {
   "cell_type": "code",
   "execution_count": null,
   "id": "823ff6c2-a5b6-476f-89f2-c5a591051853",
   "metadata": {},
   "outputs": [],
   "source": [
    "# Show expanded version of collection structure with details\n",
    "import pprint\n",
    "uniques = col.unique(columns=[\"component\", \"frequency\", \"experiment\", \"variable\"])\n",
    "pprint.pprint(uniques, compact=True, indent=4)"
   ]
  },
  {
   "cell_type": "code",
   "execution_count": null,
   "id": "8b75b25e-58f4-406a-9629-38c057905457",
   "metadata": {},
   "outputs": [],
   "source": [
    "col_subset = col.search(frequency=[\"daily\",\"monthly\"], component=\"lnd\",\n",
    "                        #variable=[\"SST\"],\n",
    "                        experiment=[\"RCP85\"])\n",
    "\n",
    "col_subset"
   ]
  },
  {
   "cell_type": "code",
   "execution_count": null,
   "id": "14aa9e67-3a34-4733-b924-03d3cb5bc6e0",
   "metadata": {},
   "outputs": [],
   "source": [
    "col_subset.df"
   ]
  },
  {
   "cell_type": "code",
   "execution_count": null,
   "id": "31f86294-7032-487b-96cf-39b5baefede8",
   "metadata": {},
   "outputs": [],
   "source": [
    "# Load catalog entries for subset into a dictionary of xarray datasets\n",
    "#!pip install s3fs\n",
    "dsets = col_subset.to_dataset_dict(zarr_kwargs={\"consolidated\": True, 'use_cftime': True, 'decode_times': True}, storage_options={\"anon\": True})\n",
    "print(f\"\\nDataset dictionary keys:\\n {dsets.keys()}\")"
   ]
  },
  {
   "cell_type": "code",
   "execution_count": null,
   "id": "0c73bdef-fb96-4e57-8709-9a7ccf5c6327",
   "metadata": {},
   "outputs": [],
   "source": [
    "# Define Xarray datasets corresponding to the three experiments\n",
    "ds_RCP85 = dsets['lnd.RCP85.daily']\n",
    "ds_RCP85"
   ]
  },
  {
   "cell_type": "code",
   "execution_count": null,
   "id": "75be5445-efea-4774-ab4a-2b3e17a9d892",
   "metadata": {},
   "outputs": [],
   "source": [
    "dsets"
   ]
  },
  {
   "cell_type": "code",
   "execution_count": null,
   "id": "8debbcde-f5b6-4aaa-8bda-ad7f6fccbdf9",
   "metadata": {},
   "outputs": [],
   "source": [
    "# Use Dask.Distributed utility function to display size of each dataset\n",
    "from distributed.utils import format_bytes\n",
    "print(f\"RCP8.5: {format_bytes(ds_RCP85.nbytes)}\")"
   ]
  },
  {
   "cell_type": "code",
   "execution_count": null,
   "id": "7b64c3c0-ddb2-46e4-9878-207464b817e9",
   "metadata": {},
   "outputs": [],
   "source": [
    "len(ds_RCP85[\"FSNO\"].time.data)"
   ]
  },
  {
   "cell_type": "code",
   "execution_count": null,
   "id": "fa8a2525-38fc-415f-af78-a8629a23e03c",
   "metadata": {},
   "outputs": [],
   "source": [
    "# Extract the Reference Height Temperature data variable\n",
    "t_rcp_FSNO = ds_RCP85[\"FSNO\"]\n",
    "t_rcp_FSNO"
   ]
  },
  {
   "cell_type": "code",
   "execution_count": null,
   "id": "73170c9e-bf33-47f1-9780-4ccfe84f229a",
   "metadata": {},
   "outputs": [],
   "source": [
    "t_rcp_FSNO.time.data"
   ]
  },
  {
   "cell_type": "code",
   "execution_count": null,
   "id": "fdee3d39-b899-493f-9e5c-9d34cfdb9fe3",
   "metadata": {},
   "outputs": [],
   "source": [
    "# The global surface temperature anomaly was computed relative to the 1961-90 base period\n",
    "# in the Kay et al. paper, so extract that time slice\n",
    "t_ref = t_rcp_FSNO.sel(time=slice(\"2006\"))\n",
    "t_ref"
   ]
  },
  {
   "cell_type": "code",
   "execution_count": null,
   "id": "13b4e7e6-dd1b-4a85-83ea-7fe90a6f798f",
   "metadata": {},
   "outputs": [],
   "source": [
    "!python --version"
   ]
  },
  {
   "cell_type": "code",
   "execution_count": null,
   "id": "a12f23ab-8b64-4c66-87ff-3e1e249745f4",
   "metadata": {},
   "outputs": [],
   "source": [
    "catalog_url = \"https://ncar-cesm-lens.s3-us-west-2.amazonaws.com/catalogs/aws-cesm1-le.json\"\n",
    "col = intake.open_esm_datastore(catalog_url)\n",
    "col"
   ]
  },
  {
   "cell_type": "code",
   "execution_count": null,
   "id": "1ed4575f-3a4c-4200-947b-b3c8fbd4fed9",
   "metadata": {},
   "outputs": [],
   "source": [
    "col_subset = col.search(\n",
    "    frequency=[\"daily\"],\n",
    "    component=\"atm\",\n",
    "    variable=[\"TREFHT\",\"QBOT\"],\n",
    "    experiment=[\"RCP85\"],\n",
    ")\n",
    "\n",
    "col_subset"
   ]
  },
  {
   "cell_type": "code",
   "execution_count": null,
   "id": "b7a1055a-c59b-4a6b-98bd-6a14b2bedd24",
   "metadata": {},
   "outputs": [],
   "source": [
    "col_subset.df"
   ]
  },
  {
   "cell_type": "code",
   "execution_count": null,
   "id": "e1b47898-c1b2-43ed-a9a1-bc26d6bf4643",
   "metadata": {},
   "outputs": [],
   "source": [
    "dsets = col_subset.to_dataset_dict(zarr_kwargs={\"consolidated\": True, 'use_cftime': True, 'decode_times': True}, storage_options={\"anon\": True})"
   ]
  },
  {
   "cell_type": "code",
   "execution_count": null,
   "id": "3412d560-956c-4f6a-90eb-630f3f11b01f",
   "metadata": {},
   "outputs": [],
   "source": [
    "ds = dsets['atm.RCP85.daily']\n",
    "ds"
   ]
  },
  {
   "cell_type": "code",
   "execution_count": null,
   "id": "fdb9330b-7e8a-485a-b196-fd5575536a03",
   "metadata": {},
   "outputs": [],
   "source": [
    "lat = ds.lat.data\n",
    "nlat = len(lat)\n",
    "lon = ds.lon.data\n",
    "nlon = len(lon)"
   ]
  },
  {
   "cell_type": "code",
   "execution_count": null,
   "id": "920035be-dcca-4d2f-9bdd-3bc4c8ec6f8b",
   "metadata": {},
   "outputs": [],
   "source": [
    "import pickle\n",
    "elevation = pickle.load(open(\"elevation.pkl\", \"rb\"))\n",
    "lat = lat[30:160]\n",
    "nlat = len(lat)\n",
    "elevation = elevation[:][30:160]"
   ]
  },
  {
   "cell_type": "code",
   "execution_count": 2,
   "id": "1384d7c3-f0d6-411f-a765-3dc8048e183a",
   "metadata": {},
   "outputs": [
    {
     "name": "stdout",
     "output_type": "stream",
     "text": [
      "This function calculates the relative humidity given temperature, mixing\n",
      "    ratio, and pressure.\n",
      "\n",
      "    \"Improved Magnus' Form Approx. of Saturation Vapor pressure\"\n",
      "    Oleg A. Alduchov and Robert E. Eskridge\n",
      "    https://www.osti.gov/scitech/servlets/purl/548871/\n",
      "    https://doi.org/10.2172/548871\n",
      "\n",
      "    Parameters\n",
      "    ----------\n",
      "    temperature : :class:`numpy.ndarray`, :class:`xarray.DataArray`, :obj:`list`, or :obj:`float`\n",
      "        Temperature in Kelvin\n",
      "\n",
      "    mixing_ratio : :class:`numpy.ndarray`, :class:`xarray.DataArray`, :obj:`list`, or :obj:`float`\n",
      "        Mixing ratio in kg/kg. Must have the same dimensions as temperature\n",
      "\n",
      "    pressure : :class:`numpy.ndarray`, :class:`xarray.DataArray`, :obj:`list`, or :obj:`float`\n",
      "        Pressure in Pa. Must have the same dimensions as temperature\n",
      "\n",
      "    Returns\n",
      "    -------\n",
      "    relative_humidity : :class:`numpy.ndarray` or :class:`xarray.DataArray`\n",
      "        Relative humidity. Will have the same dimensions as temperature\n",
      "\n",
      "\n",
      "    See Also\n",
      "    --------\n",
      "    Related GeoCAT Functions:\n",
      "    `_xrelhum <https://geocat-comp.readthedocs.io/en/latest/internal_api/generated/geocat.comp.meteorology._xrelhum.html#geocat.comp.meteorology._xrelhum>`_,\n",
      "    `relhum_ice <https://geocat-comp.readthedocs.io/en/latest/user_api/generated/geocat.comp.meteorology.relhum_ice.html#geocat.comp.meteorology.relhum_ice>`_,\n",
      "    `relhum_water <https://geocat-comp.readthedocs.io/en/latest/user_api/generated/geocat.comp.meteorology.relhum_water.html#geocat.comp.meteorology.relhum_water>`_\n",
      "\n",
      "    Related NCL Functions:\n",
      "    `relhum <https://www.ncl.ucar.edu/Document/Functions/Built-in/relhum.shtml>`_,\n",
      "    `relhum_ttd <https://www.ncl.ucar.edu/Document/Functions/Contributed/relhum_ttd.shtml>`_,\n",
      "    `relhum_ice <https://www.ncl.ucar.edu/Document/Functions/Built-in/relhum_ice.shtml>`_,\n",
      "    `relhum_water <https://www.ncl.ucar.edu/Document/Functions/Built-in/relhum_water.shtml>`_\n",
      "    \n",
      "This function calculates the dew point temperature given temperature and\n",
      "    relative humidity using equations from John Dutton's \"Ceaseless Wind\" (pp\n",
      "    273-274)\n",
      "\n",
      "    Parameters\n",
      "    ----------\n",
      "    temperature : :class:`numpy.ndarray`, :class:`xarray.DataArray`, :obj:`list`, or :obj:`float`\n",
      "        Temperature in Kelvin\n",
      "\n",
      "    relative_humidity : :class:`numpy.ndarray`, :class:`xarray.DataArray`, :obj:`list`, or :obj:`float`\n",
      "        Relative humidity. Must be the same dimensions as temperature\n",
      "\n",
      "    Returns\n",
      "    -------\n",
      "    dew_pnt_temp : :class:`numpy.ndarray` or :obj:`float`\n",
      "        Dewpoint temperature in Kelvin. Same size as input variable temperature\n",
      "\n",
      "    See Also\n",
      "    --------\n",
      "    Related GeoCAT Functions:\n",
      "    `_dewtemp <https://geocat-comp.readthedocs.io/en/latest/internal_api/generated/geocat.comp.meteorology._dewtemp.html#geocat.comp.meteorology._dewtemp>`_\n",
      "\n",
      "    Related NCL Functions:\n",
      "    `dewtemp_trh <https://www.ncl.ucar.edu/Document/Functions/Built-in/dewtemp_trh.shtml>`_\n",
      "    \n"
     ]
    }
   ],
   "source": [
    "import geocat.comp as gc\n",
    "print(gc.relhum.__doc__)\n",
    "print(gc.dewtemp.__doc__)"
   ]
  },
  {
   "cell_type": "code",
   "execution_count": 8,
   "id": "26ab55db-445b-4558-acff-ae491eb93cf3",
   "metadata": {},
   "outputs": [],
   "source": [
    "from ncar_jobqueue import NCARCluster\n",
    "import dask.distributed as dd\n",
    "cluster = NCARCluster()\n",
    "cluster.scale(jobs=1)\n",
    "client = dd.Client(cluster)"
   ]
  },
  {
   "cell_type": "code",
   "execution_count": 9,
   "id": "d7ab0d64-52ab-4801-b61e-6c6972fb8cbc",
   "metadata": {},
   "outputs": [
    {
     "data": {
      "text/html": [
       "<div>\n",
       "    <div style=\"width: 24px; height: 24px; background-color: #e1e1e1; border: 3px solid #9D9D9D; border-radius: 5px; position: absolute;\"> </div>\n",
       "    <div style=\"margin-left: 48px;\">\n",
       "        <h3 style=\"margin-bottom: 0px;\">Client</h3>\n",
       "        <p style=\"color: #9D9D9D; margin-bottom: 0px;\">Client-6e957108-f71c-11ec-8740-3cecef0c464c</p>\n",
       "        <table style=\"width: 100%; text-align: left;\">\n",
       "\n",
       "        <tr>\n",
       "        \n",
       "            <td style=\"text-align: left;\"><strong>Connection method:</strong> Cluster object</td>\n",
       "            <td style=\"text-align: left;\"><strong>Cluster type:</strong> dask_jobqueue.PBSCluster</td>\n",
       "        \n",
       "        </tr>\n",
       "\n",
       "        \n",
       "            <tr>\n",
       "                <td style=\"text-align: left;\">\n",
       "                    <strong>Dashboard: </strong> <a href=\"https://jupyterhub.hpc.ucar.edu/stable/user/hkashgar/proxy/33407/status\" target=\"_blank\">https://jupyterhub.hpc.ucar.edu/stable/user/hkashgar/proxy/33407/status</a>\n",
       "                </td>\n",
       "                <td style=\"text-align: left;\"></td>\n",
       "            </tr>\n",
       "        \n",
       "\n",
       "        </table>\n",
       "\n",
       "        \n",
       "            <details>\n",
       "            <summary style=\"margin-bottom: 20px;\"><h3 style=\"display: inline;\">Cluster Info</h3></summary>\n",
       "            <div class=\"jp-RenderedHTMLCommon jp-RenderedHTML jp-mod-trusted jp-OutputArea-output\">\n",
       "    <div style=\"width: 24px; height: 24px; background-color: #e1e1e1; border: 3px solid #9D9D9D; border-radius: 5px; position: absolute;\">\n",
       "    </div>\n",
       "    <div style=\"margin-left: 48px;\">\n",
       "        <h3 style=\"margin-bottom: 0px; margin-top: 0px;\">PBSCluster</h3>\n",
       "        <p style=\"color: #9D9D9D; margin-bottom: 0px;\">3f04f94e</p>\n",
       "        <table style=\"width: 100%; text-align: left;\">\n",
       "            <tr>\n",
       "                <td style=\"text-align: left;\">\n",
       "                    <strong>Dashboard:</strong> <a href=\"https://jupyterhub.hpc.ucar.edu/stable/user/hkashgar/proxy/33407/status\" target=\"_blank\">https://jupyterhub.hpc.ucar.edu/stable/user/hkashgar/proxy/33407/status</a>\n",
       "                </td>\n",
       "                <td style=\"text-align: left;\">\n",
       "                    <strong>Workers:</strong> 2\n",
       "                </td>\n",
       "            </tr>\n",
       "            <tr>\n",
       "                <td style=\"text-align: left;\">\n",
       "                    <strong>Total threads:</strong> 4\n",
       "                </td>\n",
       "                <td style=\"text-align: left;\">\n",
       "                    <strong>Total memory:</strong> 46.56 GiB\n",
       "                </td>\n",
       "            </tr>\n",
       "            \n",
       "        </table>\n",
       "\n",
       "        <details>\n",
       "            <summary style=\"margin-bottom: 20px;\">\n",
       "                <h3 style=\"display: inline;\">Scheduler Info</h3>\n",
       "            </summary>\n",
       "\n",
       "            <div style=\"\">\n",
       "    <div>\n",
       "        <div style=\"width: 24px; height: 24px; background-color: #FFF7E5; border: 3px solid #FF6132; border-radius: 5px; position: absolute;\"> </div>\n",
       "        <div style=\"margin-left: 48px;\">\n",
       "            <h3 style=\"margin-bottom: 0px;\">Scheduler</h3>\n",
       "            <p style=\"color: #9D9D9D; margin-bottom: 0px;\">Scheduler-ec0fff98-7e38-4f15-9a68-555df0f7f375</p>\n",
       "            <table style=\"width: 100%; text-align: left;\">\n",
       "                <tr>\n",
       "                    <td style=\"text-align: left;\">\n",
       "                        <strong>Comm:</strong> tcp://10.12.205.44:34394\n",
       "                    </td>\n",
       "                    <td style=\"text-align: left;\">\n",
       "                        <strong>Workers:</strong> 2\n",
       "                    </td>\n",
       "                </tr>\n",
       "                <tr>\n",
       "                    <td style=\"text-align: left;\">\n",
       "                        <strong>Dashboard:</strong> <a href=\"https://jupyterhub.hpc.ucar.edu/stable/user/hkashgar/proxy/33407/status\" target=\"_blank\">https://jupyterhub.hpc.ucar.edu/stable/user/hkashgar/proxy/33407/status</a>\n",
       "                    </td>\n",
       "                    <td style=\"text-align: left;\">\n",
       "                        <strong>Total threads:</strong> 4\n",
       "                    </td>\n",
       "                </tr>\n",
       "                <tr>\n",
       "                    <td style=\"text-align: left;\">\n",
       "                        <strong>Started:</strong> Just now\n",
       "                    </td>\n",
       "                    <td style=\"text-align: left;\">\n",
       "                        <strong>Total memory:</strong> 46.56 GiB\n",
       "                    </td>\n",
       "                </tr>\n",
       "            </table>\n",
       "        </div>\n",
       "    </div>\n",
       "\n",
       "    <details style=\"margin-left: 48px;\">\n",
       "        <summary style=\"margin-bottom: 20px;\">\n",
       "            <h3 style=\"display: inline;\">Workers</h3>\n",
       "        </summary>\n",
       "\n",
       "        \n",
       "        <div style=\"margin-bottom: 20px;\">\n",
       "            <div style=\"width: 24px; height: 24px; background-color: #DBF5FF; border: 3px solid #4CC9FF; border-radius: 5px; position: absolute;\"> </div>\n",
       "            <div style=\"margin-left: 48px;\">\n",
       "            <details>\n",
       "                <summary>\n",
       "                    <h4 style=\"margin-bottom: 0px; display: inline;\">Worker: PBSCluster-0</h4>\n",
       "                </summary>\n",
       "                <table style=\"width: 100%; text-align: left;\">\n",
       "                    <tr>\n",
       "                        <td style=\"text-align: left;\">\n",
       "                            <strong>Comm: </strong> tcp://10.12.206.54:35141\n",
       "                        </td>\n",
       "                        <td style=\"text-align: left;\">\n",
       "                            <strong>Total threads: </strong> 2\n",
       "                        </td>\n",
       "                    </tr>\n",
       "                    <tr>\n",
       "                        <td style=\"text-align: left;\">\n",
       "                            <strong>Dashboard: </strong> <a href=\"https://jupyterhub.hpc.ucar.edu/stable/user/hkashgar/proxy/39043/status\" target=\"_blank\">https://jupyterhub.hpc.ucar.edu/stable/user/hkashgar/proxy/39043/status</a>\n",
       "                        </td>\n",
       "                        <td style=\"text-align: left;\">\n",
       "                            <strong>Memory: </strong> 23.28 GiB\n",
       "                        </td>\n",
       "                    </tr>\n",
       "                    <tr>\n",
       "                        <td style=\"text-align: left;\">\n",
       "                            <strong>Nanny: </strong> tcp://10.12.206.54:37637\n",
       "                        </td>\n",
       "                        <td style=\"text-align: left;\"></td>\n",
       "                    </tr>\n",
       "                    <tr>\n",
       "                        <td colspan=\"2\" style=\"text-align: left;\">\n",
       "                            <strong>Local directory: </strong> /glade/scratch/hkashgar/dask/casper-dav/local-dir/dask-worker-space/worker-0qp7rn6t\n",
       "                        </td>\n",
       "                    </tr>\n",
       "\n",
       "                    \n",
       "\n",
       "                    \n",
       "\n",
       "                </table>\n",
       "            </details>\n",
       "            </div>\n",
       "        </div>\n",
       "        \n",
       "        <div style=\"margin-bottom: 20px;\">\n",
       "            <div style=\"width: 24px; height: 24px; background-color: #DBF5FF; border: 3px solid #4CC9FF; border-radius: 5px; position: absolute;\"> </div>\n",
       "            <div style=\"margin-left: 48px;\">\n",
       "            <details>\n",
       "                <summary>\n",
       "                    <h4 style=\"margin-bottom: 0px; display: inline;\">Worker: PBSCluster-1</h4>\n",
       "                </summary>\n",
       "                <table style=\"width: 100%; text-align: left;\">\n",
       "                    <tr>\n",
       "                        <td style=\"text-align: left;\">\n",
       "                            <strong>Comm: </strong> tcp://10.12.206.54:46137\n",
       "                        </td>\n",
       "                        <td style=\"text-align: left;\">\n",
       "                            <strong>Total threads: </strong> 2\n",
       "                        </td>\n",
       "                    </tr>\n",
       "                    <tr>\n",
       "                        <td style=\"text-align: left;\">\n",
       "                            <strong>Dashboard: </strong> <a href=\"https://jupyterhub.hpc.ucar.edu/stable/user/hkashgar/proxy/38625/status\" target=\"_blank\">https://jupyterhub.hpc.ucar.edu/stable/user/hkashgar/proxy/38625/status</a>\n",
       "                        </td>\n",
       "                        <td style=\"text-align: left;\">\n",
       "                            <strong>Memory: </strong> 23.28 GiB\n",
       "                        </td>\n",
       "                    </tr>\n",
       "                    <tr>\n",
       "                        <td style=\"text-align: left;\">\n",
       "                            <strong>Nanny: </strong> tcp://10.12.206.54:45923\n",
       "                        </td>\n",
       "                        <td style=\"text-align: left;\"></td>\n",
       "                    </tr>\n",
       "                    <tr>\n",
       "                        <td colspan=\"2\" style=\"text-align: left;\">\n",
       "                            <strong>Local directory: </strong> /glade/scratch/hkashgar/dask/casper-dav/local-dir/dask-worker-space/worker-aollz7ac\n",
       "                        </td>\n",
       "                    </tr>\n",
       "\n",
       "                    \n",
       "\n",
       "                    \n",
       "\n",
       "                </table>\n",
       "            </details>\n",
       "            </div>\n",
       "        </div>\n",
       "        \n",
       "\n",
       "    </details>\n",
       "</div>\n",
       "\n",
       "        </details>\n",
       "    </div>\n",
       "</div>\n",
       "            </details>\n",
       "        \n",
       "\n",
       "    </div>\n",
       "</div>"
      ],
      "text/plain": [
       "<Client: 'tcp://10.12.205.44:34394' processes=2 threads=4, memory=46.56 GiB>"
      ]
     },
     "execution_count": 9,
     "metadata": {},
     "output_type": "execute_result"
    }
   ],
   "source": [
    "client"
   ]
  },
  {
   "cell_type": "code",
   "execution_count": 11,
   "id": "572a3e9b-f0fb-4635-a5f6-fe0940d5cdbf",
   "metadata": {},
   "outputs": [],
   "source": [
    "client.cancel(cluster)"
   ]
  }
 ],
 "metadata": {
  "kernelspec": {
   "display_name": "Python [conda env:geocat]",
   "language": "python",
   "name": "conda-env-geocat-py"
  },
  "language_info": {
   "codemirror_mode": {
    "name": "ipython",
    "version": 3
   },
   "file_extension": ".py",
   "mimetype": "text/x-python",
   "name": "python",
   "nbconvert_exporter": "python",
   "pygments_lexer": "ipython3",
   "version": "3.10.4"
  }
 },
 "nbformat": 4,
 "nbformat_minor": 5
}
