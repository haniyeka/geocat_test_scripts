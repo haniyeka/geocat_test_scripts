{
 "cells": [
  {
   "cell_type": "code",
   "execution_count": null,
   "id": "3dd849cd-7b03-48ff-a41b-7394882e349e",
   "metadata": {},
   "outputs": [],
   "source": [
    "#in python code\n",
    "#import os\n",
    "#os.environ['CUPY_ACCELERATORS'] ='cub'\n",
    "#os.environ['CUPY_ACCELERATORS']\n",
    "#del os.environ['CUPY_ACCELERATORS']\n",
    "#os.environ['CUPY_ACCELERATORS'] = ''\n",
    "%env CUPY_ACCELERATORS = cub"
   ]
  },
  {
   "cell_type": "code",
   "execution_count": null,
   "id": "bd7cbbe1-c54e-485c-a9d7-ce874403226c",
   "metadata": {},
   "outputs": [],
   "source": [
    "import time, cupy, numpy\n",
    "\n",
    "def test(xp, size):\n",
    "    return xp.arange(size).reshape(1000,-1).T*2\n",
    "\n",
    "for i in range(4,15):\n",
    "    for xp in [numpy, cupy]:\n",
    "        test(xp, 10**i)\n",
    "        cupy.cuda.runtime.deviceSynchronize()\n",
    "        t1 = time.time()\n",
    "        test(xp,10**i)\n",
    "        cupy.cuda.runtime.deviceSynchronize()\n",
    "        t2 = time.time()\n",
    "        print(xp.__name__,t2-t1)"
   ]
  },
  {
   "cell_type": "code",
   "execution_count": null,
   "id": "e86b3d9d-6385-41e1-a29b-678885930f91",
   "metadata": {},
   "outputs": [],
   "source": [
    "import time, cupy, numpy\n",
    "\n",
    "def test(xp, size):\n",
    "    x = xp.arange(1,size)\n",
    "    return xp.linalg.norm(x)\n",
    "\n",
    "for i in range(1,10):\n",
    "    print(\"Array Size: \",10**i)\n",
    "    sd_gpu = numpy.zeros([10,])\n",
    "    sd_cpu = numpy.zeros([10,])\n",
    "    for xp in [numpy, cupy]:\n",
    "        repeat = numpy.zeros([10,])\n",
    "        for n in range(0,10):\n",
    "            test(xp, 10**i)\n",
    "            cupy.cuda.runtime.deviceSynchronize()\n",
    "            t1 = time.time()\n",
    "            test(xp,10**i)\n",
    "            cupy.cuda.runtime.deviceSynchronize()\n",
    "            t2 = time.time()\n",
    "            repeat[n] = t2-t1\n",
    "            print(xp.__name__,t2-t1)\n",
    "        if(xp ==cupy):\n",
    "            sd_gpu[i] = xp.std(repeat)\n",
    "        else:\n",
    "            sd_cpu[i] = xp.std(repeat)"
   ]
  },
  {
   "cell_type": "code",
   "execution_count": null,
   "id": "824fc689-04c3-4a5a-a4fd-f7a86e5759a0",
   "metadata": {},
   "outputs": [],
   "source": [
    "sd_cpu"
   ]
  },
  {
   "cell_type": "code",
   "execution_count": 2,
   "id": "976e0150-52dd-42eb-8c25-5a8b5ae64bd7",
   "metadata": {},
   "outputs": [
    {
     "name": "stdout",
     "output_type": "stream",
     "text": [
      "sum                 :    CPU:   79.688 us   +/-60.634 (min:   47.708 / max:  258.861) us     GPU-0:735840.717 us   +/-1794.405 (min:733143.311 / max:738656.982) us\n"
     ]
    }
   ],
   "source": [
    "import cupy as cp\n",
    "from cupyx.profiler import benchmark\n",
    "\n",
    "a = cp.random.random((1000, 1000, 1000), dtype=cp.float32)\n",
    "print(benchmark(a.sum, (), n_repeat=10)) "
   ]
  },
  {
   "cell_type": "code",
   "execution_count": null,
   "id": "afa1eb9d-86b6-45bd-a1b4-4bfbc60bcbe1",
   "metadata": {},
   "outputs": [],
   "source": [
    "%env CUPY_ACCELERATORS = cub\n",
    "import cupy as cp \n",
    "import time\n",
    "a = cp.ones((100000000,32))\n",
    "\n",
    "def f():\n",
    "    cp.sum(a)\n",
    "\n",
    "start_cpu = time.perf_counter()\n",
    "start_gpu = cp.cuda.Event()\n",
    "end_gpu = cp.cuda.Event()\n",
    "start_gpu.record()\n",
    "f()\n",
    "end_gpu.record()\n",
    "end_gpu.synchronize()\n",
    "t_gpu = cp.cuda.get_elapsed_time(start_gpu, end_gpu)\n",
    "end_cpu = time.perf_counter()\n",
    "t_cpu = end_cpu - start_cpu\n",
    "#print(f\"Runtime by cpu: {t_cpu}\")\n",
    "print(f\"Runtime by gpu: {t_gpu}\")"
   ]
  },
  {
   "cell_type": "code",
   "execution_count": null,
   "id": "2f7c6d75-979c-4072-9860-7e061f421c19",
   "metadata": {},
   "outputs": [],
   "source": [
    "import numpy as np \n",
    "import time \n",
    "a = np.ones((100000000,32))\n",
    "\n",
    "def f():\n",
    "    np.sum(a)\n",
    "    \n",
    "start_cpu = time.perf_counter()\n",
    "f()\n",
    "end_cpu = time.perf_counter()\n",
    "t_cpu = end_cpu - start_cpu\n",
    "print(f\"Runtime by cpu: {t_cpu}\")"
   ]
  },
  {
   "cell_type": "code",
   "execution_count": null,
   "id": "2f90a039-f9d3-426b-ae0b-d6524720b7f7",
   "metadata": {},
   "outputs": [],
   "source": [
    "%env CUPY_ACCELERATORS = cub\n",
    "import numpy as np \n",
    "t_def = np.random.rand(10000000000)"
   ]
  },
  {
   "cell_type": "code",
   "execution_count": null,
   "id": "bfec7c4b-1113-4356-a7ea-a5e88be1f3d7",
   "metadata": {},
   "outputs": [],
   "source": [
    "import numpy as np \n",
    "import time\n",
    "\n",
    "t_def = np.array(t_def)\n",
    "def f():\n",
    "    np.add(t_def,-273)\n",
    "    \n",
    "start_cpu = time.perf_counter()\n",
    "f()\n",
    "end_cpu = time.perf_counter()\n",
    "t_cpu = end_cpu - start_cpu\n",
    "print(f\"Runtime by cpu: {t_cpu}\")"
   ]
  },
  {
   "cell_type": "code",
   "execution_count": null,
   "id": "d1470369-b21e-415d-a9f4-40348915e48b",
   "metadata": {},
   "outputs": [],
   "source": [
    "\n",
    "import cupy as cp \n",
    "import time\n",
    "\n",
    "t_def = cp.asarray(t_def)\n",
    "def f():\n",
    "    cp.add(t_def,-273)\n",
    "\n",
    "start_cpu = time.perf_counter()\n",
    "start_gpu = cp.cuda.Event()\n",
    "end_gpu = cp.cuda.Event()\n",
    "start_gpu.record()\n",
    "f()\n",
    "end_gpu.record()\n",
    "end_gpu.synchronize()\n",
    "t_gpu = cp.cuda.get_elapsed_time(start_gpu, end_gpu)\n",
    "end_cpu = time.perf_counter()\n",
    "t_cpu = end_cpu - start_cpu\n",
    "#print(f\"Runtime by cpu: {t_cpu}\")\n",
    "print(f\"Runtime by gpu: {t_gpu}\")"
   ]
  }
 ],
 "metadata": {
  "kernelspec": {
   "display_name": "Python [conda env:geocat]",
   "language": "python",
   "name": "conda-env-geocat-py"
  },
  "language_info": {
   "codemirror_mode": {
    "name": "ipython",
    "version": 3
   },
   "file_extension": ".py",
   "mimetype": "text/x-python",
   "name": "python",
   "nbconvert_exporter": "python",
   "pygments_lexer": "ipython3",
   "version": "3.10.4"
  }
 },
 "nbformat": 4,
 "nbformat_minor": 5
}
