{
 "cells": [
  {
   "cell_type": "code",
   "execution_count": 1,
   "id": "3f7e30e6-5804-48e3-b6ca-9ae59595871c",
   "metadata": {},
   "outputs": [
    {
     "name": "stdout",
     "output_type": "stream",
     "text": [
      "env: CUPY_ACCELERATORS=cub\n"
     ]
    }
   ],
   "source": [
    "%env CUPY_ACCELERATORS = cub\n",
    "import sys\n",
    "import unittest\n",
    "\n",
    "import dask.array\n",
    "import dask.distributed as dd\n",
    "import cupy\n",
    "import xarray as xr\n",
    "\n",
    "import src.geocat.comp.meteorology_gpu_reduction as geo_gpu_red\n",
    "import src.geocat.comp.meteorology_gpu as geo_gpu\n",
    "import src.geocat.comp.meteorology as geo\n",
    "\n",
    "import numpy\n",
    "import time\n",
    "import pandas as pd\n",
    "\n",
    "csvpath = \"Test_meteorology.csv\""
   ]
  },
  {
   "cell_type": "code",
   "execution_count": 2,
   "id": "ac91adbe-5c9e-4de1-9898-6c1014aa4909",
   "metadata": {},
   "outputs": [
    {
     "name": "stdout",
     "output_type": "stream",
     "text": [
      "_dewtemp\n",
      "Array size:  10\n",
      "numpy 6.995201110839843e-05 seconds\n",
      "reduction 0.01149139404296875 seconds\n",
      "cupy 0.005248570442199707 seconds\n",
      "Array size:  100\n",
      "numpy 4.8112869262695315e-05 seconds\n",
      "reduction 0.00037934780120849607 seconds\n",
      "cupy 0.00045430660247802734 seconds\n",
      "Array size:  1000\n",
      "numpy 5.793571472167969e-05 seconds\n",
      "reduction 0.0003864526748657227 seconds\n",
      "cupy 0.0005611896514892579 seconds\n",
      "Array size:  10000\n",
      "numpy 0.00014059543609619142 seconds\n",
      "reduction 0.0005605459213256836 seconds\n",
      "cupy 0.0007854461669921875 seconds\n",
      "Array size:  100000\n",
      "numpy 0.00119781494140625 seconds\n",
      "reduction 0.0026130199432373045 seconds\n",
      "cupy 0.003873395919799805 seconds\n",
      "Array size:  1000000\n",
      "numpy 0.01843130588531494 seconds\n",
      "reduction 0.03126823902130127 seconds\n",
      "cupy 0.05086438655853272 seconds\n",
      "Array size:  10000000\n",
      "numpy 0.2842130661010742 seconds\n",
      "reduction 0.500795865058899 seconds\n",
      "cupy 0.8237313747406005 seconds\n"
     ]
    }
   ],
   "source": [
    "#Test_dewtemp helper\n",
    "HelperFunction = \"_dewtemp\"\n",
    "print(HelperFunction)\n",
    "allData = pd.DataFrame()\n",
    "for i in range(1,8):\n",
    "    ArraySize = 10**i\n",
    "    print(\"Array size: \", ArraySize)\n",
    "    for xp in [\"numpy\", \"reduction\",\"cupy\"]:\n",
    "        repeat = numpy.zeros([10,])\n",
    "        repsize = 10\n",
    "        for rep in range(0,repsize):\n",
    "            t_def = numpy.random.uniform(low=-52,high=29.5,size=ArraySize)\n",
    "            rh_def = numpy.random.uniform(low=41.7,high=90.5, size=ArraySize)\n",
    "            tk = numpy.add(cupy.asarray(t_def),273.15)\n",
    "            cupy.cuda.runtime.deviceSynchronize()\n",
    "            time1 = time.time()\n",
    "            if(xp == \"cupy\"):\n",
    "                rh_def = cupy.asarray(rh_def)\n",
    "                tk = cupy.asarray(tk)\n",
    "                dt_2 = geo_gpu._dewtemp_gpu(tk, rh_def) - 273.15\n",
    "                #validating GPU result with CPU results\n",
    "                if not numpy.allclose(cupy.asnumpy(dt_2),geo._dewtemp(cupy.asnumpy(tk), cupy.asnumpy(rh_def)) - 273.15): print(\"FALSE\")\n",
    "            if(xp == \"reduction\"):\n",
    "                rh_def = cupy.asarray(rh_def)\n",
    "                tk = cupy.asarray(tk)\n",
    "                dt_2 = cupy.add(geo_gpu_red._dewtemp_gpu_red(tk, rh_def),- 273.15)\n",
    "                if not numpy.allclose(cupy.asnumpy(dt_2),geo._dewtemp(cupy.asnumpy(tk),cupy.asnumpy(rh_def)) - 273.15): print(\"FALSE\")\n",
    "            else:\n",
    "                rh_def = cupy.asnumpy(rh_def)\n",
    "                tk = cupy.asnumpy(tk)\n",
    "                dt_2 = geo._dewtemp(tk, rh_def) - 273.15\n",
    "            cupy.cuda.runtime.deviceSynchronize()\n",
    "            time2 = time.time()\n",
    "            repeat[rep] = time2-time1\n",
    "        #save times\n",
    "        data = {'HelperFunction': numpy.repeat(HelperFunction, repsize),\n",
    "                'Approach': numpy.repeat(xp , repsize),\n",
    "                'ArraySize': numpy.repeat(ArraySize , repsize),\n",
    "                'iteration' : numpy.arange(1,repsize+1),\n",
    "                'Runtime(s)': repeat}\n",
    "        new = pd.DataFrame(data)\n",
    "        allData = pd.concat([allData,new], ignore_index=True)\n",
    "        print(xp,numpy.mean(repeat), \"seconds\") \n",
    "#try:\n",
    "    #previous = pd.read_csv(csvpath)\n",
    "    #previous = pd.concat([previous,allData])\n",
    "#except FileNotFoundError:\n",
    "    #previous = allData\n",
    "#previous.to_csv(csvpath, index=False)"
   ]
  },
  {
   "cell_type": "code",
   "execution_count": 3,
   "id": "e6347a2f-5e00-4e9c-96da-2e91dbf0207f",
   "metadata": {},
   "outputs": [],
   "source": [
    "#reimplemented test functions for GPU/CPU benchmarking \n",
    "#Test_dewtemp\n",
    "def test_list_input(xp = cupy):\n",
    "    tk = (xp.asarray(t_def) + 273.15).tolist()\n",
    "    if(xp.__name__ == \"cupy\"):\n",
    "        assert xp.allclose(geo_gpu.dewtemp_gpu(tk, rh_def) - 273.15, dt_2, 0.1)\n",
    "    else:\n",
    "        assert xp.allclose(geo.dewtemp(tk, rh_def) - 273.15, dt_2, 0.1)\n",
    "\n",
    "def test_numpy_input(xp = cupy):\n",
    "    tk = xp.asarray(t_def) + 273.15\n",
    "    rh = xp.asarray(rh_def)\n",
    "    if(xp.__name__ == \"cupy\"):\n",
    "        assert xp.allclose(geo_gpu.dewtemp_gpu(tk, rh) - 273.15, dt_2, 0.1)\n",
    "    else:\n",
    "        assert xp.allclose(geo.dewtemp(tk, rh) - 273.15, dt_2, 0.1)"
   ]
  },
  {
   "cell_type": "code",
   "execution_count": null,
   "id": "bcf3be68-fe79-4d94-9205-a46f6c1c29c8",
   "metadata": {},
   "outputs": [],
   "source": []
  },
  {
   "cell_type": "code",
   "execution_count": 1,
   "id": "a4ce01ac-fe4c-4de4-bfd7-c56c93c6348d",
   "metadata": {},
   "outputs": [],
   "source": [
    "import dask.array as da\n",
    "t_def = da.random.uniform(low=-52,high=29.5,size=10**10)\n",
    "rh_def = da.random.uniform(low=41.7,high=90.5, size=10**10)\n",
    "tk = da.add(da.asarray(t_def),273.15)"
   ]
  },
  {
   "cell_type": "code",
   "execution_count": null,
   "id": "0ea8bf86-3d6f-44ae-93f3-2da099ffa774",
   "metadata": {},
   "outputs": [],
   "source": [
    "import cupy as cp\n",
    "cp.asarray(tk)"
   ]
  },
  {
   "cell_type": "code",
   "execution_count": null,
   "id": "757a85a5-9942-4492-9756-6677f73b2748",
   "metadata": {},
   "outputs": [],
   "source": []
  },
  {
   "cell_type": "code",
   "execution_count": null,
   "id": "a805e53a-d1f2-48f5-b6c6-a4f06f2cf293",
   "metadata": {},
   "outputs": [],
   "source": [
    "geo._dewtemp(tk,rh_def)"
   ]
  },
  {
   "cell_type": "code",
   "execution_count": null,
   "id": "958ab556-f147-42ba-b768-f2aaecd0e3d6",
   "metadata": {},
   "outputs": [],
   "source": [
    "tk = cupy.asarray(tk)\n",
    "rh_def = cupy.asarray(rh_def)\n",
    "geo_gpu._dewtemp_gpu(tk,rh_def)"
   ]
  },
  {
   "cell_type": "code",
   "execution_count": null,
   "id": "0ecc1e7e-8956-4a65-81ce-2222bd3dfd9d",
   "metadata": {},
   "outputs": [],
   "source": [
    "tk = cupy.asarray(tk)\n",
    "rh_def = cupy.asarray(rh_def)\n",
    "geo_gpu_red._dewtemp_gpu_red(tk,rh_def)"
   ]
  },
  {
   "cell_type": "code",
   "execution_count": 4,
   "id": "801399d4-edc1-40ed-957f-0d22b09007f2",
   "metadata": {},
   "outputs": [
    {
     "name": "stdout",
     "output_type": "stream",
     "text": [
      "[160.69581962 164.94031872 144.69203798 ... 164.46251337 138.25559474\n",
      " 155.46056802]\n"
     ]
    },
    {
     "data": {
      "text/plain": [
       "0.03907608985900879"
      ]
     },
     "execution_count": 4,
     "metadata": {},
     "output_type": "execute_result"
    }
   ],
   "source": [
    "import cupy as cp\n",
    "import numpy as np\n",
    "tk = cp.asnumpy(tk)\n",
    "time1 = time.time()\n",
    "b = tk*0.57\n",
    "time2 = time.time()\n",
    "print(b)\n",
    "time2-time1"
   ]
  },
  {
   "cell_type": "code",
   "execution_count": 7,
   "id": "6098208e-b2b3-4980-a774-dd3961fa2eab",
   "metadata": {},
   "outputs": [
    {
     "name": "stdout",
     "output_type": "stream",
     "text": [
      "[160.69581962 164.94031872 144.69203798 ... 164.46251337 138.25559474\n",
      " 155.46056802]\n"
     ]
    },
    {
     "data": {
      "text/plain": [
       "0.0004086494445800781"
      ]
     },
     "execution_count": 7,
     "metadata": {},
     "output_type": "execute_result"
    }
   ],
   "source": [
    "import cupy as cp\n",
    "cupy.cuda.runtime.deviceSynchronize()\n",
    "time1 = time.time()\n",
    "tk = cp.asarray(tk)\n",
    "c = cp.multiply(tk,0.57)\n",
    "cupy.cuda.runtime.deviceSynchronize()\n",
    "time2 = time.time()\n",
    "print(c)\n",
    "time2-time1"
   ]
  },
  {
   "cell_type": "code",
   "execution_count": 6,
   "id": "d36234cc-dff9-40ec-accb-875de495ab52",
   "metadata": {},
   "outputs": [
    {
     "name": "stdout",
     "output_type": "stream",
     "text": [
      "[160.69581962 164.94031872 144.69203798 ... 164.46251337 138.25559474\n",
      " 155.46056802]\n"
     ]
    },
    {
     "data": {
      "text/plain": [
       "0.0004398822784423828"
      ]
     },
     "execution_count": 6,
     "metadata": {},
     "output_type": "execute_result"
    }
   ],
   "source": [
    "import cupy as cp\n",
    "cupy.cuda.runtime.deviceSynchronize()\n",
    "time1 = time.time()\n",
    "tk = cp.asarray(tk)\n",
    "d = tk*0.57\n",
    "cupy.cuda.runtime.deviceSynchronize()\n",
    "time2 = time.time()\n",
    "print(d)\n",
    "time2-time1"
   ]
  },
  {
   "cell_type": "code",
   "execution_count": null,
   "id": "1f2d7c58-a344-4aff-a6d0-db9c84a31b7c",
   "metadata": {},
   "outputs": [],
   "source": [
    "tk = cupy.add(tk,-273)"
   ]
  },
  {
   "cell_type": "code",
   "execution_count": null,
   "id": "18a12900-ec10-44e1-acb4-3f21fecf834a",
   "metadata": {},
   "outputs": [],
   "source": [
    "tk"
   ]
  },
  {
   "cell_type": "code",
   "execution_count": null,
   "id": "5f84d1ba-c29f-403a-af09-86ef7de560d7",
   "metadata": {},
   "outputs": [],
   "source": [
    "-.57* tk"
   ]
  }
 ],
 "metadata": {
  "kernelspec": {
   "display_name": "Python [conda env:geocat]",
   "language": "python",
   "name": "conda-env-geocat-py"
  },
  "language_info": {
   "codemirror_mode": {
    "name": "ipython",
    "version": 3
   },
   "file_extension": ".py",
   "mimetype": "text/x-python",
   "name": "python",
   "nbconvert_exporter": "python",
   "pygments_lexer": "ipython3",
   "version": "3.10.4"
  }
 },
 "nbformat": 4,
 "nbformat_minor": 5
}
