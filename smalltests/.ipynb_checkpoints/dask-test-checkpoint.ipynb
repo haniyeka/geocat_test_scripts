{
 "cells": [
  {
   "cell_type": "code",
   "execution_count": 1,
   "id": "3f7e30e6-5804-48e3-b6ca-9ae59595871c",
   "metadata": {},
   "outputs": [],
   "source": [
    "#%env CUPY_ACCELERATORS = cub\n",
    "import sys\n",
    "import unittest\n",
    "\n",
    "import dask.array\n",
    "import dask.distributed as dd\n",
    "import cupy\n",
    "import xarray as xr\n",
    "\n",
    "import src.geocat.comp.meteorology_gpu_reduction as geo_gpu_red\n",
    "import src.geocat.comp.meteorology_gpu as geo_gpu\n",
    "import src.geocat.comp.meteorology as geo\n",
    "\n",
    "import numpy\n",
    "import time\n",
    "import pandas as pd\n",
    "\n",
    "csvpath = \"Test_meteorology.csv\""
   ]
  },
  {
   "cell_type": "code",
   "execution_count": 6,
   "id": "ac91adbe-5c9e-4de1-9898-6c1014aa4909",
   "metadata": {},
   "outputs": [
    {
     "name": "stdout",
     "output_type": "stream",
     "text": [
      "_dewtemp\n",
      "Array size:  10\n",
      "<module 'numpy' from '/glade/work/hkashgar/conda-envs/geocat/lib/python3.10/site-packages/numpy/__init__.py'> 2.8634071350097655e-05 seconds\n",
      "<module 'cupy' from '/glade/work/hkashgar/conda-envs/geocat/lib/python3.10/site-packages/cupy/__init__.py'> 0.0006563663482666016 seconds\n",
      "reduction 0.0003879070281982422 seconds\n",
      "Array size:  100\n",
      "<module 'numpy' from '/glade/work/hkashgar/conda-envs/geocat/lib/python3.10/site-packages/numpy/__init__.py'> 2.3984909057617186e-05 seconds\n",
      "<module 'cupy' from '/glade/work/hkashgar/conda-envs/geocat/lib/python3.10/site-packages/cupy/__init__.py'> 0.0012290477752685547 seconds\n",
      "reduction 0.0005090475082397461 seconds\n",
      "Array size:  1000\n",
      "<module 'numpy' from '/glade/work/hkashgar/conda-envs/geocat/lib/python3.10/site-packages/numpy/__init__.py'> 5.3429603576660155e-05 seconds\n",
      "<module 'cupy' from '/glade/work/hkashgar/conda-envs/geocat/lib/python3.10/site-packages/cupy/__init__.py'> 0.0006848812103271484 seconds\n",
      "reduction 0.0009976863861083985 seconds\n",
      "Array size:  10000\n",
      "<module 'numpy' from '/glade/work/hkashgar/conda-envs/geocat/lib/python3.10/site-packages/numpy/__init__.py'> 0.00023853778839111328 seconds\n",
      "<module 'cupy' from '/glade/work/hkashgar/conda-envs/geocat/lib/python3.10/site-packages/cupy/__init__.py'> 0.0008730888366699219 seconds\n",
      "reduction 0.0005895137786865234 seconds\n",
      "Array size:  100000\n",
      "<module 'numpy' from '/glade/work/hkashgar/conda-envs/geocat/lib/python3.10/site-packages/numpy/__init__.py'> 0.002517247200012207 seconds\n",
      "<module 'cupy' from '/glade/work/hkashgar/conda-envs/geocat/lib/python3.10/site-packages/cupy/__init__.py'> 0.002797532081604004 seconds\n",
      "reduction 0.0023285865783691405 seconds\n",
      "Array size:  1000000\n",
      "<module 'numpy' from '/glade/work/hkashgar/conda-envs/geocat/lib/python3.10/site-packages/numpy/__init__.py'> 0.03136017322540283 seconds\n",
      "<module 'cupy' from '/glade/work/hkashgar/conda-envs/geocat/lib/python3.10/site-packages/cupy/__init__.py'> 0.0277451753616333 seconds\n",
      "reduction 0.027348709106445313 seconds\n",
      "Array size:  10000000\n",
      "<module 'numpy' from '/glade/work/hkashgar/conda-envs/geocat/lib/python3.10/site-packages/numpy/__init__.py'> 0.43190798759460447 seconds\n",
      "<module 'cupy' from '/glade/work/hkashgar/conda-envs/geocat/lib/python3.10/site-packages/cupy/__init__.py'> 0.4480713367462158 seconds\n",
      "reduction 0.45396592617034914 seconds\n"
     ]
    }
   ],
   "source": [
    "#Test_dewtemp helper\n",
    "HelperFunction = \"_dewtemp\"\n",
    "print(HelperFunction)\n",
    "allData = pd.DataFrame()\n",
    "for i in range(1,8):\n",
    "    ArraySize = 10**i\n",
    "    print(\"Array size: \", ArraySize)\n",
    "    for xp in [numpy, cupy, \"reduction\"]:\n",
    "        repeat = numpy.zeros([10,])\n",
    "        repsize = 10\n",
    "        for rep in range(0,repsize):\n",
    "            cupy.cuda.runtime.deviceSynchronize()\n",
    "            time1 = time.time()\n",
    "            if(xp == cupy):\n",
    "                t_def = xp.random.uniform(low=-52,high=29.5,size=ArraySize)\n",
    "                rh_def = xp.random.uniform(low=41.7,high=90.5, size=ArraySize)\n",
    "                tk = xp.add(xp.asarray(t_def),273.15)\n",
    "                dt_2 = geo_gpu._dewtemp_gpu(tk, rh_def) - 273.15\n",
    "                #validating GPU result with CPU results\n",
    "                if not numpy.allclose(xp.asnumpy(dt_2),geo._dewtemp(xp.asnumpy(tk), xp.asnumpy(rh_def)) - 273.15): print(\"FALSE\")\n",
    "            if(xp == \"reduction\"):\n",
    "                t_def = cupy.random.uniform(low=-52,high=29.5,size=ArraySize)\n",
    "                rh_def = cupy.random.uniform(low=41.7,high=90.5, size=ArraySize)\n",
    "                tk = cupy.add(cupy.asarray(t_def),273.15)\n",
    "                dt_2 = geo_gpu_red._dewtemp_gpu_red(tk, rh_def) - 273.15\n",
    "                if not numpy.allclose(cupy.asnumpy(dt_2),geo._dewtemp(cupy.asnumpy(tk),cupy.asnumpy(rh_def)) - 273.15): print(\"FALSE\")\n",
    "            else:\n",
    "                t_def = xp.random.uniform(low=-52,high=29.5,size=ArraySize)\n",
    "                rh_def = xp.random.uniform(low=41.7,high=90.5, size=ArraySize)\n",
    "                tk = xp.add(xp.asarray(t_def),273.15)\n",
    "                dt_2 = geo._dewtemp(tk, rh_def) - 273.15\n",
    "            cupy.cuda.runtime.deviceSynchronize()\n",
    "            time2 = time.time()\n",
    "            repeat[rep] = time2-time1\n",
    "        #save times\n",
    "        data = {'HelperFunction': numpy.repeat(HelperFunction, repsize),\n",
    "                'Approach': numpy.repeat(xp.__name__ , repsize),\n",
    "                'ArraySize': numpy.repeat(ArraySize , repsize),\n",
    "                'iteration' : numpy.arange(1,repsize+1),\n",
    "                'Runtime(s)': repeat}\n",
    "        new = pd.DataFrame(data)\n",
    "        allData = pd.concat([allData,new], ignore_index=True)\n",
    "        print(xp.__name__,numpy.mean(repeat), \"seconds\") \n",
    "#try:\n",
    "    #previous = pd.read_csv(csvpath)\n",
    "    #previous = pd.concat([previous,allData])\n",
    "#except FileNotFoundError:\n",
    "    #previous = allData\n",
    "#previous.to_csv(csvpath, index=False)"
   ]
  },
  {
   "cell_type": "code",
   "execution_count": 26,
   "id": "5504e76e-6f67-41fd-9a21-7d2b62df4f81",
   "metadata": {},
   "outputs": [
    {
     "data": {
      "text/plain": [
       "0.025911808013916016"
      ]
     },
     "execution_count": 26,
     "metadata": {},
     "output_type": "execute_result"
    }
   ],
   "source": [
    "import cupy as cp\n",
    "import numpy as np\n",
    "tk = cp.asnumpy(tk)\n",
    "time1 = time.time()\n",
    "b = np.add(tk,273)\n",
    "time2 = time.time()\n",
    "time2-time1"
   ]
  },
  {
   "cell_type": "code",
   "execution_count": 34,
   "id": "6098208e-b2b3-4980-a774-dd3961fa2eab",
   "metadata": {},
   "outputs": [
    {
     "data": {
      "text/plain": [
       "0.0004260540008544922"
      ]
     },
     "execution_count": 34,
     "metadata": {},
     "output_type": "execute_result"
    }
   ],
   "source": [
    "import cupy as cp\n",
    "cupy.cuda.runtime.deviceSynchronize()\n",
    "time1 = time.time()\n",
    "tk = cp.asarray(tk)\n",
    "c = cp.add(tk,-273)\n",
    "cupy.cuda.runtime.deviceSynchronize()\n",
    "time2 = time.time()\n",
    "time2-time1"
   ]
  },
  {
   "cell_type": "code",
   "execution_count": 33,
   "id": "d36234cc-dff9-40ec-accb-875de495ab52",
   "metadata": {},
   "outputs": [
    {
     "data": {
      "text/plain": [
       "0.00033473968505859375"
      ]
     },
     "execution_count": 33,
     "metadata": {},
     "output_type": "execute_result"
    }
   ],
   "source": [
    "import cupy as cp\n",
    "cupy.cuda.runtime.deviceSynchronize()\n",
    "time1 = time.time()\n",
    "tk = cp.asarray(tk)\n",
    "c = tk-273\n",
    "cupy.cuda.runtime.deviceSynchronize()\n",
    "time2 = time.time()\n",
    "time2-time1"
   ]
  },
  {
   "cell_type": "code",
   "execution_count": 17,
   "id": "1f2d7c58-a344-4aff-a6d0-db9c84a31b7c",
   "metadata": {},
   "outputs": [],
   "source": [
    "tk = cupy.add(tk,-273)"
   ]
  },
  {
   "cell_type": "code",
   "execution_count": 19,
   "id": "18a12900-ec10-44e1-acb4-3f21fecf834a",
   "metadata": {},
   "outputs": [
    {
     "ename": "TypeError",
     "evalue": "'float' object cannot be interpreted as an integer",
     "output_type": "error",
     "traceback": [
      "\u001b[0;31m---------------------------------------------------------------------------\u001b[0m",
      "\u001b[0;31mTypeError\u001b[0m                                 Traceback (most recent call last)",
      "Input \u001b[0;32mIn [19]\u001b[0m, in \u001b[0;36m<cell line: 1>\u001b[0;34m()\u001b[0m\n\u001b[0;32m----> 1\u001b[0m \u001b[43mcupy\u001b[49m\u001b[38;5;241;43m.\u001b[39;49m\u001b[43mprod\u001b[49m\u001b[43m(\u001b[49m\u001b[43mtk\u001b[49m\u001b[43m,\u001b[49m\u001b[38;5;241;43m-\u001b[39;49m\u001b[43m \u001b[49m\u001b[38;5;241;43m0.57\u001b[39;49m\u001b[43m)\u001b[49m\n",
      "File \u001b[0;32m/glade/work/hkashgar/conda-envs/geocat/lib/python3.10/site-packages/cupy/_math/sumprod.py:70\u001b[0m, in \u001b[0;36mprod\u001b[0;34m(a, axis, dtype, out, keepdims)\u001b[0m\n\u001b[1;32m     66\u001b[0m     \u001b[38;5;28;01mreturn\u001b[39;00m _fusion_thread_local\u001b[38;5;241m.\u001b[39mcall_reduction(\n\u001b[1;32m     67\u001b[0m         func, a, axis\u001b[38;5;241m=\u001b[39maxis, dtype\u001b[38;5;241m=\u001b[39mdtype, out\u001b[38;5;241m=\u001b[39mout)\n\u001b[1;32m     69\u001b[0m \u001b[38;5;66;03m# TODO(okuta): check type\u001b[39;00m\n\u001b[0;32m---> 70\u001b[0m \u001b[38;5;28;01mreturn\u001b[39;00m \u001b[43ma\u001b[49m\u001b[38;5;241;43m.\u001b[39;49m\u001b[43mprod\u001b[49m\u001b[43m(\u001b[49m\u001b[43maxis\u001b[49m\u001b[43m,\u001b[49m\u001b[43m \u001b[49m\u001b[43mdtype\u001b[49m\u001b[43m,\u001b[49m\u001b[43m \u001b[49m\u001b[43mout\u001b[49m\u001b[43m,\u001b[49m\u001b[43m \u001b[49m\u001b[43mkeepdims\u001b[49m\u001b[43m)\u001b[49m\n",
      "File \u001b[0;32mcupy/_core/core.pyx:1084\u001b[0m, in \u001b[0;36mcupy._core.core.ndarray.prod\u001b[0;34m()\u001b[0m\n",
      "File \u001b[0;32mcupy/_core/core.pyx:1092\u001b[0m, in \u001b[0;36mcupy._core.core.ndarray.prod\u001b[0;34m()\u001b[0m\n",
      "File \u001b[0;32mcupy/_core/_routines_math.pyx:98\u001b[0m, in \u001b[0;36mcupy._core._routines_math._ndarray_prod\u001b[0;34m()\u001b[0m\n",
      "File \u001b[0;32mcupy/_core/_reduction.pyx:567\u001b[0m, in \u001b[0;36mcupy._core._reduction._SimpleReductionKernel.__call__\u001b[0;34m()\u001b[0m\n",
      "File \u001b[0;32mcupy/_core/_reduction.pyx:312\u001b[0m, in \u001b[0;36mcupy._core._reduction._AbstractReductionKernel._call\u001b[0;34m()\u001b[0m\n",
      "File \u001b[0;32mcupy/_core/_reduction.pyx:137\u001b[0m, in \u001b[0;36mcupy._core._reduction._get_axis\u001b[0;34m()\u001b[0m\n",
      "\u001b[0;31mTypeError\u001b[0m: 'float' object cannot be interpreted as an integer"
     ]
    }
   ],
   "source": [
    "cupy.prod(tk,- 0.57)"
   ]
  },
  {
   "cell_type": "code",
   "execution_count": 20,
   "id": "5f84d1ba-c29f-403a-af09-86ef7de560d7",
   "metadata": {},
   "outputs": [
    {
     "data": {
      "text/plain": [
       "array([17.00456722, -3.64227788, -1.31710808, ...,  5.25145011,\n",
       "       19.91007294, 11.48752978])"
      ]
     },
     "execution_count": 20,
     "metadata": {},
     "output_type": "execute_result"
    }
   ],
   "source": [
    "-.57* tk"
   ]
  }
 ],
 "metadata": {
  "kernelspec": {
   "display_name": "Python [conda env:geocat]",
   "language": "python",
   "name": "conda-env-geocat-py"
  },
  "language_info": {
   "codemirror_mode": {
    "name": "ipython",
    "version": 3
   },
   "file_extension": ".py",
   "mimetype": "text/x-python",
   "name": "python",
   "nbconvert_exporter": "python",
   "pygments_lexer": "ipython3",
   "version": "3.10.4"
  }
 },
 "nbformat": 4,
 "nbformat_minor": 5
}
