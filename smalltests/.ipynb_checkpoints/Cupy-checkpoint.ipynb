{
 "cells": [
  {
   "cell_type": "code",
   "execution_count": 7,
   "id": "eda9355c-0d12-4e56-a950-f74754714a0d",
   "metadata": {},
   "outputs": [
    {
     "name": "stdout",
     "output_type": "stream",
     "text": [
      "Runtime by numpy: 4.458429336547852\n",
      "Runtime by cupy: 4.644579648971558\n"
     ]
    }
   ],
   "source": [
    "import cupy as cp\n",
    "import numpy as np\n",
    "import time\n",
    "\n",
    "for xp in [np,cp]:\n",
    "    start = time.time()\n",
    "    x = xp.random.rand(100000)\n",
    "    W = xp.random.rand(100000,5000)\n",
    "    y = xp.dot(x,W)\n",
    "    end = time.time()\n",
    "    print(f\"Runtime by {xp.__name__}: {end-start}\")\n"
   ]
  },
  {
   "cell_type": "code",
   "execution_count": 7,
   "id": "c8384fcd-aca4-4d16-88e7-17f85cdad8d8",
   "metadata": {},
   "outputs": [
    {
     "name": "stdout",
     "output_type": "stream",
     "text": [
      "Runtime by numpy: 0.16229581832885742\n",
      "Runtime by cupy: 0.0009274482727050781\n"
     ]
    }
   ],
   "source": [
    "for xp in [np,cp]:\n",
    "    start = time.time()\n",
    "    x = xp.arange(1,30000000)\n",
    "    l2 = xp.linalg.norm(x)\n",
    "    end = time.time()\n",
    "    print(f\"Runtime by {xp.__name__}: {end-start}\")"
   ]
  },
  {
   "cell_type": "code",
   "execution_count": null,
   "id": "2cc009d7-dbe1-45b4-9d9f-946692c49d51",
   "metadata": {},
   "outputs": [],
   "source": [
    "print(x.device)\n",
    "with cp.cuda.Device(1):\n",
    "    x_on_gpu1 = cp.array([1, 2, 3, 4, 5])\n",
    "x_on_gpu0 = cp.array([1, 2, 3, 4, 5])"
   ]
  },
  {
   "cell_type": "code",
   "execution_count": 8,
   "id": "0501350c-4c7a-4568-acd6-83932573bb93",
   "metadata": {},
   "outputs": [
    {
     "data": {
      "text/plain": [
       "<Stream 0 (device -1)>"
      ]
     },
     "execution_count": 8,
     "metadata": {},
     "output_type": "execute_result"
    }
   ],
   "source": [
    "current_stream = cp.cuda.get_current_stream()\n",
    "current_stream"
   ]
  },
  {
   "cell_type": "code",
   "execution_count": null,
   "id": "b8b0b5ba-ece9-4c66-8d57-c5720632c791",
   "metadata": {},
   "outputs": [],
   "source": [
    "#move array to a device\n",
    "x_cpu = np.array([1,2,3])\n",
    "x_gpu = cp.asarray(x_cpu)\n",
    "#accepts np.ndarray\n",
    "with cp.cuda.device(0):\n",
    "    x_gpu_0 = cp.ndarray([1,2,3])\n",
    "with cp.cuda.device(1):\n",
    "    x_gpu_1 = cp.asarray(x_gpu_0)"
   ]
  },
  {
   "cell_type": "code",
   "execution_count": 16,
   "id": "ec3d6988-8663-4993-b7f1-b618d10ed23c",
   "metadata": {},
   "outputs": [],
   "source": [
    "x_gpu = cp.array([1,2,3])\n",
    "x_cpu = cp.asnumpy(x_gpu)\n",
    "#or\n",
    "x_cpu = x_gpu.get()"
   ]
  },
  {
   "cell_type": "code",
   "execution_count": 17,
   "id": "bb96f40d-b413-458b-8aae-554b49fa194b",
   "metadata": {},
   "outputs": [
    {
     "data": {
      "text/plain": [
       "array([1, 2, 3])"
      ]
     },
     "execution_count": 17,
     "metadata": {},
     "output_type": "execute_result"
    }
   ],
   "source": [
    "x_cpu"
   ]
  },
  {
   "cell_type": "code",
   "execution_count": 18,
   "id": "19c55e07-8932-452f-8bbc-7c37ad3246d1",
   "metadata": {},
   "outputs": [],
   "source": [
    "def softplus(x):\n",
    "    xp = cp.get_array_module(x)\n",
    "    print(\"Using:\", xp.__name__)\n",
    "    return xp.maximum(0,x) + xp.log1p(xp.exp(-abs(x))) "
   ]
  },
  {
   "cell_type": "code",
   "execution_count": 21,
   "id": "f9cd41a5-021b-4b5d-af0b-db1dd9770e2c",
   "metadata": {},
   "outputs": [
    {
     "name": "stdout",
     "output_type": "stream",
     "text": [
      "Using: cupy\n",
      "Using: numpy\n"
     ]
    },
    {
     "data": {
      "text/plain": [
       "array([1.31326169, 2.12692801, 3.04858735])"
      ]
     },
     "execution_count": 21,
     "metadata": {},
     "output_type": "execute_result"
    }
   ],
   "source": [
    "softplus(x_gpu)\n",
    "softplus(x_cpu)"
   ]
  },
  {
   "cell_type": "code",
   "execution_count": 28,
   "id": "4d88af8b-d9e0-4583-8842-54d244511cd7",
   "metadata": {},
   "outputs": [
    {
     "name": "stdout",
     "output_type": "stream",
     "text": [
      "[5 7 9]\n"
     ]
    },
    {
     "data": {
      "text/plain": [
       "array([5, 7, 9])"
      ]
     },
     "execution_count": 28,
     "metadata": {},
     "output_type": "execute_result"
    }
   ],
   "source": [
    "x_cpu = np.array([1,2,3])\n",
    "y_cpu = np.array([4,5,6])\n",
    "print(x_cpu + y_cpu)\n",
    "x_gpu = cp.asarray(x_cpu)\n",
    "#x_gpu + y_cpu\n",
    "cp.asnumpy(x_gpu)+y_cpu\n",
    "cp.asnumpy(x_gpu)+cp.asnumpy(y_cpu)\n",
    "x_gpu + cp.asarray(y_cpu)\n",
    "cp.asarray(x_gpu) + cp.asarray(y_cpu)"
   ]
  },
  {
   "cell_type": "code",
   "execution_count": 30,
   "id": "aee60ed4-bba3-46ab-abbd-1c1e97ec4f17",
   "metadata": {},
   "outputs": [],
   "source": [
    "#Elementwise kernel\n",
    "squared_diff = cp.ElementwiseKernel(\n",
    "    'float32 x, float32 y', #input\n",
    "    'float32 z', #output\n",
    "    'z = (x-y)*(x-y)', #loop body\n",
    "    'squared_diff') #name    "
   ]
  },
  {
   "cell_type": "code",
   "execution_count": 35,
   "id": "49ec1a6c-d6eb-4b85-ba77-8c07254cb910",
   "metadata": {},
   "outputs": [
    {
     "data": {
      "text/plain": [
       "array([[25., 16.,  9.,  4.,  1.],\n",
       "       [ 0.,  1.,  4.,  9., 16.]], dtype=float32)"
      ]
     },
     "execution_count": 35,
     "metadata": {},
     "output_type": "execute_result"
    }
   ],
   "source": [
    "x = cp.arange(10, dtype = np.float32).reshape(2,5)\n",
    "y = cp.arange(5, dtype = np.float32)\n",
    "squared_diff(x,y)\n",
    "squared_diff(x,5)"
   ]
  },
  {
   "cell_type": "code",
   "execution_count": 36,
   "id": "ae1c64fb-5d05-41f6-8cc0-053c292f9e4e",
   "metadata": {},
   "outputs": [
    {
     "data": {
      "text/plain": [
       "array([[ 0.,  0.,  0.,  0.,  0.],\n",
       "       [25., 25., 25., 25., 25.]], dtype=float32)"
      ]
     },
     "execution_count": 36,
     "metadata": {},
     "output_type": "execute_result"
    }
   ],
   "source": [
    "z = cp.empty((2,5),dtype = np.float32)\n",
    "squared_diff(x,y,z)"
   ]
  },
  {
   "cell_type": "code",
   "execution_count": 37,
   "id": "6a3760f3-b423-4675-b096-b0fbf59d2663",
   "metadata": {},
   "outputs": [],
   "source": [
    "#Type-generic kernel\n",
    "squared_diff_generic = cp.ElementwiseKernel(\n",
    "    'T x, T y', #input\n",
    "    'T z', #output\n",
    "    'z = (x-y)*(x-y)', #loop body\n",
    "    'squared_diff_generic') #name    "
   ]
  },
  {
   "cell_type": "code",
   "execution_count": 39,
   "id": "caadee4d-c41e-4fba-b9fd-123ccbf5fd02",
   "metadata": {},
   "outputs": [],
   "source": [
    "#Type-generic kernel\n",
    "squared_diff_generic = cp.ElementwiseKernel(\n",
    "    'T x, T y', #input\n",
    "    'T z', #output\n",
    "    '''\n",
    "        T diff = x-y\n",
    "        z = diff*diff''', #loop body\n",
    "    'squared_diff_generic') #name    "
   ]
  },
  {
   "cell_type": "code",
   "execution_count": 40,
   "id": "b0e26fc5-ea09-4262-954d-889b2684a994",
   "metadata": {},
   "outputs": [],
   "source": [
    "#Type-generic kernel\n",
    "squared_diff_super_generic = cp.ElementwiseKernel(\n",
    "    'X x, Y y', #input\n",
    "    'Z z', #output\n",
    "    'z = (x-y)*(x-y)', #loop body\n",
    "    'squared_diff_super_generic') #name    "
   ]
  },
  {
   "cell_type": "code",
   "execution_count": 47,
   "id": "e835d365-4747-4898-a86f-088110930131",
   "metadata": {},
   "outputs": [
    {
     "name": "stdout",
     "output_type": "stream",
     "text": [
      "[[0. 1. 2. 3. 4.]\n",
      " [5. 6. 7. 8. 9.]]\n",
      "[0. 1. 2. 3. 4.]\n"
     ]
    },
    {
     "data": {
      "text/plain": [
       "array([[9., 9., 9., 9., 9.],\n",
       "       [9., 9., 9., 9., 9.]], dtype=float32)"
      ]
     },
     "execution_count": 47,
     "metadata": {},
     "output_type": "execute_result"
    }
   ],
   "source": [
    "#raw indexing \n",
    "add_reverse = cp.ElementwiseKernel(\n",
    "    'T x, raw T y', 'T z', \n",
    "    'z = x + y[_ind.size() - i - 1]',\n",
    "    'add_reverse')\n",
    "# z = x + y[::-1]\n",
    "print(x)\n",
    "print(y)\n",
    "add_reverse(x,y)\n"
   ]
  },
  {
   "cell_type": "code",
   "execution_count": 6,
   "id": "db3a7efc-a792-4880-a395-d1ce184bc3c6",
   "metadata": {},
   "outputs": [],
   "source": [
    "#TextureObject() # no idea how it works"
   ]
  },
  {
   "cell_type": "code",
   "execution_count": 12,
   "id": "9c77c5da-bee0-4bfd-b64a-f14ee876b44f",
   "metadata": {},
   "outputs": [
    {
     "data": {
      "text/plain": [
       "array([ 5.477226 , 15.9687195], dtype=float32)"
      ]
     },
     "execution_count": 12,
     "metadata": {},
     "output_type": "execute_result"
    }
   ],
   "source": [
    "#Reduction kernels\n",
    "l2norm_kernel = cp.ReductionKernel(\n",
    "    'T x', #input\n",
    "    'T y', #output\n",
    "    'x * x', # map\n",
    "    'a+b', #reduce\n",
    "    'y = sqrt(a)', #post-production map \n",
    "    '0',#identity value\n",
    "    'l2norm' #kernel name\n",
    ")\n",
    "x = cp.arange(10, dtype = cp.float32).reshape(2,5)\n",
    "l2norm_kernel(x,axis=1)"
   ]
  },
  {
   "cell_type": "code",
   "execution_count": 13,
   "id": "d1289a21-aab9-4c95-94fa-aaa48d89f61a",
   "metadata": {},
   "outputs": [
    {
     "data": {
      "text/plain": [
       "array([[ 0.,  2.,  4.,  6.,  8.],\n",
       "       [10., 12., 14., 16., 18.],\n",
       "       [20., 22., 24., 26., 28.],\n",
       "       [30., 32., 34., 36., 38.],\n",
       "       [40., 42., 44., 46., 48.]], dtype=float32)"
      ]
     },
     "execution_count": 13,
     "metadata": {},
     "output_type": "execute_result"
    }
   ],
   "source": [
    "#raw kernel by c code \n",
    "add_kernel = cp.RawKernel(r'''\n",
    "extern \"C\" __global__\n",
    "void my_add(const float* x1, const float* x2, float* y){\n",
    "    int tid = blockDim.x * blockIdx.x + threadIdx.x;\n",
    "    y[tid] = x1[tid] + x2[tid];\n",
    "}\n",
    "''', 'my_add')\n",
    "x1 = cp.arange(25,dtype=cp.float32).reshape(5,5)\n",
    "x2 = cp.arange(25,dtype=cp.float32).reshape(5,5)\n",
    "y = cp.zeros((5,5), dtype=cp.float32)\n",
    "add_kernel((5,),(5,),(x1,x2,y))\n",
    "y"
   ]
  },
  {
   "cell_type": "code",
   "execution_count": 15,
   "id": "8ac04d92-1e00-49f4-af6a-baf26c337816",
   "metadata": {},
   "outputs": [
    {
     "data": {
      "text/plain": [
       "array([[ 0.+0.j,  3.+0.j,  6.+0.j,  9.+0.j, 12.+0.j],\n",
       "       [15.+0.j, 18.+0.j, 21.+0.j, 24.+0.j, 27.+0.j],\n",
       "       [30.+0.j, 33.+0.j, 36.+0.j, 39.+0.j, 42.+0.j],\n",
       "       [45.+0.j, 48.+0.j, 51.+0.j, 54.+0.j, 57.+0.j],\n",
       "       [60.+0.j, 63.+0.j, 66.+0.j, 69.+0.j, 72.+0.j]], dtype=complex64)"
      ]
     },
     "execution_count": 15,
     "metadata": {},
     "output_type": "execute_result"
    }
   ],
   "source": [
    "#using complex variables \n",
    "complex_kernel = cp.RawKernel(r'''\n",
    "#include <cupy/complex.cuh>\n",
    "extern \"C\" __global__\n",
    "void my_func(const complex<float>* x1, const complex<float>* x2, complex<float>* y,float a){\n",
    "    int tid = blockDim.x * blockIdx.x + threadIdx.x;\n",
    "    y[tid] = x1[tid] + a*x2[tid];\n",
    "}\n",
    "''', 'my_func')\n",
    "x1 = cp.arange(25,dtype=cp.complex64).reshape(5,5)\n",
    "x2 = cp.arange(25,dtype=cp.complex64).reshape(5,5)\n",
    "y = cp.zeros((5,5), dtype=cp.complex64)\n",
    "complex_kernel((5,),(5,),(x1,x2,y,cp.float32(2.0)))\n",
    "y"
   ]
  },
  {
   "cell_type": "code",
   "execution_count": 19,
   "id": "ad422580-8e72-4b14-812d-f0a83005096a",
   "metadata": {},
   "outputs": [
    {
     "data": {
      "text/plain": [
       "50000"
      ]
     },
     "execution_count": 19,
     "metadata": {},
     "output_type": "execute_result"
    }
   ],
   "source": [
    "add_kernel = cp.RawKernel(r'''\n",
    "extern \"C\" __global__\n",
    "void my_add(const float* x1, const float* x2, float* y){\n",
    "    int tid = blockDim.x * blockIdx.x + threadIdx.x;\n",
    "    y[tid] = x1[tid] + x2[tid];\n",
    "}\n",
    "''', 'my_add')\n",
    "add_kernel.attributes\n",
    "add_kernel.max_dynamic_shared_size_bytes\n",
    "add_kernel.max_dynamic_shared_size_bytes = 50000\n",
    "add_kernel.max_dynamic_shared_size_bytes"
   ]
  },
  {
   "cell_type": "code",
   "execution_count": null,
   "id": "8a80d4ba-f8c2-43d8-a19e-62a558592c7e",
   "metadata": {},
   "outputs": [],
   "source": [
    "# primitive types and numpy scalars passed by value\n",
    "# array should be nd array\n",
    "# no validation by cupy \n",
    "# dtype should match the one in c kernel \n",
    "# cp.float32 >> float* \n",
    "# cp.uint64 >> unsigned long long* \n",
    "# float3 : cupy doesn't support but you can cast in kernel only \n",
    "# int >> long long \n",
    "# float >> double \n",
    "# complex >> cuDoubleComplex\n",
    "# bool >> bool \n"
   ]
  }
 ],
 "metadata": {
  "kernelspec": {
   "display_name": "Python [conda env:geocat]",
   "language": "python",
   "name": "conda-env-geocat-py"
  },
  "language_info": {
   "codemirror_mode": {
    "name": "ipython",
    "version": 3
   },
   "file_extension": ".py",
   "mimetype": "text/x-python",
   "name": "python",
   "nbconvert_exporter": "python",
   "pygments_lexer": "ipython3",
   "version": "3.10.4"
  }
 },
 "nbformat": 4,
 "nbformat_minor": 5
}
