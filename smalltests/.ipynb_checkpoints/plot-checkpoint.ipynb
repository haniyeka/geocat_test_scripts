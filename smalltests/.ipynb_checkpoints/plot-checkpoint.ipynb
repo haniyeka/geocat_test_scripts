{
 "cells": [
  {
   "cell_type": "code",
   "execution_count": null,
   "id": "83ceca54-f715-49eb-8a1f-658576452a8f",
   "metadata": {},
   "outputs": [],
   "source": []
  }
 ],
 "metadata": {
  "kernelspec": {
   "display_name": "Python [conda env:geocat]",
   "language": "python",
   "name": "conda-env-geocat-py"
  },
  "language_info": {
   "codemirror_mode": {
    "name": "ipython",
    "version": 3
   },
   "file_extension": ".py",
   "mimetype": "text/x-python",
   "name": "python",
   "nbconvert_exporter": "python",
   "pygments_lexer": "ipython3",
   "version": "3.10.4"
  }
 },
 "nbformat": 4,
 "nbformat_minor": 5
}
