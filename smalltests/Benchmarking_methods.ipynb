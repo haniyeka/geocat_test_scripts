{
 "cells": [
  {
   "cell_type": "code",
   "execution_count": 1,
   "id": "75a495d9-c841-4074-9b3d-7535c3697ad2",
   "metadata": {},
   "outputs": [
    {
     "name": "stdout",
     "output_type": "stream",
     "text": [
      "env: CUPY_ACCELERATORS=cub\n"
     ]
    }
   ],
   "source": [
    "%env CUPY_ACCELERATORS = cub\n",
    "import sys\n",
    "import unittest\n",
    "\n",
    "import dask.array\n",
    "import dask.distributed as dd\n",
    "import cupy\n",
    "import xarray as xr\n",
    "\n",
    "import src.geocat.comp.meteorology_gpu as geo_gpu\n",
    "import src.geocat.comp.meteorology as geo\n",
    "\n",
    "import numpy\n",
    "import time"
   ]
  },
  {
   "cell_type": "code",
   "execution_count": 2,
   "id": "8daa2530-5209-4989-a830-4ec11969a44c",
   "metadata": {},
   "outputs": [],
   "source": [
    "#reimplemented test functions\n",
    "def test_list_input(xp = cupy):\n",
    "    tk = (xp.asarray(t_def) + 273.15).tolist()\n",
    "    if(xp.__name__ == \"cupy\"):\n",
    "        assert xp.allclose(geo_gpu.dewtemp_gpu(tk, rh_def) - 273.15, dt_2, 0.1)\n",
    "    else:\n",
    "        assert xp.allclose(geo.dewtemp(tk, rh_def) - 273.15, dt_2, 0.1)\n",
    "\n",
    "def test_numpy_input(xp = cupy):\n",
    "    tk = xp.asarray(t_def) + 273.15\n",
    "    rh = xp.asarray(rh_def)\n",
    "    if(xp.__name__ == \"cupy\"):\n",
    "        assert xp.allclose(geo_gpu.dewtemp_gpu(tk, rh) - 273.15, dt_2, 0.1)\n",
    "    else:\n",
    "        assert xp.allclose(geo.dewtemp(tk, rh) - 273.15, dt_2, 0.1)"
   ]
  },
  {
   "cell_type": "code",
   "execution_count": 4,
   "id": "5ea452c0-5e70-4850-9111-7eb4425a878b",
   "metadata": {},
   "outputs": [
    {
     "name": "stdout",
     "output_type": "stream",
     "text": [
      "Array size:  10\n",
      "numpy 4.92095947265625e-05 seconds\n",
      "cupy 0.00031914710998535154 seconds\n",
      "Array size:  100\n",
      "numpy 5.8817863464355466e-05 seconds\n",
      "cupy 0.0002692222595214844 seconds\n",
      "Array size:  1000\n",
      "numpy 7.410049438476563e-05 seconds\n",
      "cupy 0.0002713918685913086 seconds\n",
      "Array size:  10000\n",
      "numpy 0.00023038387298583983 seconds\n",
      "cupy 0.0003431558609008789 seconds\n",
      "Array size:  100000\n",
      "numpy 0.001743173599243164 seconds\n",
      "cupy 0.0003113269805908203 seconds\n",
      "Array size:  1000000\n",
      "numpy 0.022282862663269044 seconds\n",
      "cupy 0.0009396791458129883 seconds\n",
      "Array size:  10000000\n",
      "numpy 0.40211169719696044 seconds\n",
      "cupy 0.009890913963317871 seconds\n"
     ]
    }
   ],
   "source": [
    "#Test_dewtemp\n",
    "for i in range(1,8):\n",
    "    print(\"Array size: \", 10**i)\n",
    "    for xp in [numpy, cupy]:\n",
    "        repeat = xp.zeros([10,])\n",
    "        for rep in range(0,10):\n",
    "            t_def = xp.random.uniform(low=-52,high=29.5,size=10**i)\n",
    "            dt_1 = 6.3\n",
    "            rh_def = xp.random.uniform(low=41.7,high=90.5, size=10**i)\n",
    "            tk = (xp.asarray(t_def) + 273.15).tolist()\n",
    "            if(xp ==cupy):\n",
    "                dt_2 = geo_gpu.dewtemp_gpu(tk, rh_def) - 273.15\n",
    "            else:\n",
    "                dt_2 = geo.dewtemp(tk, rh_def) - 273.15\n",
    "            test_numpy_input(xp)\n",
    "            cupy.cuda.runtime.deviceSynchronize()\n",
    "            t1 = time.time()\n",
    "            test_numpy_input(xp)\n",
    "            cupy.cuda.runtime.deviceSynchronize()\n",
    "            t2 = time.time()\n",
    "            repeat[rep] = t2-t1\n",
    "        print(xp.__name__,numpy.mean(repeat), \"seconds\") "
   ]
  },
  {
   "cell_type": "code",
   "execution_count": 12,
   "id": "801c329f-867c-4433-b5f9-85ba6b709356",
   "metadata": {},
   "outputs": [
    {
     "name": "stdout",
     "output_type": "stream",
     "text": [
      "Size:  10\n",
      "dewtemp_gpu         :    CPU:  236.307 us   +/- 9.846 (min:  226.734 / max:  259.846) us     GPU-0:  242.074 us   +/-10.334 (min:  231.424 / max:  267.264) us\n",
      "Size:  100\n",
      "dewtemp_gpu         :    CPU:  242.669 us   +/- 9.383 (min:  235.835 / max:  266.886) us     GPU-0:  248.525 us   +/- 9.929 (min:  241.664 / max:  274.432) us\n",
      "Size:  1000\n",
      "dewtemp_gpu         :    CPU:  328.679 us   +/-30.558 (min:  299.669 / max:  391.095) us     GPU-0:  335.462 us   +/-31.712 (min:  305.152 / max:  400.384) us\n",
      "Size:  10000\n",
      "dewtemp_gpu         :    CPU:  829.644 us   +/-10.828 (min:  815.865 / max:  853.634) us     GPU-0:  836.915 us   +/-10.943 (min:  823.296 / max:  861.184) us\n",
      "Size:  100000\n",
      "dewtemp_gpu         :    CPU: 5730.552 us   +/-86.102 (min: 5637.140 / max: 5950.808) us     GPU-0: 5737.984 us   +/-86.227 (min: 5644.288 / max: 5958.656) us\n",
      "Size:  1000000\n",
      "dewtemp_gpu         :    CPU:57688.194 us   +/-2569.546 (min:54997.580 / max:61841.686) us     GPU-0:58421.146 us   +/-2560.600 (min:55745.537 / max:62556.160) us\n",
      "Size:  10000000\n",
      "dewtemp_gpu         :    CPU:644120.843 us   +/-150698.442 (min:547108.873 / max:958723.500) us     GPU-0:653137.408 us   +/-150591.998 (min:556327.942 / max:968088.562) us\n"
     ]
    }
   ],
   "source": [
    "from cupyx.profiler import benchmark\n",
    "for i in range(1,8):\n",
    "    print(\"Size: \", 10**i)\n",
    "    t_def = cupy.random.uniform(low=-52,high=29.5,size=10**i)\n",
    "    dt_1 = 6.3\n",
    "    rh_def = cupy.random.uniform(low=41.7,high=90.5, size=10**i)\n",
    "    tk = (cupy.asarray(t_def) + 273.15).tolist()\n",
    "    dt_2 = geo_gpu.dewtemp_gpu(tk, rh_def) - 273.15\n",
    "    print(benchmark(geo_gpu.dewtemp_gpu,(tk, rh_def), n_repeat=10))"
   ]
  },
  {
   "cell_type": "code",
   "execution_count": null,
   "id": "94357221-6453-4137-bf51-85e13d3c53a5",
   "metadata": {},
   "outputs": [
    {
     "name": "stdout",
     "output_type": "stream",
     "text": [
      "Size:  10\n",
      "numpy 4.7510117292404173e-05\n",
      "cupy 0.0003421087950468063\n",
      "Size:  100\n",
      "numpy 5.8483262546360495e-05\n",
      "cupy 0.0005542976021766663\n",
      "Size:  1000\n",
      "numpy 7.12360953912139e-05\n",
      "cupy 0.00029066240489482884\n",
      "Size:  10000\n",
      "numpy 0.00019392385147511959\n",
      "cupy 0.0003050399988889695\n",
      "Size:  100000\n",
      "numpy 0.001798791321925819\n",
      "cupy 0.0003414719969034195\n",
      "Size:  1000000\n",
      "numpy 0.02238680743612349\n",
      "cupy 0.001039027202129364\n",
      "Size:  10000000\n"
     ]
    }
   ],
   "source": [
    "for i in range(1,8):\n",
    "    print(\"Size: \", 10**i)\n",
    "    for xp in [numpy, cupy]:\n",
    "        repeat = xp.zeros([10,])\n",
    "        for rep in range(0,10):\n",
    "            t_def = xp.random.uniform(low=-52,high=29.5,size=10**i)\n",
    "            dt_1 = 6.3\n",
    "            rh_def = xp.random.uniform(low=41.7,high=90.5, size=10**i)\n",
    "            tk = (xp.asarray(t_def) + 273.15).tolist()\n",
    "            if(xp ==cupy):\n",
    "                dt_2 = geo_gpu.dewtemp_gpu(tk, rh_def) - 273.15\n",
    "            else:\n",
    "                dt_2 = geo.dewtemp(tk, rh_def) - 273.15\n",
    "            test_list_input(xp)\n",
    "            if(xp == cupy):\n",
    "                start_gpu = cupy.cuda.Event()\n",
    "                end_gpu = cupy.cuda.Event()\n",
    "                start_gpu.record()\n",
    "                test_numpy_input(xp)\n",
    "                end_gpu.record()\n",
    "                end_gpu.synchronize()\n",
    "                t_gpu = cupy.cuda.get_elapsed_time(start_gpu, end_gpu)\n",
    "                t_gpu = t_gpu *0.001\n",
    "                repeat[rep] = t_gpu\n",
    "            elif(xp == numpy):\n",
    "                start_cpu = time.perf_counter()\n",
    "                test_numpy_input(xp)\n",
    "                end_cpu = time.perf_counter()\n",
    "                t_cpu = end_cpu - start_cpu \n",
    "                repeat[rep] = t_cpu\n",
    "        print(xp.__name__,numpy.mean(repeat))\n"
   ]
  },
  {
   "cell_type": "code",
   "execution_count": 8,
   "id": "80d5198c-d097-4189-bf00-19475eb66614",
   "metadata": {},
   "outputs": [
    {
     "data": {
      "text/plain": [
       "array([ 993.2678833 , 1121.49035645,  981.06970215, 1001.98492432,\n",
       "        957.3192749 ,  958.70098877,  978.659729  , 1005.62792969,\n",
       "        990.78210449,  949.07855225])"
      ]
     },
     "execution_count": 8,
     "metadata": {},
     "output_type": "execute_result"
    }
   ],
   "source": [
    "cupy.free"
   ]
  }
 ],
 "metadata": {
  "kernelspec": {
   "display_name": "Python [conda env:geocat]",
   "language": "python",
   "name": "conda-env-geocat-py"
  },
  "language_info": {
   "codemirror_mode": {
    "name": "ipython",
    "version": 3
   },
   "file_extension": ".py",
   "mimetype": "text/x-python",
   "name": "python",
   "nbconvert_exporter": "python",
   "pygments_lexer": "ipython3",
   "version": "3.10.4"
  }
 },
 "nbformat": 4,
 "nbformat_minor": 5
}
