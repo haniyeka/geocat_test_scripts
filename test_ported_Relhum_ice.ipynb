{
 "cells": [
  {
   "cell_type": "markdown",
   "id": "01697216-2b36-48e9-86c5-e8aa49cd9265",
   "metadata": {},
   "source": [
    "# Relhum_ice and its helper function _relhum_ice from meteorology.py\n",
    "This function just accepts NumPy array, list, and float inputs. So, there is no need to port for xarray and dask array; however, it also works with xarray without dask (tested)."
   ]
  },
  {
   "cell_type": "code",
   "execution_count": 1,
   "id": "2fdf765e-36ac-4dd6-a450-4bbda8900b51",
   "metadata": {},
   "outputs": [],
   "source": [
    "import time\n",
    "import unittest\n",
    "from test.test_meteorology import Test_relhum_ice\n",
    "\n",
    "import cupy as cp\n",
    "import dask\n",
    "import numpy as np\n",
    "import pandas as pd\n",
    "import xarray as xr\n",
    "import src.geocat.comp.meteorology as geo\n",
    "csvpath = \"relhum_ice_ported_test_numpy.csv\""
   ]
  },
  {
   "cell_type": "markdown",
   "id": "adb53418-ba38-451d-81d7-8bfa93fa5830",
   "metadata": {
    "tags": []
   },
   "source": [
    "## Plotting and Validation"
   ]
  },
  {
   "cell_type": "code",
   "execution_count": 2,
   "id": "d48da88f-2a8a-4683-8b68-0ae7faaea2ee",
   "metadata": {},
   "outputs": [],
   "source": [
    "import matplotlib.pyplot as plt\n",
    "import numpy as np\n",
    "\n",
    "def plot(allData,name):\n",
    "    arraysizes = np.unique(allData['ArraySize'])\n",
    "    sd_numpy = np.zeros(len(arraysizes))\n",
    "    sd_cupy = np.zeros(len(arraysizes))\n",
    "    y_numpy = np.zeros(len(arraysizes))\n",
    "    y_cupy = np.zeros(len(arraysizes))\n",
    "    plt.rcParams.update({'font.size': 20})\n",
    "    for i in range(0,len(arraysizes)):\n",
    "        cupydata = allData.loc[(allData['ArraySize'] == arraysizes[i]) & (allData['Approach'] == 'cupy')]\n",
    "        numpydata = allData.loc[(allData['ArraySize'] == arraysizes[i]) & (allData['Approach'] == 'numpy')]\n",
    "        y_cupy[i] = np.mean(cupydata['Runtime(s)'])\n",
    "        y_numpy[i] = np.mean(numpydata['Runtime(s)'])\n",
    "        sd_cupy[i] = np.std(cupydata['Runtime(s)'])\n",
    "        sd_numpy[i] = np.std(numpydata['Runtime(s)'])\n",
    "    fig, ax = plt.subplots(figsize=(9, 6))\n",
    "    ax.errorbar(arraysizes, y_numpy, yerr=sd_numpy, fmt='-o',label='numpy')\n",
    "    ax.errorbar(arraysizes, y_cupy, yerr=sd_cupy, fmt='-o',label='cupy')\n",
    "    ax.legend();  # Add a legend.\n",
    "    ax.set_xlabel('ArraySize')  # Add an x-label to the axes.\n",
    "    ax.set_ylabel('Runtime(s)')  # Add a y-label to the axes.\n",
    "    ax.set_title((\"Test_relhum_ice\"))\n",
    "    ax.set_xscale('log')\n",
    "    ax.set_yscale('log')\n",
    "    plt.savefig(name,dpi=fig.dpi)\n",
    "    \n",
    "def test_validation(res_numpy,res_cupy):\n",
    "    assert np.allclose(res_numpy,res_cupy, atol=0.0000001)"
   ]
  },
  {
   "cell_type": "markdown",
   "id": "ca21ef56-6014-4f1b-ac67-e741cf4d4382",
   "metadata": {},
   "source": [
    "## Initializing CPU and CUDA Clusters"
   ]
  },
  {
   "cell_type": "code",
   "execution_count": 3,
   "id": "62bd17c6-9334-44f1-b8c0-7cfa82d04264",
   "metadata": {},
   "outputs": [
    {
     "name": "stderr",
     "output_type": "stream",
     "text": [
      "/glade/work/hkashgar/conda-envs/geocat/lib/python3.10/site-packages/dask_jobqueue/core.py:20: FutureWarning: tmpfile is deprecated and will be removed in a future release. Please use dask.utils.tmpfile instead.\n",
      "  from distributed.utils import tmpfile\n"
     ]
    },
    {
     "name": "stdout",
     "output_type": "stream",
     "text": [
      "#!/usr/bin/env bash\n",
      "\n",
      "#PBS -N dask-worker\n",
      "#PBS -q casper\n",
      "#PBS -A NTDD0005\n",
      "#PBS -l select=1:ncpus=36:mem=100gb\n",
      "#PBS -l walltime=02:00:00\n",
      "\n",
      "/glade/work/hkashgar/conda-envs/geocat/bin/python -m distributed.cli.dask_worker tcp://10.12.205.44:34944 --nthreads 1 --nprocs 36 --memory-limit 2.59GiB --name dummy-name --nanny --death-timeout 60 --interface ib0 --protocol tcp://\n",
      "\n"
     ]
    },
    {
     "data": {
      "text/html": [
       "<div>\n",
       "    <div style=\"width: 24px; height: 24px; background-color: #e1e1e1; border: 3px solid #9D9D9D; border-radius: 5px; position: absolute;\"> </div>\n",
       "    <div style=\"margin-left: 48px;\">\n",
       "        <h3 style=\"margin-bottom: 0px;\">Client</h3>\n",
       "        <p style=\"color: #9D9D9D; margin-bottom: 0px;\">Client-689f1256-03b5-11ed-84a5-3cecef0c464c</p>\n",
       "        <table style=\"width: 100%; text-align: left;\">\n",
       "\n",
       "        <tr>\n",
       "        \n",
       "            <td style=\"text-align: left;\"><strong>Connection method:</strong> Cluster object</td>\n",
       "            <td style=\"text-align: left;\"><strong>Cluster type:</strong> dask_jobqueue.PBSCluster</td>\n",
       "        \n",
       "        </tr>\n",
       "\n",
       "        \n",
       "            <tr>\n",
       "                <td style=\"text-align: left;\">\n",
       "                    <strong>Dashboard: </strong> <a href=\"https://jupyterhub.hpc.ucar.edu/stable/user/hkashgar/proxy/8787/status\" target=\"_blank\">https://jupyterhub.hpc.ucar.edu/stable/user/hkashgar/proxy/8787/status</a>\n",
       "                </td>\n",
       "                <td style=\"text-align: left;\"></td>\n",
       "            </tr>\n",
       "        \n",
       "\n",
       "        </table>\n",
       "\n",
       "        \n",
       "            <details>\n",
       "            <summary style=\"margin-bottom: 20px;\"><h3 style=\"display: inline;\">Cluster Info</h3></summary>\n",
       "            <div class=\"jp-RenderedHTMLCommon jp-RenderedHTML jp-mod-trusted jp-OutputArea-output\">\n",
       "    <div style=\"width: 24px; height: 24px; background-color: #e1e1e1; border: 3px solid #9D9D9D; border-radius: 5px; position: absolute;\">\n",
       "    </div>\n",
       "    <div style=\"margin-left: 48px;\">\n",
       "        <h3 style=\"margin-bottom: 0px; margin-top: 0px;\">PBSCluster</h3>\n",
       "        <p style=\"color: #9D9D9D; margin-bottom: 0px;\">b661dc16</p>\n",
       "        <table style=\"width: 100%; text-align: left;\">\n",
       "            <tr>\n",
       "                <td style=\"text-align: left;\">\n",
       "                    <strong>Dashboard:</strong> <a href=\"https://jupyterhub.hpc.ucar.edu/stable/user/hkashgar/proxy/8787/status\" target=\"_blank\">https://jupyterhub.hpc.ucar.edu/stable/user/hkashgar/proxy/8787/status</a>\n",
       "                </td>\n",
       "                <td style=\"text-align: left;\">\n",
       "                    <strong>Workers:</strong> 0\n",
       "                </td>\n",
       "            </tr>\n",
       "            <tr>\n",
       "                <td style=\"text-align: left;\">\n",
       "                    <strong>Total threads:</strong> 0\n",
       "                </td>\n",
       "                <td style=\"text-align: left;\">\n",
       "                    <strong>Total memory:</strong> 0 B\n",
       "                </td>\n",
       "            </tr>\n",
       "            \n",
       "        </table>\n",
       "\n",
       "        <details>\n",
       "            <summary style=\"margin-bottom: 20px;\">\n",
       "                <h3 style=\"display: inline;\">Scheduler Info</h3>\n",
       "            </summary>\n",
       "\n",
       "            <div style=\"\">\n",
       "    <div>\n",
       "        <div style=\"width: 24px; height: 24px; background-color: #FFF7E5; border: 3px solid #FF6132; border-radius: 5px; position: absolute;\"> </div>\n",
       "        <div style=\"margin-left: 48px;\">\n",
       "            <h3 style=\"margin-bottom: 0px;\">Scheduler</h3>\n",
       "            <p style=\"color: #9D9D9D; margin-bottom: 0px;\">Scheduler-9953362a-fda3-4f52-8b6f-12f6cc286f06</p>\n",
       "            <table style=\"width: 100%; text-align: left;\">\n",
       "                <tr>\n",
       "                    <td style=\"text-align: left;\">\n",
       "                        <strong>Comm:</strong> tcp://10.12.205.44:34944\n",
       "                    </td>\n",
       "                    <td style=\"text-align: left;\">\n",
       "                        <strong>Workers:</strong> 0\n",
       "                    </td>\n",
       "                </tr>\n",
       "                <tr>\n",
       "                    <td style=\"text-align: left;\">\n",
       "                        <strong>Dashboard:</strong> <a href=\"https://jupyterhub.hpc.ucar.edu/stable/user/hkashgar/proxy/8787/status\" target=\"_blank\">https://jupyterhub.hpc.ucar.edu/stable/user/hkashgar/proxy/8787/status</a>\n",
       "                    </td>\n",
       "                    <td style=\"text-align: left;\">\n",
       "                        <strong>Total threads:</strong> 0\n",
       "                    </td>\n",
       "                </tr>\n",
       "                <tr>\n",
       "                    <td style=\"text-align: left;\">\n",
       "                        <strong>Started:</strong> Just now\n",
       "                    </td>\n",
       "                    <td style=\"text-align: left;\">\n",
       "                        <strong>Total memory:</strong> 0 B\n",
       "                    </td>\n",
       "                </tr>\n",
       "            </table>\n",
       "        </div>\n",
       "    </div>\n",
       "\n",
       "    <details style=\"margin-left: 48px;\">\n",
       "        <summary style=\"margin-bottom: 20px;\">\n",
       "            <h3 style=\"display: inline;\">Workers</h3>\n",
       "        </summary>\n",
       "\n",
       "        \n",
       "\n",
       "    </details>\n",
       "</div>\n",
       "\n",
       "        </details>\n",
       "    </div>\n",
       "</div>\n",
       "            </details>\n",
       "        \n",
       "\n",
       "    </div>\n",
       "</div>"
      ],
      "text/plain": [
       "<Client: 'tcp://10.12.205.44:34944' processes=0 threads=0, memory=0 B>"
      ]
     },
     "execution_count": 3,
     "metadata": {},
     "output_type": "execute_result"
    }
   ],
   "source": [
    "# import dask.array as da\n",
    "from dask_jobqueue import PBSCluster\n",
    "from dask.distributed import Client\n",
    "\n",
    "clusterCPU = PBSCluster(memory='100 GB',\n",
    "                     processes=36,\n",
    "                     cores=36,\n",
    "                     queue='casper',\n",
    "                     walltime='02:00:00',\n",
    "                     resource_spec='select=1:ncpus=36:mem=100gb')\n",
    "print(clusterCPU.job_script())\n",
    "clusterCPU.scale(1)\n",
    "client = Client(clusterCPU)\n",
    "#cluster.close()\n",
    "client"
   ]
  },
  {
   "cell_type": "code",
   "execution_count": 4,
   "id": "4acda4fe-aeb3-404f-b315-c146606fdfc1",
   "metadata": {},
   "outputs": [
    {
     "name": "stdout",
     "output_type": "stream",
     "text": [
      "#!/usr/bin/env bash\n",
      "\n",
      "#PBS -N dask-worker\n",
      "#PBS -q casper\n",
      "#PBS -A NTDD0005\n",
      "#PBS -l select=1:ncpus=1:ngpus=1:mem=200gb\n",
      "#PBS -l walltime=02:00:00\n",
      "\n",
      "/glade/work/hkashgar/conda-envs/geocat/bin/python -m distributed.cli.dask_worker tcp://10.12.205.44:42414 --nthreads 1 --memory-limit 186.26GiB --name dummy-name --nanny --death-timeout 60 --interface ib0 --protocol tcp://\n",
      "\n"
     ]
    },
    {
     "name": "stderr",
     "output_type": "stream",
     "text": [
      "/glade/work/hkashgar/conda-envs/geocat/lib/python3.10/site-packages/distributed/node.py:177: UserWarning: Port 8787 is already in use.\n",
      "Perhaps you already have a cluster running?\n",
      "Hosting the HTTP server on port 39216 instead\n",
      "  warnings.warn(\n"
     ]
    },
    {
     "data": {
      "text/html": [
       "<div>\n",
       "    <div style=\"width: 24px; height: 24px; background-color: #e1e1e1; border: 3px solid #9D9D9D; border-radius: 5px; position: absolute;\"> </div>\n",
       "    <div style=\"margin-left: 48px;\">\n",
       "        <h3 style=\"margin-bottom: 0px;\">Client</h3>\n",
       "        <p style=\"color: #9D9D9D; margin-bottom: 0px;\">Client-69a6e400-03b5-11ed-84a5-3cecef0c464c</p>\n",
       "        <table style=\"width: 100%; text-align: left;\">\n",
       "\n",
       "        <tr>\n",
       "        \n",
       "            <td style=\"text-align: left;\"><strong>Connection method:</strong> Cluster object</td>\n",
       "            <td style=\"text-align: left;\"><strong>Cluster type:</strong> dask_jobqueue.PBSCluster</td>\n",
       "        \n",
       "        </tr>\n",
       "\n",
       "        \n",
       "            <tr>\n",
       "                <td style=\"text-align: left;\">\n",
       "                    <strong>Dashboard: </strong> <a href=\"https://jupyterhub.hpc.ucar.edu/stable/user/hkashgar/proxy/39216/status\" target=\"_blank\">https://jupyterhub.hpc.ucar.edu/stable/user/hkashgar/proxy/39216/status</a>\n",
       "                </td>\n",
       "                <td style=\"text-align: left;\"></td>\n",
       "            </tr>\n",
       "        \n",
       "\n",
       "        </table>\n",
       "\n",
       "        \n",
       "            <details>\n",
       "            <summary style=\"margin-bottom: 20px;\"><h3 style=\"display: inline;\">Cluster Info</h3></summary>\n",
       "            <div class=\"jp-RenderedHTMLCommon jp-RenderedHTML jp-mod-trusted jp-OutputArea-output\">\n",
       "    <div style=\"width: 24px; height: 24px; background-color: #e1e1e1; border: 3px solid #9D9D9D; border-radius: 5px; position: absolute;\">\n",
       "    </div>\n",
       "    <div style=\"margin-left: 48px;\">\n",
       "        <h3 style=\"margin-bottom: 0px; margin-top: 0px;\">PBSCluster</h3>\n",
       "        <p style=\"color: #9D9D9D; margin-bottom: 0px;\">f500b73d</p>\n",
       "        <table style=\"width: 100%; text-align: left;\">\n",
       "            <tr>\n",
       "                <td style=\"text-align: left;\">\n",
       "                    <strong>Dashboard:</strong> <a href=\"https://jupyterhub.hpc.ucar.edu/stable/user/hkashgar/proxy/39216/status\" target=\"_blank\">https://jupyterhub.hpc.ucar.edu/stable/user/hkashgar/proxy/39216/status</a>\n",
       "                </td>\n",
       "                <td style=\"text-align: left;\">\n",
       "                    <strong>Workers:</strong> 0\n",
       "                </td>\n",
       "            </tr>\n",
       "            <tr>\n",
       "                <td style=\"text-align: left;\">\n",
       "                    <strong>Total threads:</strong> 0\n",
       "                </td>\n",
       "                <td style=\"text-align: left;\">\n",
       "                    <strong>Total memory:</strong> 0 B\n",
       "                </td>\n",
       "            </tr>\n",
       "            \n",
       "        </table>\n",
       "\n",
       "        <details>\n",
       "            <summary style=\"margin-bottom: 20px;\">\n",
       "                <h3 style=\"display: inline;\">Scheduler Info</h3>\n",
       "            </summary>\n",
       "\n",
       "            <div style=\"\">\n",
       "    <div>\n",
       "        <div style=\"width: 24px; height: 24px; background-color: #FFF7E5; border: 3px solid #FF6132; border-radius: 5px; position: absolute;\"> </div>\n",
       "        <div style=\"margin-left: 48px;\">\n",
       "            <h3 style=\"margin-bottom: 0px;\">Scheduler</h3>\n",
       "            <p style=\"color: #9D9D9D; margin-bottom: 0px;\">Scheduler-11ec747f-6594-4255-9487-9bd966db0f93</p>\n",
       "            <table style=\"width: 100%; text-align: left;\">\n",
       "                <tr>\n",
       "                    <td style=\"text-align: left;\">\n",
       "                        <strong>Comm:</strong> tcp://10.12.205.44:42414\n",
       "                    </td>\n",
       "                    <td style=\"text-align: left;\">\n",
       "                        <strong>Workers:</strong> 0\n",
       "                    </td>\n",
       "                </tr>\n",
       "                <tr>\n",
       "                    <td style=\"text-align: left;\">\n",
       "                        <strong>Dashboard:</strong> <a href=\"https://jupyterhub.hpc.ucar.edu/stable/user/hkashgar/proxy/39216/status\" target=\"_blank\">https://jupyterhub.hpc.ucar.edu/stable/user/hkashgar/proxy/39216/status</a>\n",
       "                    </td>\n",
       "                    <td style=\"text-align: left;\">\n",
       "                        <strong>Total threads:</strong> 0\n",
       "                    </td>\n",
       "                </tr>\n",
       "                <tr>\n",
       "                    <td style=\"text-align: left;\">\n",
       "                        <strong>Started:</strong> Just now\n",
       "                    </td>\n",
       "                    <td style=\"text-align: left;\">\n",
       "                        <strong>Total memory:</strong> 0 B\n",
       "                    </td>\n",
       "                </tr>\n",
       "            </table>\n",
       "        </div>\n",
       "    </div>\n",
       "\n",
       "    <details style=\"margin-left: 48px;\">\n",
       "        <summary style=\"margin-bottom: 20px;\">\n",
       "            <h3 style=\"display: inline;\">Workers</h3>\n",
       "        </summary>\n",
       "\n",
       "        \n",
       "\n",
       "    </details>\n",
       "</div>\n",
       "\n",
       "        </details>\n",
       "    </div>\n",
       "</div>\n",
       "            </details>\n",
       "        \n",
       "\n",
       "    </div>\n",
       "</div>"
      ],
      "text/plain": [
       "<Client: 'tcp://10.12.205.44:42414' processes=0 threads=0, memory=0 B>"
      ]
     },
     "execution_count": 4,
     "metadata": {},
     "output_type": "execute_result"
    }
   ],
   "source": [
    "# import dask.array as da\n",
    "from dask_jobqueue import PBSCluster\n",
    "from dask.distributed import Client\n",
    "\n",
    "clusterCUDA = PBSCluster(memory='200 GB',\n",
    "                     processes=1,\n",
    "                     cores=1,\n",
    "                     queue='casper',\n",
    "                     walltime='02:00:00',\n",
    "                     resource_spec='select=1:ncpus=1:ngpus=1:mem=200gb')\n",
    "print(clusterCUDA.job_script())\n",
    "clusterCUDA.scale(1)\n",
    "client = Client(clusterCUDA)\n",
    "#cluster.close()\n",
    "client"
   ]
  },
  {
   "cell_type": "markdown",
   "id": "fa2a6dce-2862-42fd-b577-fd0d3b57a430",
   "metadata": {},
   "source": [
    "## Initializing Arrays"
   ]
  },
  {
   "cell_type": "code",
   "execution_count": 5,
   "id": "f3103bd5-f76e-4fd8-9531-f1bbccb99aa2",
   "metadata": {},
   "outputs": [],
   "source": [
    "max_power = 8\n",
    "chunksize = 10**5\n",
    "p_def_arrays = []\n",
    "tc_def_arrays = []\n",
    "w_def_arrays = []\n",
    "tk_def_arrays = []\n",
    "for i in range(1,max_power):\n",
    "    ArraySize = 10**i\n",
    "    p_def_arrays.append(xr.DataArray(np.random.uniform(low=2000,high=100800,size=10**i)))\n",
    "    tc_def_arrays.append(xr.DataArray(np.random.uniform(low=-10,high=0,size=10**i)))\n",
    "    w_def_arrays.append(xr.DataArray(np.random.uniform(low=0,high=0.0037,size=10**i)))\n",
    "for tc in tc_def_arrays:\n",
    "    tk_def_arrays.append(xr.DataArray(tc + 273.15))\n",
    "numpy_results = []\n",
    "cupy_results = []\n"
   ]
  },
  {
   "cell_type": "markdown",
   "id": "c4f57ff7-fb58-43f3-be12-61af00641488",
   "metadata": {
    "tags": []
   },
   "source": [
    "## Testing Numpy input and CPU"
   ]
  },
  {
   "cell_type": "code",
   "execution_count": 6,
   "id": "8d383dec-7760-4e14-bdc5-3fd881b00809",
   "metadata": {},
   "outputs": [],
   "source": [
    "xp = np\n",
    "for i in range(max_power-1):\n",
    "    p_def = p_def_arrays[i].data\n",
    "    w_def = w_def_arrays[i].data\n",
    "    tk_def = tk_def_arrays[i].data\n",
    "    rh_gt_1 = geo.relhum_ice(tk_def, w_def, p_def, use_gpu = False)"
   ]
  },
  {
   "cell_type": "code",
   "execution_count": 7,
   "id": "d4072a75-751d-4133-826f-5c4215b483ae",
   "metadata": {},
   "outputs": [
    {
     "data": {
      "text/plain": [
       "numpy.ndarray"
      ]
     },
     "execution_count": 7,
     "metadata": {},
     "output_type": "execute_result"
    }
   ],
   "source": [
    "type(rh_gt_1)"
   ]
  },
  {
   "cell_type": "markdown",
   "id": "c82fbf02-f23f-44f1-a917-b276b32036da",
   "metadata": {
    "tags": []
   },
   "source": [
    "## Testing Numpy input and GPU"
   ]
  },
  {
   "cell_type": "code",
   "execution_count": 8,
   "id": "d604910b-524e-4f82-94ca-216c231f01eb",
   "metadata": {},
   "outputs": [],
   "source": [
    "for i in range(max_power-1):\n",
    "    p_def = p_def_arrays[i].data\n",
    "    w_def = w_def_arrays[i].data\n",
    "    tk_def = tk_def_arrays[i].data\n",
    "    rh_gt_2 = geo.relhum_ice(tk_def, w_def, p_def, use_gpu = True)"
   ]
  },
  {
   "cell_type": "code",
   "execution_count": 9,
   "id": "859d5455-3cbb-434c-bbcb-4fa15a8c20f2",
   "metadata": {},
   "outputs": [
    {
     "data": {
      "text/plain": [
       "<CUDA Device 0>"
      ]
     },
     "execution_count": 9,
     "metadata": {},
     "output_type": "execute_result"
    }
   ],
   "source": [
    "rh_gt_2.device"
   ]
  },
  {
   "cell_type": "markdown",
   "id": "14a4fd4c-2b40-47aa-a090-6ce513e4b420",
   "metadata": {
    "tags": []
   },
   "source": [
    "## Testing Xarray input and CPU"
   ]
  },
  {
   "cell_type": "code",
   "execution_count": 10,
   "id": "42547a9d-22f4-41b3-8dd5-6d5b0d360e4c",
   "metadata": {},
   "outputs": [],
   "source": [
    "import xarray as xr\n",
    "for i in range(max_power-1):\n",
    "    p_def = p_def_arrays[i]\n",
    "    w_def = w_def_arrays[i]\n",
    "    tk_def = tk_def_arrays[i]\n",
    "    rh_gt_1 = geo.relhum_ice(tk_def, w_def, p_def, use_gpu = False)"
   ]
  },
  {
   "cell_type": "code",
   "execution_count": 11,
   "id": "3583a78b-1c84-4bfa-91ab-a8ef5dd9f701",
   "metadata": {},
   "outputs": [
    {
     "data": {
      "text/plain": [
       "numpy.ndarray"
      ]
     },
     "execution_count": 11,
     "metadata": {},
     "output_type": "execute_result"
    }
   ],
   "source": [
    "type(rh_gt_1.data)"
   ]
  },
  {
   "cell_type": "markdown",
   "id": "25d892e2-66a7-42e6-8054-909d510ce5dc",
   "metadata": {
    "tags": []
   },
   "source": [
    "## Testing Xarray input and GPU"
   ]
  },
  {
   "cell_type": "code",
   "execution_count": 12,
   "id": "7a507eef-4dbf-4ef3-8099-e78b0194df09",
   "metadata": {},
   "outputs": [],
   "source": [
    "for i in range(max_power-1):\n",
    "    p_def = p_def_arrays[i]\n",
    "    w_def = w_def_arrays[i]\n",
    "    tk_def = tk_def_arrays[i]\n",
    "    rh_gt_2 = geo.relhum_ice(tk_def, w_def, p_def, use_gpu = True)"
   ]
  },
  {
   "cell_type": "code",
   "execution_count": 13,
   "id": "15be85d4-4963-444a-b689-67e0f53f33b0",
   "metadata": {},
   "outputs": [
    {
     "data": {
      "text/plain": [
       "<CUDA Device 0>"
      ]
     },
     "execution_count": 13,
     "metadata": {},
     "output_type": "execute_result"
    }
   ],
   "source": [
    "rh_gt_2.data.device"
   ]
  },
  {
   "cell_type": "markdown",
   "id": "3acc4745-d762-4eb4-b5ef-4dcb31ad0671",
   "metadata": {
    "tags": []
   },
   "source": [
    "## Unittests with CPU!"
   ]
  },
  {
   "cell_type": "code",
   "execution_count": 2,
   "id": "bed32a55-c85c-4fa7-bd45-3ff4395a0cb3",
   "metadata": {},
   "outputs": [],
   "source": [
    "test = Test_relhum_ice()\n",
    "\n",
    "test.test_float_input(use_gpu = False)"
   ]
  },
  {
   "cell_type": "markdown",
   "id": "833e46b4-5d32-4ee4-b24c-dd4d90d57b20",
   "metadata": {
    "tags": []
   },
   "source": [
    "## Unittests with GPU"
   ]
  },
  {
   "cell_type": "code",
   "execution_count": 3,
   "id": "0c907e70-e181-4328-8083-7ac9ab53e734",
   "metadata": {},
   "outputs": [],
   "source": [
    "test = Test_relhum_ice()\n",
    "\n",
    "test.test_float_input(use_gpu = True)"
   ]
  },
  {
   "cell_type": "markdown",
   "id": "89402be5-a57e-4037-a487-e3523d2ae4ff",
   "metadata": {
    "tags": []
   },
   "source": [
    "## Benchmark Results for different Array Sizes (NUMPY/CUPY)"
   ]
  },
  {
   "cell_type": "code",
   "execution_count": 21,
   "id": "864afb6b-31c7-4f01-90ad-806fc289245b",
   "metadata": {},
   "outputs": [
    {
     "name": "stdout",
     "output_type": "stream",
     "text": [
      "Relhum_ice\n",
      "Array size:  10\n",
      "numpy 1.8405914306640626e-05 seconds\n",
      "cupy 0.0004099607467651367 seconds\n",
      "Array size:  100\n",
      "numpy 2.064704895019531e-05 seconds\n",
      "cupy 0.00029113292694091795 seconds\n",
      "Array size:  1000\n",
      "numpy 2.536773681640625e-05 seconds\n",
      "cupy 0.00031421184539794924 seconds\n",
      "Array size:  10000\n",
      "numpy 8.640289306640624e-05 seconds\n",
      "cupy 0.0003402233123779297 seconds\n",
      "Array size:  100000\n",
      "numpy 0.0010057449340820312 seconds\n",
      "cupy 0.0009355783462524414 seconds\n",
      "Array size:  1000000\n",
      "numpy 0.01478590965270996 seconds\n",
      "cupy 0.006012248992919922 seconds\n",
      "Array size:  10000000\n",
      "numpy 0.26353437900543214 seconds\n",
      "cupy 0.05744280815124512 seconds\n"
     ]
    },
    {
     "data": {
      "image/png": "[encoded data removed]",
      "text/plain": [
       "<Figure size 648x432 with 1 Axes>"
      ]
     },
     "metadata": {
      "needs_background": "light"
     },
     "output_type": "display_data"
    }
   ],
   "source": [
    "#Test_relhum main body\n",
    "Routine = \"Relhum_ice\"\n",
    "print(Routine)\n",
    "allData = pd.DataFrame()\n",
    "#For different Array sizes\n",
    "for i in range(1,max_power):\n",
    "    ArraySize = 10**i\n",
    "    p_def = p_def_arrays[i-1].data\n",
    "    tk_def = tk_def_arrays[i-1].data\n",
    "    w_def = w_def_arrays[i-1].data\n",
    "    print(\"Array size: \", ArraySize)\n",
    "    #for numpy and cupy both\n",
    "    for xp in [np,cp]:\n",
    "        #calculation will be repeated 10 time to get the less biased performance results\n",
    "        repsize = 10\n",
    "        repeat = np.zeros([repsize])\n",
    "        for rep in range(0,repsize):\n",
    "            #create different sizes of arrays\n",
    "            if(xp == cp):\n",
    "                res_cupy = geo.relhum_ice(tk_def, w_def, p_def,True)\n",
    "                cp.cuda.runtime.deviceSynchronize()\n",
    "                time1 = time.time()\n",
    "                res_cupy = geo.relhum_ice(tk_def, w_def, p_def,True)\n",
    "                cp.cuda.runtime.deviceSynchronize()\n",
    "                time2 = time.time()\n",
    "                repeat[rep] = time2-time1\n",
    "            else:\n",
    "                time1 = time.time()\n",
    "                res_numpy = geo.relhum_ice(tk_def, w_def,p_def,False)\n",
    "                time2 = time.time()\n",
    "                repeat[rep] = time2-time1\n",
    "        #save times\n",
    "        data = {'Routine': np.repeat(Routine, repsize),\n",
    "                'Input':\"NumPy input\",\n",
    "                'Approach': np.repeat(xp.__name__ , repsize),\n",
    "                'ArraySize': np.repeat(ArraySize , repsize),\n",
    "                'iteration' : np.arange(1,repsize+1),\n",
    "                'Runtime(s)': repeat}\n",
    "\n",
    "        allData = pd.concat([allData,pd.DataFrame(data)], ignore_index=True)\n",
    "        print(xp.__name__,np.mean(repeat), \"seconds\")\n",
    "    test_validation(res_numpy,res_cupy)\n",
    "try:\n",
    "    previous = pd.read_csv(csvpath)\n",
    "    previous = pd.concat([previous,allData])\n",
    "except FileNotFoundError:\n",
    "    previous = allData\n",
    "previous.to_csv(csvpath, index=False)\n",
    "plot(allData,\"Test_relhum_ice_ported_numpy.jpg\")"
   ]
  },
  {
   "cell_type": "markdown",
   "id": "f5bcd16c-5c6c-4cad-9e38-73b9f26cbcd9",
   "metadata": {
    "tags": []
   },
   "source": [
    "## Results for different ArraySizes Xarray (with NumPy/CuPy arrays inside the Xarray)"
   ]
  },
  {
   "cell_type": "markdown",
   "id": "3a2a39d2-8527-4145-8ac9-f03b466c29ec",
   "metadata": {
    "tags": []
   },
   "source": [
    "### Test Relhum_ice on CPU"
   ]
  },
  {
   "cell_type": "code",
   "execution_count": 22,
   "id": "f8e6e2c6-2b68-488e-adef-6e0e9450d744",
   "metadata": {},
   "outputs": [
    {
     "name": "stdout",
     "output_type": "stream",
     "text": [
      "Relhum\n",
      "Array size:  10\n",
      "numpy 1.3780593872070312e-05 seconds\n",
      "Array size:  100\n",
      "numpy 1.4901161193847656e-05 seconds\n",
      "Array size:  1000\n",
      "numpy 2.226829528808594e-05 seconds\n",
      "Array size:  10000\n",
      "numpy 0.00042285919189453123 seconds\n",
      "Array size:  100000\n",
      "numpy 0.0009598255157470704 seconds\n",
      "Array size:  1000000\n",
      "numpy 0.013452649116516113 seconds\n",
      "Array size:  10000000\n",
      "numpy 0.27206475734710694 seconds\n"
     ]
    }
   ],
   "source": [
    "csvpath = \"relhum_ice_ported_test_xarray.csv\"\n",
    "#Test_relhum main body\n",
    "Routine = \"Relhum\"\n",
    "print(Routine)\n",
    "allData = pd.DataFrame()\n",
    "#For different Array sizes\n",
    "for i in range(1,max_power):\n",
    "    ArraySize = 10**i\n",
    "    print(\"Array size: \", ArraySize)\n",
    "    p_def = p_def_arrays[i-1].data\n",
    "    tk_def = tk_def_arrays[i-1].data\n",
    "    w_def = w_def_arrays[i-1].data\n",
    "    #for numpy and cupy both\n",
    "    xp = np \n",
    "    repsize = 10\n",
    "    repeat = np.zeros([repsize])\n",
    "    for rep in range(0,repsize):\n",
    "    #create different sizes of arrays\n",
    "        numpy_res = geo.relhum_ice(tk_def, w_def, p_def,False)\n",
    "        time1 = time.time()\n",
    "        numpy_res = geo.relhum_ice(tk_def, w_def, p_def,False)\n",
    "        time2 = time.time()\n",
    "        repeat[rep] = time2-time1\n",
    "    numpy_results.append(numpy_res)\n",
    "    #save times\n",
    "    data = {'Routine': np.repeat(Routine, repsize),\n",
    "            'Input':\"Xarray with NumPy input\",\n",
    "            'Approach': np.repeat(xp.__name__ , repsize),\n",
    "            'ArraySize': np.repeat(ArraySize , repsize),\n",
    "            'iteration' : np.arange(1,repsize+1),\n",
    "            'Runtime(s)': repeat}\n",
    "    allData = pd.concat([allData,pd.DataFrame(data)], ignore_index=True)\n",
    "    print(xp.__name__,np.mean(repeat), \"seconds\")\n",
    "try:\n",
    "    previous = pd.read_csv(csvpath)\n",
    "    previous = pd.concat([previous,allData])\n",
    "except FileNotFoundError:\n",
    "    previous = allData\n",
    "previous.to_csv(csvpath, index=False)"
   ]
  },
  {
   "cell_type": "markdown",
   "id": "879a9679-29e3-4c11-8ae1-420f9e049814",
   "metadata": {
    "tags": []
   },
   "source": [
    "### Test Relhum_ice on GPU"
   ]
  },
  {
   "cell_type": "code",
   "execution_count": 23,
   "id": "131f990f-055b-4513-867d-1e094efe7e99",
   "metadata": {},
   "outputs": [
    {
     "name": "stdout",
     "output_type": "stream",
     "text": [
      "Relhum\n",
      "Array size:  10\n",
      "cupy 0.00029878616333007814 seconds\n",
      "Array size:  100\n",
      "cupy 0.00028231143951416013 seconds\n",
      "Array size:  1000\n",
      "cupy 0.00030086040496826174 seconds\n",
      "Array size:  10000\n",
      "cupy 0.00035996437072753905 seconds\n",
      "Array size:  100000\n",
      "cupy 0.0007845401763916015 seconds\n",
      "Array size:  1000000\n",
      "cupy 0.006602883338928223 seconds\n",
      "Array size:  10000000\n",
      "cupy 0.05651581287384033 seconds\n"
     ]
    },
    {
     "name": "stderr",
     "output_type": "stream",
     "text": [
      "/glade/work/hkashgar/conda-envs/geocat/lib/python3.10/site-packages/matplotlib/axes/_base.py:2480: UserWarning: Warning: converting a masked element to nan.\n",
      "  xys = np.asarray(xys)\n"
     ]
    },
    {
     "data": {
      "image/png": "[encoded data removed]",
      "text/plain": [
       "<Figure size 648x432 with 1 Axes>"
      ]
     },
     "metadata": {
      "needs_background": "light"
     },
     "output_type": "display_data"
    }
   ],
   "source": [
    "#Test_relhum main body\n",
    "Routine = \"Relhum\"\n",
    "print(Routine)\n",
    "allData = pd.DataFrame()\n",
    "#For different Array sizes\n",
    "for i in range(1,max_power):\n",
    "    ArraySize = 10**i\n",
    "    p_def = p_def_arrays[i-1].data\n",
    "    tk_def = tk_def_arrays[i-1].data\n",
    "    w_def = w_def_arrays[i-1].data\n",
    "    print(\"Array size: \", ArraySize)\n",
    "    #for numpy and cupy both\n",
    "    xp = cp\n",
    "        #calculation will be repeated 10 time to get the less biased performance results\n",
    "    repsize = 10\n",
    "    repeat = np.zeros([repsize])\n",
    "    for rep in range(0,repsize):\n",
    "        #create different sizes of arrays\n",
    "        cupy_res = geo.relhum_ice(tk_def, w_def, p_def,True)\n",
    "        cp.cuda.runtime.deviceSynchronize()\n",
    "        time1 = time.time()\n",
    "        cupy_res = geo.relhum_ice(tk_def, w_def, p_def,True)\n",
    "        cp.cuda.runtime.deviceSynchronize()\n",
    "        time2 = time.time()\n",
    "        repeat[rep] = time2-time1\n",
    "    cupy_results.append(cupy_res)\n",
    "    #save times\n",
    "    data = {'Routine': np.repeat(Routine, repsize),\n",
    "            'Input':\"Xarray with NumPy input\",\n",
    "            'Approach': np.repeat(xp.__name__ , repsize),\n",
    "            'ArraySize': np.repeat(ArraySize , repsize),\n",
    "            'iteration' : np.arange(1,repsize+1),\n",
    "            'Runtime(s)': repeat}\n",
    "    allData = pd.concat([allData,pd.DataFrame(data)], ignore_index=True)\n",
    "    print(xp.__name__,np.mean(repeat), \"seconds\")\n",
    "\n",
    "try:\n",
    "    previous = pd.read_csv(csvpath)\n",
    "    previous = pd.concat([previous,allData])\n",
    "except FileNotFoundError:\n",
    "    previous = allData\n",
    "previous.to_csv(csvpath, index=False)\n",
    "plot(allData,\"Test_relhum_ice_ported_xarray.jpg\")"
   ]
  },
  {
   "cell_type": "markdown",
   "id": "43a17406-2783-4389-b78e-8142cf27e5ac",
   "metadata": {
    "tags": []
   },
   "source": [
    "### Validation"
   ]
  },
  {
   "cell_type": "code",
   "execution_count": 25,
   "id": "fb8a3094-2533-40d0-b6d4-2a2783c88aa3",
   "metadata": {},
   "outputs": [],
   "source": [
    "#validation \n",
    "for i in range(len(numpy_results)):\n",
    "    test_validation(cupy_results[i],numpy_results[i])"
   ]
  },
  {
   "cell_type": "code",
   "execution_count": 26,
   "id": "b58db857-2ab8-4466-8340-67f03b646a0f",
   "metadata": {},
   "outputs": [
    {
     "data": {
      "text/plain": [
       "array([ 1.35247119, 90.72837693, 14.46813122, 62.55425514,  0.97437599,\n",
       "       61.87859257, 67.26575958,  7.27584035, 43.18261208, 26.39522288])"
      ]
     },
     "execution_count": 26,
     "metadata": {},
     "output_type": "execute_result"
    }
   ],
   "source": [
    "cupy_results[0]"
   ]
  },
  {
   "cell_type": "code",
   "execution_count": 27,
   "id": "0eac048e-c86e-429b-880a-2526c5492581",
   "metadata": {},
   "outputs": [
    {
     "data": {
      "text/plain": [
       "array([ 1.35247119, 90.72837693, 14.46813122, 62.55425514,  0.97437599,\n",
       "       61.87859257, 67.26575958,  7.27584035, 43.18261208, 26.39522288])"
      ]
     },
     "execution_count": 27,
     "metadata": {},
     "output_type": "execute_result"
    }
   ],
   "source": [
    "numpy_results[0]"
   ]
  },
  {
   "cell_type": "code",
   "execution_count": null,
   "id": "a2147e24-6582-4745-b20f-a203b6f6dbb2",
   "metadata": {},
   "outputs": [],
   "source": []
  }
 ],
 "metadata": {
  "kernelspec": {
   "display_name": "Python [conda env:geocat]",
   "language": "python",
   "name": "conda-env-geocat-py"
  },
  "language_info": {
   "codemirror_mode": {
    "name": "ipython",
    "version": 3
   },
   "file_extension": ".py",
   "mimetype": "text/x-python",
   "name": "python",
   "nbconvert_exporter": "python",
   "pygments_lexer": "ipython3",
   "version": "3.10.4"
  }
 },
 "nbformat": 4,
 "nbformat_minor": 5
}
