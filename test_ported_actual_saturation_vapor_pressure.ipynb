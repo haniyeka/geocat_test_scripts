{
 "cells": [
  {
   "cell_type": "code",
   "execution_count": 1,
   "id": "2fdf765e-36ac-4dd6-a450-4bbda8900b51",
   "metadata": {},
   "outputs": [],
   "source": [
    "import time\n",
    "import unittest\n",
    "from test.test_crop import Test_actual_saturation_vapor_pressure\n",
    "\n",
    "import cupy as cp\n",
    "import dask\n",
    "import numpy as np\n",
    "import pandas as pd\n",
    "import dask.array as da\n",
    "import src.geocat.comp.crop as geo\n",
    "import xarray as xr\n",
    "csvpath = \"actual_saturation_vapor_pressure_ported_test_numpy.csv\""
   ]
  },
  {
   "cell_type": "markdown",
   "id": "adb53418-ba38-451d-81d7-8bfa93fa5830",
   "metadata": {
    "tags": []
   },
   "source": [
    "## Plotting and Validation"
   ]
  },
  {
   "cell_type": "code",
   "execution_count": 2,
   "id": "d48da88f-2a8a-4683-8b68-0ae7faaea2ee",
   "metadata": {},
   "outputs": [],
   "source": [
    "import matplotlib.pyplot as plt\n",
    "import numpy as np\n",
    "\n",
    "def plot(allData,name):\n",
    "    arraysizes = np.unique(allData['ArraySize'])\n",
    "    sd_numpy = np.zeros(len(arraysizes))\n",
    "    sd_cupy = np.zeros(len(arraysizes))\n",
    "    y_numpy = np.zeros(len(arraysizes))\n",
    "    y_cupy = np.zeros(len(arraysizes))\n",
    "    plt.rcParams.update({'font.size': 15})\n",
    "    for i in range(0,len(arraysizes)):\n",
    "        cupydata = allData.loc[(allData['ArraySize'] == arraysizes[i]) & (allData['Approach'] == 'cupy')]\n",
    "        numpydata = allData.loc[(allData['ArraySize'] == arraysizes[i]) & (allData['Approach'] == 'numpy')]\n",
    "        y_cupy[i] = np.mean(cupydata['Runtime(s)'])\n",
    "        y_numpy[i] = np.mean(numpydata['Runtime(s)'])\n",
    "        sd_cupy[i] = np.std(cupydata['Runtime(s)'])\n",
    "        sd_numpy[i] = np.std(numpydata['Runtime(s)'])\n",
    "    fig, ax = plt.subplots(figsize=(9, 6))\n",
    "    ax.errorbar(arraysizes, y_numpy, yerr=sd_numpy, fmt='-o',label='numpy')\n",
    "    ax.errorbar(arraysizes, y_cupy, yerr=sd_cupy, fmt='-o',label='cupy')\n",
    "    ax.legend();  # Add a legend.\n",
    "    ax.set_xlabel('ArraySize')  # Add an x-label to the axes.\n",
    "    ax.set_ylabel('Runtime(s)')  # Add a y-label to the axes.\n",
    "    ax.set_title((\"Test_actual_saturation_vapor_pressure\"))\n",
    "    ax.set_xscale('log')\n",
    "    ax.set_yscale('log')\n",
    "    plt.savefig(name,dpi=fig.dpi)\n",
    "\n",
    "def test_validation(res_numpy,res_cupy):\n",
    "    assert np.allclose(res_numpy,res_cupy, atol=0.0000001)"
   ]
  },
  {
   "cell_type": "markdown",
   "id": "ceb9687f-c6cb-4120-8c69-3b546a655240",
   "metadata": {
    "tags": []
   },
   "source": [
    "## Cluster"
   ]
  },
  {
   "cell_type": "markdown",
   "id": "6d0ac93b-f893-4071-81cb-7d531098c60c",
   "metadata": {
    "tags": []
   },
   "source": [
    "### CPU cluster on PBS cluster"
   ]
  },
  {
   "cell_type": "code",
   "execution_count": 3,
   "id": "83f33d62-c47c-4559-b598-9d0fa60c3154",
   "metadata": {},
   "outputs": [
    {
     "name": "stderr",
     "output_type": "stream",
     "text": [
      "/glade/work/hkashgar/conda-envs/geocat/lib/python3.10/site-packages/dask_jobqueue/core.py:20: FutureWarning: tmpfile is deprecated and will be removed in a future release. Please use dask.utils.tmpfile instead.\n",
      "  from distributed.utils import tmpfile\n"
     ]
    },
    {
     "name": "stdout",
     "output_type": "stream",
     "text": [
      "#!/usr/bin/env bash\n",
      "\n",
      "#PBS -N dask-worker\n",
      "#PBS -q casper\n",
      "#PBS -A NTDD0005\n",
      "#PBS -l select=1:ncpus=3:mem=100gb\n",
      "#PBS -l walltime=02:00:00\n",
      "\n",
      "/glade/work/hkashgar/conda-envs/geocat/bin/python -m distributed.cli.dask_worker tcp://10.12.205.44:39410 --nthreads 1 --nprocs 3 --memory-limit 31.04GiB --name dummy-name --nanny --death-timeout 60 --interface ib0 --protocol tcp://\n",
      "\n"
     ]
    },
    {
     "name": "stderr",
     "output_type": "stream",
     "text": [
      "/glade/work/hkashgar/conda-envs/geocat/lib/python3.10/site-packages/distributed/node.py:177: UserWarning: Port 8787 is already in use.\n",
      "Perhaps you already have a cluster running?\n",
      "Hosting the HTTP server on port 43469 instead\n",
      "  warnings.warn(\n"
     ]
    }
   ],
   "source": [
    "# import dask.array as da\n",
    "from dask_jobqueue import PBSCluster\n",
    "from dask.distributed import Client\n",
    "\n",
    "clusterCPU = PBSCluster(memory='100 GB',\n",
    "                     processes=3,\n",
    "                     cores=3,\n",
    "                     queue='casper',\n",
    "                     walltime='02:00:00',\n",
    "                     resource_spec='select=1:ncpus=3:mem=100gb')\n",
    "print(clusterCPU.job_script())\n",
    "clusterCPU.scale(1)\n",
    "client = Client(clusterCPU)\n",
    "#cluster.close()\n"
   ]
  },
  {
   "cell_type": "code",
   "execution_count": 4,
   "id": "70d8b0b8-eb23-44d0-8a31-c668b7cf097d",
   "metadata": {},
   "outputs": [
    {
     "data": {
      "text/html": [
       "<div>\n",
       "    <div style=\"width: 24px; height: 24px; background-color: #e1e1e1; border: 3px solid #9D9D9D; border-radius: 5px; position: absolute;\"> </div>\n",
       "    <div style=\"margin-left: 48px;\">\n",
       "        <h3 style=\"margin-bottom: 0px;\">Client</h3>\n",
       "        <p style=\"color: #9D9D9D; margin-bottom: 0px;\">Client-6d71cb33-044f-11ed-8a83-3cecef0c464c</p>\n",
       "        <table style=\"width: 100%; text-align: left;\">\n",
       "\n",
       "        <tr>\n",
       "        \n",
       "            <td style=\"text-align: left;\"><strong>Connection method:</strong> Cluster object</td>\n",
       "            <td style=\"text-align: left;\"><strong>Cluster type:</strong> dask_jobqueue.PBSCluster</td>\n",
       "        \n",
       "        </tr>\n",
       "\n",
       "        \n",
       "            <tr>\n",
       "                <td style=\"text-align: left;\">\n",
       "                    <strong>Dashboard: </strong> <a href=\"https://jupyterhub.hpc.ucar.edu/stable/user/hkashgar/proxy/43469/status\" target=\"_blank\">https://jupyterhub.hpc.ucar.edu/stable/user/hkashgar/proxy/43469/status</a>\n",
       "                </td>\n",
       "                <td style=\"text-align: left;\"></td>\n",
       "            </tr>\n",
       "        \n",
       "\n",
       "        </table>\n",
       "\n",
       "        \n",
       "            <details>\n",
       "            <summary style=\"margin-bottom: 20px;\"><h3 style=\"display: inline;\">Cluster Info</h3></summary>\n",
       "            <div class=\"jp-RenderedHTMLCommon jp-RenderedHTML jp-mod-trusted jp-OutputArea-output\">\n",
       "    <div style=\"width: 24px; height: 24px; background-color: #e1e1e1; border: 3px solid #9D9D9D; border-radius: 5px; position: absolute;\">\n",
       "    </div>\n",
       "    <div style=\"margin-left: 48px;\">\n",
       "        <h3 style=\"margin-bottom: 0px; margin-top: 0px;\">PBSCluster</h3>\n",
       "        <p style=\"color: #9D9D9D; margin-bottom: 0px;\">1d2f8ad3</p>\n",
       "        <table style=\"width: 100%; text-align: left;\">\n",
       "            <tr>\n",
       "                <td style=\"text-align: left;\">\n",
       "                    <strong>Dashboard:</strong> <a href=\"https://jupyterhub.hpc.ucar.edu/stable/user/hkashgar/proxy/43469/status\" target=\"_blank\">https://jupyterhub.hpc.ucar.edu/stable/user/hkashgar/proxy/43469/status</a>\n",
       "                </td>\n",
       "                <td style=\"text-align: left;\">\n",
       "                    <strong>Workers:</strong> 0\n",
       "                </td>\n",
       "            </tr>\n",
       "            <tr>\n",
       "                <td style=\"text-align: left;\">\n",
       "                    <strong>Total threads:</strong> 0\n",
       "                </td>\n",
       "                <td style=\"text-align: left;\">\n",
       "                    <strong>Total memory:</strong> 0 B\n",
       "                </td>\n",
       "            </tr>\n",
       "            \n",
       "        </table>\n",
       "\n",
       "        <details>\n",
       "            <summary style=\"margin-bottom: 20px;\">\n",
       "                <h3 style=\"display: inline;\">Scheduler Info</h3>\n",
       "            </summary>\n",
       "\n",
       "            <div style=\"\">\n",
       "    <div>\n",
       "        <div style=\"width: 24px; height: 24px; background-color: #FFF7E5; border: 3px solid #FF6132; border-radius: 5px; position: absolute;\"> </div>\n",
       "        <div style=\"margin-left: 48px;\">\n",
       "            <h3 style=\"margin-bottom: 0px;\">Scheduler</h3>\n",
       "            <p style=\"color: #9D9D9D; margin-bottom: 0px;\">Scheduler-84490369-069e-4c7c-b731-fc1d1f938309</p>\n",
       "            <table style=\"width: 100%; text-align: left;\">\n",
       "                <tr>\n",
       "                    <td style=\"text-align: left;\">\n",
       "                        <strong>Comm:</strong> tcp://10.12.205.44:39410\n",
       "                    </td>\n",
       "                    <td style=\"text-align: left;\">\n",
       "                        <strong>Workers:</strong> 0\n",
       "                    </td>\n",
       "                </tr>\n",
       "                <tr>\n",
       "                    <td style=\"text-align: left;\">\n",
       "                        <strong>Dashboard:</strong> <a href=\"https://jupyterhub.hpc.ucar.edu/stable/user/hkashgar/proxy/43469/status\" target=\"_blank\">https://jupyterhub.hpc.ucar.edu/stable/user/hkashgar/proxy/43469/status</a>\n",
       "                    </td>\n",
       "                    <td style=\"text-align: left;\">\n",
       "                        <strong>Total threads:</strong> 0\n",
       "                    </td>\n",
       "                </tr>\n",
       "                <tr>\n",
       "                    <td style=\"text-align: left;\">\n",
       "                        <strong>Started:</strong> Just now\n",
       "                    </td>\n",
       "                    <td style=\"text-align: left;\">\n",
       "                        <strong>Total memory:</strong> 0 B\n",
       "                    </td>\n",
       "                </tr>\n",
       "            </table>\n",
       "        </div>\n",
       "    </div>\n",
       "\n",
       "    <details style=\"margin-left: 48px;\">\n",
       "        <summary style=\"margin-bottom: 20px;\">\n",
       "            <h3 style=\"display: inline;\">Workers</h3>\n",
       "        </summary>\n",
       "\n",
       "        \n",
       "\n",
       "    </details>\n",
       "</div>\n",
       "\n",
       "        </details>\n",
       "    </div>\n",
       "</div>\n",
       "            </details>\n",
       "        \n",
       "\n",
       "    </div>\n",
       "</div>"
      ],
      "text/plain": [
       "<Client: 'tcp://10.12.205.44:39410' processes=0 threads=0, memory=0 B>"
      ]
     },
     "execution_count": 4,
     "metadata": {},
     "output_type": "execute_result"
    }
   ],
   "source": [
    "client"
   ]
  },
  {
   "cell_type": "markdown",
   "id": "61315414-5253-42a5-9ca4-56e432ac6052",
   "metadata": {
    "tags": []
   },
   "source": [
    "### CUDA cluster on PBS cluster"
   ]
  },
  {
   "cell_type": "code",
   "execution_count": 5,
   "id": "fcd4e500-7e52-40c9-9875-ed064d303005",
   "metadata": {},
   "outputs": [
    {
     "name": "stderr",
     "output_type": "stream",
     "text": [
      "/glade/work/hkashgar/conda-envs/geocat/lib/python3.10/site-packages/distributed/node.py:177: UserWarning: Port 8787 is already in use.\n",
      "Perhaps you already have a cluster running?\n",
      "Hosting the HTTP server on port 37206 instead\n",
      "  warnings.warn(\n"
     ]
    },
    {
     "name": "stdout",
     "output_type": "stream",
     "text": [
      "#!/usr/bin/env bash\n",
      "\n",
      "#PBS -N dask-worker\n",
      "#PBS -q casper\n",
      "#PBS -A NTDD0005\n",
      "#PBS -l select=1:ncpus=1:ngpus=1:mem=200gb\n",
      "#PBS -l walltime=02:00:00\n",
      "\n",
      "/glade/work/hkashgar/conda-envs/geocat/bin/python -m distributed.cli.dask_worker tcp://10.12.205.44:43250 --nthreads 1 --memory-limit 186.26GiB --name dummy-name --nanny --death-timeout 60 --interface ib0 --protocol tcp://\n",
      "\n"
     ]
    }
   ],
   "source": [
    "# import dask.array as da\n",
    "from dask_jobqueue import PBSCluster\n",
    "from dask.distributed import Client\n",
    "\n",
    "clusterCUDA = PBSCluster(memory='200 GB',\n",
    "                     processes=1,\n",
    "                     cores=1,\n",
    "                     queue='casper',\n",
    "                     walltime='02:00:00',\n",
    "                     resource_spec='select=1:ncpus=1:ngpus=1:mem=200gb')\n",
    "print(clusterCUDA.job_script())\n",
    "clusterCUDA.scale(1)\n",
    "client = Client(clusterCUDA)\n",
    "#cluster.close()"
   ]
  },
  {
   "cell_type": "code",
   "execution_count": 6,
   "id": "63b086ad-4d93-47ac-8f68-633c599522b4",
   "metadata": {},
   "outputs": [
    {
     "data": {
      "text/html": [
       "<div>\n",
       "    <div style=\"width: 24px; height: 24px; background-color: #e1e1e1; border: 3px solid #9D9D9D; border-radius: 5px; position: absolute;\"> </div>\n",
       "    <div style=\"margin-left: 48px;\">\n",
       "        <h3 style=\"margin-bottom: 0px;\">Client</h3>\n",
       "        <p style=\"color: #9D9D9D; margin-bottom: 0px;\">Client-6d85cb25-044f-11ed-8a83-3cecef0c464c</p>\n",
       "        <table style=\"width: 100%; text-align: left;\">\n",
       "\n",
       "        <tr>\n",
       "        \n",
       "            <td style=\"text-align: left;\"><strong>Connection method:</strong> Cluster object</td>\n",
       "            <td style=\"text-align: left;\"><strong>Cluster type:</strong> dask_jobqueue.PBSCluster</td>\n",
       "        \n",
       "        </tr>\n",
       "\n",
       "        \n",
       "            <tr>\n",
       "                <td style=\"text-align: left;\">\n",
       "                    <strong>Dashboard: </strong> <a href=\"https://jupyterhub.hpc.ucar.edu/stable/user/hkashgar/proxy/37206/status\" target=\"_blank\">https://jupyterhub.hpc.ucar.edu/stable/user/hkashgar/proxy/37206/status</a>\n",
       "                </td>\n",
       "                <td style=\"text-align: left;\"></td>\n",
       "            </tr>\n",
       "        \n",
       "\n",
       "        </table>\n",
       "\n",
       "        \n",
       "            <details>\n",
       "            <summary style=\"margin-bottom: 20px;\"><h3 style=\"display: inline;\">Cluster Info</h3></summary>\n",
       "            <div class=\"jp-RenderedHTMLCommon jp-RenderedHTML jp-mod-trusted jp-OutputArea-output\">\n",
       "    <div style=\"width: 24px; height: 24px; background-color: #e1e1e1; border: 3px solid #9D9D9D; border-radius: 5px; position: absolute;\">\n",
       "    </div>\n",
       "    <div style=\"margin-left: 48px;\">\n",
       "        <h3 style=\"margin-bottom: 0px; margin-top: 0px;\">PBSCluster</h3>\n",
       "        <p style=\"color: #9D9D9D; margin-bottom: 0px;\">b15df018</p>\n",
       "        <table style=\"width: 100%; text-align: left;\">\n",
       "            <tr>\n",
       "                <td style=\"text-align: left;\">\n",
       "                    <strong>Dashboard:</strong> <a href=\"https://jupyterhub.hpc.ucar.edu/stable/user/hkashgar/proxy/37206/status\" target=\"_blank\">https://jupyterhub.hpc.ucar.edu/stable/user/hkashgar/proxy/37206/status</a>\n",
       "                </td>\n",
       "                <td style=\"text-align: left;\">\n",
       "                    <strong>Workers:</strong> 0\n",
       "                </td>\n",
       "            </tr>\n",
       "            <tr>\n",
       "                <td style=\"text-align: left;\">\n",
       "                    <strong>Total threads:</strong> 0\n",
       "                </td>\n",
       "                <td style=\"text-align: left;\">\n",
       "                    <strong>Total memory:</strong> 0 B\n",
       "                </td>\n",
       "            </tr>\n",
       "            \n",
       "        </table>\n",
       "\n",
       "        <details>\n",
       "            <summary style=\"margin-bottom: 20px;\">\n",
       "                <h3 style=\"display: inline;\">Scheduler Info</h3>\n",
       "            </summary>\n",
       "\n",
       "            <div style=\"\">\n",
       "    <div>\n",
       "        <div style=\"width: 24px; height: 24px; background-color: #FFF7E5; border: 3px solid #FF6132; border-radius: 5px; position: absolute;\"> </div>\n",
       "        <div style=\"margin-left: 48px;\">\n",
       "            <h3 style=\"margin-bottom: 0px;\">Scheduler</h3>\n",
       "            <p style=\"color: #9D9D9D; margin-bottom: 0px;\">Scheduler-cf904f20-afd4-4c83-a172-f15e6f531ed6</p>\n",
       "            <table style=\"width: 100%; text-align: left;\">\n",
       "                <tr>\n",
       "                    <td style=\"text-align: left;\">\n",
       "                        <strong>Comm:</strong> tcp://10.12.205.44:43250\n",
       "                    </td>\n",
       "                    <td style=\"text-align: left;\">\n",
       "                        <strong>Workers:</strong> 0\n",
       "                    </td>\n",
       "                </tr>\n",
       "                <tr>\n",
       "                    <td style=\"text-align: left;\">\n",
       "                        <strong>Dashboard:</strong> <a href=\"https://jupyterhub.hpc.ucar.edu/stable/user/hkashgar/proxy/37206/status\" target=\"_blank\">https://jupyterhub.hpc.ucar.edu/stable/user/hkashgar/proxy/37206/status</a>\n",
       "                    </td>\n",
       "                    <td style=\"text-align: left;\">\n",
       "                        <strong>Total threads:</strong> 0\n",
       "                    </td>\n",
       "                </tr>\n",
       "                <tr>\n",
       "                    <td style=\"text-align: left;\">\n",
       "                        <strong>Started:</strong> Just now\n",
       "                    </td>\n",
       "                    <td style=\"text-align: left;\">\n",
       "                        <strong>Total memory:</strong> 0 B\n",
       "                    </td>\n",
       "                </tr>\n",
       "            </table>\n",
       "        </div>\n",
       "    </div>\n",
       "\n",
       "    <details style=\"margin-left: 48px;\">\n",
       "        <summary style=\"margin-bottom: 20px;\">\n",
       "            <h3 style=\"display: inline;\">Workers</h3>\n",
       "        </summary>\n",
       "\n",
       "        \n",
       "\n",
       "    </details>\n",
       "</div>\n",
       "\n",
       "        </details>\n",
       "    </div>\n",
       "</div>\n",
       "            </details>\n",
       "        \n",
       "\n",
       "    </div>\n",
       "</div>"
      ],
      "text/plain": [
       "<Client: 'tcp://10.12.205.44:43250' processes=0 threads=0, memory=0 B>"
      ]
     },
     "execution_count": 6,
     "metadata": {},
     "output_type": "execute_result"
    }
   ],
   "source": [
    "client"
   ]
  },
  {
   "cell_type": "markdown",
   "id": "fa2a6dce-2862-42fd-b577-fd0d3b57a430",
   "metadata": {},
   "source": [
    "## Initializing Arrays"
   ]
  },
  {
   "cell_type": "code",
   "execution_count": 7,
   "id": "f3103bd5-f76e-4fd8-9531-f1bbccb99aa2",
   "metadata": {},
   "outputs": [],
   "source": [
    "max_power = 8\n",
    "chunksize = 10**5\n",
    "temp_arrays = []\n",
    "for i in range(1,max_power):\n",
    "    temp_arrays.append(xr.DataArray(np.arange(1, 10**i+1, 1)))\n",
    "numpy_results = []\n",
    "cupy_results = []"
   ]
  },
  {
   "cell_type": "markdown",
   "id": "c4f57ff7-fb58-43f3-be12-61af00641488",
   "metadata": {
    "tags": []
   },
   "source": [
    "## Testing Numpy input and CPU"
   ]
  },
  {
   "cell_type": "code",
   "execution_count": 8,
   "id": "b7d8c440-0324-4e9c-ae95-814e64193947",
   "metadata": {},
   "outputs": [
    {
     "name": "stdout",
     "output_type": "stream",
     "text": [
      "<class 'numpy.ndarray'>\n",
      "<class 'numpy.ndarray'>\n",
      "<class 'numpy.ndarray'>\n",
      "<class 'numpy.ndarray'>\n",
      "<class 'numpy.ndarray'>\n",
      "<class 'numpy.ndarray'>\n",
      "<class 'numpy.ndarray'>\n",
      "<class 'numpy.ndarray'>\n",
      "<class 'numpy.ndarray'>\n",
      "<class 'numpy.ndarray'>\n",
      "<class 'numpy.ndarray'>\n",
      "<class 'numpy.ndarray'>\n",
      "<class 'numpy.ndarray'>\n",
      "<class 'numpy.ndarray'>\n"
     ]
    }
   ],
   "source": [
    "xp = np\n",
    "for i in range(max_power-1):\n",
    "    temp = temp_arrays[i].data\n",
    "    ncl_gt1 = geo.actual_saturation_vapor_pressure(temp, use_gpu = False)"
   ]
  },
  {
   "cell_type": "code",
   "execution_count": 9,
   "id": "9cc79e29-3441-4d2c-8774-63a67c55bd9c",
   "metadata": {},
   "outputs": [
    {
     "data": {
      "text/plain": [
       "numpy.ndarray"
      ]
     },
     "execution_count": 9,
     "metadata": {},
     "output_type": "execute_result"
    }
   ],
   "source": [
    "type(ncl_gt1)"
   ]
  },
  {
   "cell_type": "markdown",
   "id": "c82fbf02-f23f-44f1-a917-b276b32036da",
   "metadata": {
    "tags": []
   },
   "source": [
    "## Testing Numpy input and GPU"
   ]
  },
  {
   "cell_type": "code",
   "execution_count": 10,
   "id": "d604910b-524e-4f82-94ca-216c231f01eb",
   "metadata": {},
   "outputs": [
    {
     "name": "stdout",
     "output_type": "stream",
     "text": [
      "<class 'cupy._core.core.ndarray'>\n",
      "<class 'cupy._core.core.ndarray'>\n",
      "<class 'cupy._core.core.ndarray'>\n",
      "<class 'cupy._core.core.ndarray'>\n",
      "<class 'cupy._core.core.ndarray'>\n",
      "<class 'cupy._core.core.ndarray'>\n",
      "<class 'cupy._core.core.ndarray'>\n",
      "<class 'cupy._core.core.ndarray'>\n",
      "<class 'cupy._core.core.ndarray'>\n",
      "<class 'cupy._core.core.ndarray'>\n",
      "<class 'cupy._core.core.ndarray'>\n",
      "<class 'cupy._core.core.ndarray'>\n",
      "<class 'cupy._core.core.ndarray'>\n",
      "<class 'cupy._core.core.ndarray'>\n"
     ]
    }
   ],
   "source": [
    "for i in range(max_power-1):\n",
    "    temp = temp_arrays[i].data\n",
    "    ncl_gt2 = geo.actual_saturation_vapor_pressure(temp, use_gpu = True)"
   ]
  },
  {
   "cell_type": "code",
   "execution_count": 11,
   "id": "869a9073-327b-47b2-ab13-a7583fa9c87a",
   "metadata": {},
   "outputs": [
    {
     "data": {
      "text/plain": [
       "cupy._core.core.ndarray"
      ]
     },
     "execution_count": 11,
     "metadata": {},
     "output_type": "execute_result"
    }
   ],
   "source": [
    "type(ncl_gt2)"
   ]
  },
  {
   "cell_type": "markdown",
   "id": "9fa51919-d956-4b62-9389-458e978662d7",
   "metadata": {},
   "source": [
    "# this function is not ported for xarray and dask since cp.exp doesn't recognize dask and xarray"
   ]
  },
  {
   "cell_type": "markdown",
   "id": "14a4fd4c-2b40-47aa-a090-6ce513e4b420",
   "metadata": {
    "tags": []
   },
   "source": [
    "## Testing Xarray input and CPU"
   ]
  },
  {
   "cell_type": "code",
   "execution_count": 12,
   "id": "9554f237-484f-4890-844c-6b6dc2c3d8db",
   "metadata": {},
   "outputs": [],
   "source": [
    "from src.geocat.comp.comp_util import _is_duck_array, _convert_to_gpu_array"
   ]
  },
  {
   "cell_type": "code",
   "execution_count": 13,
   "id": "b7acfde6-aecb-458c-af35-3edafa466c4a",
   "metadata": {},
   "outputs": [
    {
     "name": "stdout",
     "output_type": "stream",
     "text": [
      "<class 'xarray.core.dataarray.DataArray'>\n",
      "<class 'xarray.core.dataarray.DataArray'>\n",
      "<class 'xarray.core.dataarray.DataArray'>\n",
      "<class 'xarray.core.dataarray.DataArray'>\n",
      "<class 'xarray.core.dataarray.DataArray'>\n",
      "<class 'xarray.core.dataarray.DataArray'>\n",
      "<class 'xarray.core.dataarray.DataArray'>\n",
      "<class 'xarray.core.dataarray.DataArray'>\n",
      "<class 'xarray.core.dataarray.DataArray'>\n",
      "<class 'xarray.core.dataarray.DataArray'>\n",
      "<class 'xarray.core.dataarray.DataArray'>\n",
      "<class 'xarray.core.dataarray.DataArray'>\n",
      "<class 'xarray.core.dataarray.DataArray'>\n",
      "<class 'xarray.core.dataarray.DataArray'>\n"
     ]
    }
   ],
   "source": [
    "for i in range(max_power-1):\n",
    "    temp = temp_arrays[i]\n",
    "    ncl_gt1 = geo.actual_saturation_vapor_pressure(temp, use_gpu = False)"
   ]
  },
  {
   "cell_type": "code",
   "execution_count": 14,
   "id": "c0f9ecf0-835b-4722-a096-c6955f6e3db6",
   "metadata": {},
   "outputs": [
    {
     "data": {
      "text/plain": [
       "numpy.ndarray"
      ]
     },
     "execution_count": 14,
     "metadata": {},
     "output_type": "execute_result"
    }
   ],
   "source": [
    "type(ncl_gt1.data)"
   ]
  },
  {
   "cell_type": "markdown",
   "id": "25d892e2-66a7-42e6-8054-909d510ce5dc",
   "metadata": {
    "tags": []
   },
   "source": [
    "## Testing Xarray input and GPU"
   ]
  },
  {
   "cell_type": "code",
   "execution_count": 15,
   "id": "7a507eef-4dbf-4ef3-8099-e78b0194df09",
   "metadata": {},
   "outputs": [
    {
     "name": "stdout",
     "output_type": "stream",
     "text": [
      "<class 'xarray.core.dataarray.DataArray'>\n",
      "<class 'xarray.core.dataarray.DataArray'>\n",
      "<class 'xarray.core.dataarray.DataArray'>\n",
      "<class 'xarray.core.dataarray.DataArray'>\n",
      "<class 'xarray.core.dataarray.DataArray'>\n",
      "<class 'xarray.core.dataarray.DataArray'>\n",
      "<class 'xarray.core.dataarray.DataArray'>\n",
      "<class 'xarray.core.dataarray.DataArray'>\n",
      "<class 'xarray.core.dataarray.DataArray'>\n",
      "<class 'xarray.core.dataarray.DataArray'>\n",
      "<class 'xarray.core.dataarray.DataArray'>\n",
      "<class 'xarray.core.dataarray.DataArray'>\n",
      "<class 'xarray.core.dataarray.DataArray'>\n",
      "<class 'xarray.core.dataarray.DataArray'>\n"
     ]
    }
   ],
   "source": [
    "for i in range(max_power-1):\n",
    "    temp = temp_arrays[i]\n",
    "    ncl_gt2 = geo.actual_saturation_vapor_pressure(temp, use_gpu = True)"
   ]
  },
  {
   "cell_type": "code",
   "execution_count": 16,
   "id": "4db03af7-8188-431c-ae7c-a6e0eb969ef4",
   "metadata": {},
   "outputs": [
    {
     "data": {
      "text/plain": [
       "numpy.ndarray"
      ]
     },
     "execution_count": 16,
     "metadata": {},
     "output_type": "execute_result"
    }
   ],
   "source": [
    "type(ncl_gt2.data)"
   ]
  },
  {
   "cell_type": "markdown",
   "id": "4524bdcc-e83c-4482-979b-1abf1277ac74",
   "metadata": {
    "tags": []
   },
   "source": [
    "## Testing Dask input with CPU"
   ]
  },
  {
   "cell_type": "code",
   "execution_count": 17,
   "id": "a8a1e244-71a8-4812-a8f5-0d3c3aaebb8b",
   "metadata": {},
   "outputs": [
    {
     "name": "stdout",
     "output_type": "stream",
     "text": [
      "<class 'xarray.core.dataarray.DataArray'>\n",
      "<class 'xarray.core.dataarray.DataArray'>\n",
      "<class 'xarray.core.dataarray.DataArray'>\n",
      "<class 'xarray.core.dataarray.DataArray'>\n"
     ]
    }
   ],
   "source": [
    "client = Client(clusterCPU)\n",
    "for i in range(2):\n",
    "    temp = temp_arrays[i].chunk(10)\n",
    "    ncl_gt1 = geo.actual_saturation_vapor_pressure(temp, use_gpu = False).compute()"
   ]
  },
  {
   "cell_type": "code",
   "execution_count": 18,
   "id": "1fb6439f-addf-4951-b559-98c0237cc301",
   "metadata": {},
   "outputs": [
    {
     "data": {
      "text/html": [
       "<div><svg style=\"position: absolute; width: 0; height: 0; overflow: hidden\">\n",
       "<defs>\n",
       "<symbol id=\"icon-database\" viewBox=\"0 0 32 32\">\n",
       "<path d=\"M16 0c-8.837 0-16 2.239-16 5v4c0 2.761 7.163 5 16 5s16-2.239 16-5v-4c0-2.761-7.163-5-16-5z\"></path>\n",
       "<path d=\"M16 17c-8.837 0-16-2.239-16-5v6c0 2.761 7.163 5 16 5s16-2.239 16-5v-6c0 2.761-7.163 5-16 5z\"></path>\n",
       "<path d=\"M16 26c-8.837 0-16-2.239-16-5v6c0 2.761 7.163 5 16 5s16-2.239 16-5v-6c0 2.761-7.163 5-16 5z\"></path>\n",
       "</symbol>\n",
       "<symbol id=\"icon-file-text2\" viewBox=\"0 0 32 32\">\n",
       "<path d=\"M28.681 7.159c-0.694-0.947-1.662-2.053-2.724-3.116s-2.169-2.030-3.116-2.724c-1.612-1.182-2.393-1.319-2.841-1.319h-15.5c-1.378 0-2.5 1.121-2.5 2.5v27c0 1.378 1.122 2.5 2.5 2.5h23c1.378 0 2.5-1.122 2.5-2.5v-19.5c0-0.448-0.137-1.23-1.319-2.841zM24.543 5.457c0.959 0.959 1.712 1.825 2.268 2.543h-4.811v-4.811c0.718 0.556 1.584 1.309 2.543 2.268zM28 29.5c0 0.271-0.229 0.5-0.5 0.5h-23c-0.271 0-0.5-0.229-0.5-0.5v-27c0-0.271 0.229-0.5 0.5-0.5 0 0 15.499-0 15.5 0v7c0 0.552 0.448 1 1 1h7v19.5z\"></path>\n",
       "<path d=\"M23 26h-14c-0.552 0-1-0.448-1-1s0.448-1 1-1h14c0.552 0 1 0.448 1 1s-0.448 1-1 1z\"></path>\n",
       "<path d=\"M23 22h-14c-0.552 0-1-0.448-1-1s0.448-1 1-1h14c0.552 0 1 0.448 1 1s-0.448 1-1 1z\"></path>\n",
       "<path d=\"M23 18h-14c-0.552 0-1-0.448-1-1s0.448-1 1-1h14c0.552 0 1 0.448 1 1s-0.448 1-1 1z\"></path>\n",
       "</symbol>\n",
       "</defs>\n",
       "</svg>\n",
       "<style>/* CSS stylesheet for displaying xarray objects in jupyterlab.\n",
       " *\n",
       " */\n",
       "\n",
       ":root {\n",
       "  --xr-font-color0: var(--jp-content-font-color0, rgba(0, 0, 0, 1));\n",
       "  --xr-font-color2: var(--jp-content-font-color2, rgba(0, 0, 0, 0.54));\n",
       "  --xr-font-color3: var(--jp-content-font-color3, rgba(0, 0, 0, 0.38));\n",
       "  --xr-border-color: var(--jp-border-color2, #e0e0e0);\n",
       "  --xr-disabled-color: var(--jp-layout-color3, #bdbdbd);\n",
       "  --xr-background-color: var(--jp-layout-color0, white);\n",
       "  --xr-background-color-row-even: var(--jp-layout-color1, white);\n",
       "  --xr-background-color-row-odd: var(--jp-layout-color2, #eeeeee);\n",
       "}\n",
       "\n",
       "html[theme=dark],\n",
       "body.vscode-dark {\n",
       "  --xr-font-color0: rgba(255, 255, 255, 1);\n",
       "  --xr-font-color2: rgba(255, 255, 255, 0.54);\n",
       "  --xr-font-color3: rgba(255, 255, 255, 0.38);\n",
       "  --xr-border-color: #1F1F1F;\n",
       "  --xr-disabled-color: #515151;\n",
       "  --xr-background-color: #111111;\n",
       "  --xr-background-color-row-even: #111111;\n",
       "  --xr-background-color-row-odd: #313131;\n",
       "}\n",
       "\n",
       ".xr-wrap {\n",
       "  display: block !important;\n",
       "  min-width: 300px;\n",
       "  max-width: 700px;\n",
       "}\n",
       "\n",
       ".xr-text-repr-fallback {\n",
       "  /* fallback to plain text repr when CSS is not injected (untrusted notebook) */\n",
       "  display: none;\n",
       "}\n",
       "\n",
       ".xr-header {\n",
       "  padding-top: 6px;\n",
       "  padding-bottom: 6px;\n",
       "  margin-bottom: 4px;\n",
       "  border-bottom: solid 1px var(--xr-border-color);\n",
       "}\n",
       "\n",
       ".xr-header > div,\n",
       ".xr-header > ul {\n",
       "  display: inline;\n",
       "  margin-top: 0;\n",
       "  margin-bottom: 0;\n",
       "}\n",
       "\n",
       ".xr-obj-type,\n",
       ".xr-array-name {\n",
       "  margin-left: 2px;\n",
       "  margin-right: 10px;\n",
       "}\n",
       "\n",
       ".xr-obj-type {\n",
       "  color: var(--xr-font-color2);\n",
       "}\n",
       "\n",
       ".xr-sections {\n",
       "  padding-left: 0 !important;\n",
       "  display: grid;\n",
       "  grid-template-columns: 150px auto auto 1fr 20px 20px;\n",
       "}\n",
       "\n",
       ".xr-section-item {\n",
       "  display: contents;\n",
       "}\n",
       "\n",
       ".xr-section-item input {\n",
       "  display: none;\n",
       "}\n",
       "\n",
       ".xr-section-item input + label {\n",
       "  color: var(--xr-disabled-color);\n",
       "}\n",
       "\n",
       ".xr-section-item input:enabled + label {\n",
       "  cursor: pointer;\n",
       "  color: var(--xr-font-color2);\n",
       "}\n",
       "\n",
       ".xr-section-item input:enabled + label:hover {\n",
       "  color: var(--xr-font-color0);\n",
       "}\n",
       "\n",
       ".xr-section-summary {\n",
       "  grid-column: 1;\n",
       "  color: var(--xr-font-color2);\n",
       "  font-weight: 500;\n",
       "}\n",
       "\n",
       ".xr-section-summary > span {\n",
       "  display: inline-block;\n",
       "  padding-left: 0.5em;\n",
       "}\n",
       "\n",
       ".xr-section-summary-in:disabled + label {\n",
       "  color: var(--xr-font-color2);\n",
       "}\n",
       "\n",
       ".xr-section-summary-in + label:before {\n",
       "  display: inline-block;\n",
       "  content: '►';\n",
       "  font-size: 11px;\n",
       "  width: 15px;\n",
       "  text-align: center;\n",
       "}\n",
       "\n",
       ".xr-section-summary-in:disabled + label:before {\n",
       "  color: var(--xr-disabled-color);\n",
       "}\n",
       "\n",
       ".xr-section-summary-in:checked + label:before {\n",
       "  content: '▼';\n",
       "}\n",
       "\n",
       ".xr-section-summary-in:checked + label > span {\n",
       "  display: none;\n",
       "}\n",
       "\n",
       ".xr-section-summary,\n",
       ".xr-section-inline-details {\n",
       "  padding-top: 4px;\n",
       "  padding-bottom: 4px;\n",
       "}\n",
       "\n",
       ".xr-section-inline-details {\n",
       "  grid-column: 2 / -1;\n",
       "}\n",
       "\n",
       ".xr-section-details {\n",
       "  display: none;\n",
       "  grid-column: 1 / -1;\n",
       "  margin-bottom: 5px;\n",
       "}\n",
       "\n",
       ".xr-section-summary-in:checked ~ .xr-section-details {\n",
       "  display: contents;\n",
       "}\n",
       "\n",
       ".xr-array-wrap {\n",
       "  grid-column: 1 / -1;\n",
       "  display: grid;\n",
       "  grid-template-columns: 20px auto;\n",
       "}\n",
       "\n",
       ".xr-array-wrap > label {\n",
       "  grid-column: 1;\n",
       "  vertical-align: top;\n",
       "}\n",
       "\n",
       ".xr-preview {\n",
       "  color: var(--xr-font-color3);\n",
       "}\n",
       "\n",
       ".xr-array-preview,\n",
       ".xr-array-data {\n",
       "  padding: 0 5px !important;\n",
       "  grid-column: 2;\n",
       "}\n",
       "\n",
       ".xr-array-data,\n",
       ".xr-array-in:checked ~ .xr-array-preview {\n",
       "  display: none;\n",
       "}\n",
       "\n",
       ".xr-array-in:checked ~ .xr-array-data,\n",
       ".xr-array-preview {\n",
       "  display: inline-block;\n",
       "}\n",
       "\n",
       ".xr-dim-list {\n",
       "  display: inline-block !important;\n",
       "  list-style: none;\n",
       "  padding: 0 !important;\n",
       "  margin: 0;\n",
       "}\n",
       "\n",
       ".xr-dim-list li {\n",
       "  display: inline-block;\n",
       "  padding: 0;\n",
       "  margin: 0;\n",
       "}\n",
       "\n",
       ".xr-dim-list:before {\n",
       "  content: '(';\n",
       "}\n",
       "\n",
       ".xr-dim-list:after {\n",
       "  content: ')';\n",
       "}\n",
       "\n",
       ".xr-dim-list li:not(:last-child):after {\n",
       "  content: ',';\n",
       "  padding-right: 5px;\n",
       "}\n",
       "\n",
       ".xr-has-index {\n",
       "  font-weight: bold;\n",
       "}\n",
       "\n",
       ".xr-var-list,\n",
       ".xr-var-item {\n",
       "  display: contents;\n",
       "}\n",
       "\n",
       ".xr-var-item > div,\n",
       ".xr-var-item label,\n",
       ".xr-var-item > .xr-var-name span {\n",
       "  background-color: var(--xr-background-color-row-even);\n",
       "  margin-bottom: 0;\n",
       "}\n",
       "\n",
       ".xr-var-item > .xr-var-name:hover span {\n",
       "  padding-right: 5px;\n",
       "}\n",
       "\n",
       ".xr-var-list > li:nth-child(odd) > div,\n",
       ".xr-var-list > li:nth-child(odd) > label,\n",
       ".xr-var-list > li:nth-child(odd) > .xr-var-name span {\n",
       "  background-color: var(--xr-background-color-row-odd);\n",
       "}\n",
       "\n",
       ".xr-var-name {\n",
       "  grid-column: 1;\n",
       "}\n",
       "\n",
       ".xr-var-dims {\n",
       "  grid-column: 2;\n",
       "}\n",
       "\n",
       ".xr-var-dtype {\n",
       "  grid-column: 3;\n",
       "  text-align: right;\n",
       "  color: var(--xr-font-color2);\n",
       "}\n",
       "\n",
       ".xr-var-preview {\n",
       "  grid-column: 4;\n",
       "}\n",
       "\n",
       ".xr-var-name,\n",
       ".xr-var-dims,\n",
       ".xr-var-dtype,\n",
       ".xr-preview,\n",
       ".xr-attrs dt {\n",
       "  white-space: nowrap;\n",
       "  overflow: hidden;\n",
       "  text-overflow: ellipsis;\n",
       "  padding-right: 10px;\n",
       "}\n",
       "\n",
       ".xr-var-name:hover,\n",
       ".xr-var-dims:hover,\n",
       ".xr-var-dtype:hover,\n",
       ".xr-attrs dt:hover {\n",
       "  overflow: visible;\n",
       "  width: auto;\n",
       "  z-index: 1;\n",
       "}\n",
       "\n",
       ".xr-var-attrs,\n",
       ".xr-var-data {\n",
       "  display: none;\n",
       "  background-color: var(--xr-background-color) !important;\n",
       "  padding-bottom: 5px !important;\n",
       "}\n",
       "\n",
       ".xr-var-attrs-in:checked ~ .xr-var-attrs,\n",
       ".xr-var-data-in:checked ~ .xr-var-data {\n",
       "  display: block;\n",
       "}\n",
       "\n",
       ".xr-var-data > table {\n",
       "  float: right;\n",
       "}\n",
       "\n",
       ".xr-var-name span,\n",
       ".xr-var-data,\n",
       ".xr-attrs {\n",
       "  padding-left: 25px !important;\n",
       "}\n",
       "\n",
       ".xr-attrs,\n",
       ".xr-var-attrs,\n",
       ".xr-var-data {\n",
       "  grid-column: 1 / -1;\n",
       "}\n",
       "\n",
       "dl.xr-attrs {\n",
       "  padding: 0;\n",
       "  margin: 0;\n",
       "  display: grid;\n",
       "  grid-template-columns: 125px auto;\n",
       "}\n",
       "\n",
       ".xr-attrs dt,\n",
       ".xr-attrs dd {\n",
       "  padding: 0;\n",
       "  margin: 0;\n",
       "  float: left;\n",
       "  padding-right: 10px;\n",
       "  width: auto;\n",
       "}\n",
       "\n",
       ".xr-attrs dt {\n",
       "  font-weight: normal;\n",
       "  grid-column: 1;\n",
       "}\n",
       "\n",
       ".xr-attrs dt:hover span {\n",
       "  display: inline-block;\n",
       "  background: var(--xr-background-color);\n",
       "  padding-right: 10px;\n",
       "}\n",
       "\n",
       ".xr-attrs dd {\n",
       "  grid-column: 2;\n",
       "  white-space: pre-wrap;\n",
       "  word-break: break-all;\n",
       "}\n",
       "\n",
       ".xr-icon-database,\n",
       ".xr-icon-file-text2 {\n",
       "  display: inline-block;\n",
       "  vertical-align: middle;\n",
       "  width: 1em;\n",
       "  height: 1.5em !important;\n",
       "  stroke-width: 0;\n",
       "  stroke: currentColor;\n",
       "  fill: currentColor;\n",
       "}\n",
       "</style><pre class='xr-text-repr-fallback'>&lt;xarray.DataArray (dim_0: 100)&gt;\n",
       "array([       nan,        nan,        nan,        nan,        nan,\n",
       "              nan,        nan,        nan,        nan,        nan,\n",
       "              nan,        nan,        nan,        nan,        nan,\n",
       "              nan,        nan,        nan,        nan,        nan,\n",
       "              nan,        nan,        nan,        nan,        nan,\n",
       "              nan,        nan,        nan,        nan,        nan,\n",
       "              nan,        nan, 0.63594167, 0.66199376, 0.68898447,\n",
       "       0.71694272, 0.74589816, 0.77588118, 0.80692291, 0.83905527,\n",
       "       0.87231096, 0.90672347, 0.94232709, 0.97915697, 1.01724907,\n",
       "       1.05664022, 1.09736811, 1.13947134, 1.18298937, 1.22796262,\n",
       "       1.27443241, 1.32244103, 1.37203171, 1.42324869, 1.47613717,\n",
       "       1.53074338, 1.58711459, 1.64529908, 1.70534623, 1.76730647,\n",
       "       1.83123133, 1.89717346, 1.96518663, 2.03532576, 2.10764693,\n",
       "       2.18220739, 2.25906562, 2.33828127, 2.41991527, 2.50402976,\n",
       "       2.59068819, 2.67995525, 2.77189698, 2.86658072, 2.96407517,\n",
       "       3.06445035, 3.16777772, 3.27413009, 3.3835817 , 3.49620825,\n",
       "       3.61208687, 3.73129616, 3.85391624, 3.98002873, 4.10971676,\n",
       "       4.24306506, 4.38015989, 4.52108912, 4.66594223, 4.81481034,\n",
       "       4.96778619, 5.12496422, 5.28644057, 5.45231305, 5.62268124,\n",
       "       5.79764645, 5.97731179, 6.16178212, 6.35116414, 6.54556639])\n",
       "Dimensions without coordinates: dim_0\n",
       "Attributes:\n",
       "    long_name:  actual saturation vapor pressure via Tdew\n",
       "    units:      kPa\n",
       "    url:        https://www.fao.org/docrep/X0490E/x0490e07.htm\n",
       "    info:       FAO 56; EQN 14; actual_saturation_vapor_pressure</pre><div class='xr-wrap' style='display:none'><div class='xr-header'><div class='xr-obj-type'>xarray.DataArray</div><div class='xr-array-name'></div><ul class='xr-dim-list'><li><span>dim_0</span>: 100</li></ul></div><ul class='xr-sections'><li class='xr-section-item'><div class='xr-array-wrap'><input id='section-03f27967-c93b-459c-87e3-8e6f79ba5ec2' class='xr-array-in' type='checkbox' checked><label for='section-03f27967-c93b-459c-87e3-8e6f79ba5ec2' title='Show/hide data repr'><svg class='icon xr-icon-database'><use xlink:href='#icon-database'></use></svg></label><div class='xr-array-preview xr-preview'><span>nan nan nan nan nan nan nan ... 5.623 5.798 5.977 6.162 6.351 6.546</span></div><div class='xr-array-data'><pre>array([       nan,        nan,        nan,        nan,        nan,\n",
       "              nan,        nan,        nan,        nan,        nan,\n",
       "              nan,        nan,        nan,        nan,        nan,\n",
       "              nan,        nan,        nan,        nan,        nan,\n",
       "              nan,        nan,        nan,        nan,        nan,\n",
       "              nan,        nan,        nan,        nan,        nan,\n",
       "              nan,        nan, 0.63594167, 0.66199376, 0.68898447,\n",
       "       0.71694272, 0.74589816, 0.77588118, 0.80692291, 0.83905527,\n",
       "       0.87231096, 0.90672347, 0.94232709, 0.97915697, 1.01724907,\n",
       "       1.05664022, 1.09736811, 1.13947134, 1.18298937, 1.22796262,\n",
       "       1.27443241, 1.32244103, 1.37203171, 1.42324869, 1.47613717,\n",
       "       1.53074338, 1.58711459, 1.64529908, 1.70534623, 1.76730647,\n",
       "       1.83123133, 1.89717346, 1.96518663, 2.03532576, 2.10764693,\n",
       "       2.18220739, 2.25906562, 2.33828127, 2.41991527, 2.50402976,\n",
       "       2.59068819, 2.67995525, 2.77189698, 2.86658072, 2.96407517,\n",
       "       3.06445035, 3.16777772, 3.27413009, 3.3835817 , 3.49620825,\n",
       "       3.61208687, 3.73129616, 3.85391624, 3.98002873, 4.10971676,\n",
       "       4.24306506, 4.38015989, 4.52108912, 4.66594223, 4.81481034,\n",
       "       4.96778619, 5.12496422, 5.28644057, 5.45231305, 5.62268124,\n",
       "       5.79764645, 5.97731179, 6.16178212, 6.35116414, 6.54556639])</pre></div></div></li><li class='xr-section-item'><input id='section-0b7daedc-9451-41e0-9d2a-abe764b21a7b' class='xr-section-summary-in' type='checkbox' disabled ><label for='section-0b7daedc-9451-41e0-9d2a-abe764b21a7b' class='xr-section-summary'  title='Expand/collapse section'>Coordinates: <span>(0)</span></label><div class='xr-section-inline-details'></div><div class='xr-section-details'><ul class='xr-var-list'></ul></div></li><li class='xr-section-item'><input id='section-06a31ecf-45a4-405c-bd6b-c9be7ea144e5' class='xr-section-summary-in' type='checkbox'  checked><label for='section-06a31ecf-45a4-405c-bd6b-c9be7ea144e5' class='xr-section-summary' >Attributes: <span>(4)</span></label><div class='xr-section-inline-details'></div><div class='xr-section-details'><dl class='xr-attrs'><dt><span>long_name :</span></dt><dd>actual saturation vapor pressure via Tdew</dd><dt><span>units :</span></dt><dd>kPa</dd><dt><span>url :</span></dt><dd>https://www.fao.org/docrep/X0490E/x0490e07.htm</dd><dt><span>info :</span></dt><dd>FAO 56; EQN 14; actual_saturation_vapor_pressure</dd></dl></div></li></ul></div></div>"
      ],
      "text/plain": [
       "<xarray.DataArray (dim_0: 100)>\n",
       "array([       nan,        nan,        nan,        nan,        nan,\n",
       "              nan,        nan,        nan,        nan,        nan,\n",
       "              nan,        nan,        nan,        nan,        nan,\n",
       "              nan,        nan,        nan,        nan,        nan,\n",
       "              nan,        nan,        nan,        nan,        nan,\n",
       "              nan,        nan,        nan,        nan,        nan,\n",
       "              nan,        nan, 0.63594167, 0.66199376, 0.68898447,\n",
       "       0.71694272, 0.74589816, 0.77588118, 0.80692291, 0.83905527,\n",
       "       0.87231096, 0.90672347, 0.94232709, 0.97915697, 1.01724907,\n",
       "       1.05664022, 1.09736811, 1.13947134, 1.18298937, 1.22796262,\n",
       "       1.27443241, 1.32244103, 1.37203171, 1.42324869, 1.47613717,\n",
       "       1.53074338, 1.58711459, 1.64529908, 1.70534623, 1.76730647,\n",
       "       1.83123133, 1.89717346, 1.96518663, 2.03532576, 2.10764693,\n",
       "       2.18220739, 2.25906562, 2.33828127, 2.41991527, 2.50402976,\n",
       "       2.59068819, 2.67995525, 2.77189698, 2.86658072, 2.96407517,\n",
       "       3.06445035, 3.16777772, 3.27413009, 3.3835817 , 3.49620825,\n",
       "       3.61208687, 3.73129616, 3.85391624, 3.98002873, 4.10971676,\n",
       "       4.24306506, 4.38015989, 4.52108912, 4.66594223, 4.81481034,\n",
       "       4.96778619, 5.12496422, 5.28644057, 5.45231305, 5.62268124,\n",
       "       5.79764645, 5.97731179, 6.16178212, 6.35116414, 6.54556639])\n",
       "Dimensions without coordinates: dim_0\n",
       "Attributes:\n",
       "    long_name:  actual saturation vapor pressure via Tdew\n",
       "    units:      kPa\n",
       "    url:        https://www.fao.org/docrep/X0490E/x0490e07.htm\n",
       "    info:       FAO 56; EQN 14; actual_saturation_vapor_pressure"
      ]
     },
     "execution_count": 18,
     "metadata": {},
     "output_type": "execute_result"
    }
   ],
   "source": [
    "ncl_gt1"
   ]
  },
  {
   "cell_type": "markdown",
   "id": "08135d44-53ff-4c5a-b1f5-6d437510d2fd",
   "metadata": {
    "tags": []
   },
   "source": [
    "## Testing Dask input with GPU"
   ]
  },
  {
   "cell_type": "code",
   "execution_count": 19,
   "id": "a6a0220d-520d-45c8-8db3-fc9a44ea136c",
   "metadata": {},
   "outputs": [
    {
     "name": "stdout",
     "output_type": "stream",
     "text": [
      "<class 'xarray.core.dataarray.DataArray'>\n",
      "<class 'xarray.core.dataarray.DataArray'>\n",
      "<class 'xarray.core.dataarray.DataArray'>\n",
      "<class 'xarray.core.dataarray.DataArray'>\n"
     ]
    }
   ],
   "source": [
    "#client = Client(clusterCUDA)\n",
    "for i in range(2):\n",
    "    temp = temp_arrays[i].chunk(10)\n",
    "    ncl_gt2 = geo.actual_saturation_vapor_pressure(temp, use_gpu = True).compute()"
   ]
  },
  {
   "cell_type": "code",
   "execution_count": 20,
   "id": "69574752-1b9b-45fe-abca-e21e2d750f18",
   "metadata": {},
   "outputs": [
    {
     "data": {
      "text/html": [
       "<div><svg style=\"position: absolute; width: 0; height: 0; overflow: hidden\">\n",
       "<defs>\n",
       "<symbol id=\"icon-database\" viewBox=\"0 0 32 32\">\n",
       "<path d=\"M16 0c-8.837 0-16 2.239-16 5v4c0 2.761 7.163 5 16 5s16-2.239 16-5v-4c0-2.761-7.163-5-16-5z\"></path>\n",
       "<path d=\"M16 17c-8.837 0-16-2.239-16-5v6c0 2.761 7.163 5 16 5s16-2.239 16-5v-6c0 2.761-7.163 5-16 5z\"></path>\n",
       "<path d=\"M16 26c-8.837 0-16-2.239-16-5v6c0 2.761 7.163 5 16 5s16-2.239 16-5v-6c0 2.761-7.163 5-16 5z\"></path>\n",
       "</symbol>\n",
       "<symbol id=\"icon-file-text2\" viewBox=\"0 0 32 32\">\n",
       "<path d=\"M28.681 7.159c-0.694-0.947-1.662-2.053-2.724-3.116s-2.169-2.030-3.116-2.724c-1.612-1.182-2.393-1.319-2.841-1.319h-15.5c-1.378 0-2.5 1.121-2.5 2.5v27c0 1.378 1.122 2.5 2.5 2.5h23c1.378 0 2.5-1.122 2.5-2.5v-19.5c0-0.448-0.137-1.23-1.319-2.841zM24.543 5.457c0.959 0.959 1.712 1.825 2.268 2.543h-4.811v-4.811c0.718 0.556 1.584 1.309 2.543 2.268zM28 29.5c0 0.271-0.229 0.5-0.5 0.5h-23c-0.271 0-0.5-0.229-0.5-0.5v-27c0-0.271 0.229-0.5 0.5-0.5 0 0 15.499-0 15.5 0v7c0 0.552 0.448 1 1 1h7v19.5z\"></path>\n",
       "<path d=\"M23 26h-14c-0.552 0-1-0.448-1-1s0.448-1 1-1h14c0.552 0 1 0.448 1 1s-0.448 1-1 1z\"></path>\n",
       "<path d=\"M23 22h-14c-0.552 0-1-0.448-1-1s0.448-1 1-1h14c0.552 0 1 0.448 1 1s-0.448 1-1 1z\"></path>\n",
       "<path d=\"M23 18h-14c-0.552 0-1-0.448-1-1s0.448-1 1-1h14c0.552 0 1 0.448 1 1s-0.448 1-1 1z\"></path>\n",
       "</symbol>\n",
       "</defs>\n",
       "</svg>\n",
       "<style>/* CSS stylesheet for displaying xarray objects in jupyterlab.\n",
       " *\n",
       " */\n",
       "\n",
       ":root {\n",
       "  --xr-font-color0: var(--jp-content-font-color0, rgba(0, 0, 0, 1));\n",
       "  --xr-font-color2: var(--jp-content-font-color2, rgba(0, 0, 0, 0.54));\n",
       "  --xr-font-color3: var(--jp-content-font-color3, rgba(0, 0, 0, 0.38));\n",
       "  --xr-border-color: var(--jp-border-color2, #e0e0e0);\n",
       "  --xr-disabled-color: var(--jp-layout-color3, #bdbdbd);\n",
       "  --xr-background-color: var(--jp-layout-color0, white);\n",
       "  --xr-background-color-row-even: var(--jp-layout-color1, white);\n",
       "  --xr-background-color-row-odd: var(--jp-layout-color2, #eeeeee);\n",
       "}\n",
       "\n",
       "html[theme=dark],\n",
       "body.vscode-dark {\n",
       "  --xr-font-color0: rgba(255, 255, 255, 1);\n",
       "  --xr-font-color2: rgba(255, 255, 255, 0.54);\n",
       "  --xr-font-color3: rgba(255, 255, 255, 0.38);\n",
       "  --xr-border-color: #1F1F1F;\n",
       "  --xr-disabled-color: #515151;\n",
       "  --xr-background-color: #111111;\n",
       "  --xr-background-color-row-even: #111111;\n",
       "  --xr-background-color-row-odd: #313131;\n",
       "}\n",
       "\n",
       ".xr-wrap {\n",
       "  display: block !important;\n",
       "  min-width: 300px;\n",
       "  max-width: 700px;\n",
       "}\n",
       "\n",
       ".xr-text-repr-fallback {\n",
       "  /* fallback to plain text repr when CSS is not injected (untrusted notebook) */\n",
       "  display: none;\n",
       "}\n",
       "\n",
       ".xr-header {\n",
       "  padding-top: 6px;\n",
       "  padding-bottom: 6px;\n",
       "  margin-bottom: 4px;\n",
       "  border-bottom: solid 1px var(--xr-border-color);\n",
       "}\n",
       "\n",
       ".xr-header > div,\n",
       ".xr-header > ul {\n",
       "  display: inline;\n",
       "  margin-top: 0;\n",
       "  margin-bottom: 0;\n",
       "}\n",
       "\n",
       ".xr-obj-type,\n",
       ".xr-array-name {\n",
       "  margin-left: 2px;\n",
       "  margin-right: 10px;\n",
       "}\n",
       "\n",
       ".xr-obj-type {\n",
       "  color: var(--xr-font-color2);\n",
       "}\n",
       "\n",
       ".xr-sections {\n",
       "  padding-left: 0 !important;\n",
       "  display: grid;\n",
       "  grid-template-columns: 150px auto auto 1fr 20px 20px;\n",
       "}\n",
       "\n",
       ".xr-section-item {\n",
       "  display: contents;\n",
       "}\n",
       "\n",
       ".xr-section-item input {\n",
       "  display: none;\n",
       "}\n",
       "\n",
       ".xr-section-item input + label {\n",
       "  color: var(--xr-disabled-color);\n",
       "}\n",
       "\n",
       ".xr-section-item input:enabled + label {\n",
       "  cursor: pointer;\n",
       "  color: var(--xr-font-color2);\n",
       "}\n",
       "\n",
       ".xr-section-item input:enabled + label:hover {\n",
       "  color: var(--xr-font-color0);\n",
       "}\n",
       "\n",
       ".xr-section-summary {\n",
       "  grid-column: 1;\n",
       "  color: var(--xr-font-color2);\n",
       "  font-weight: 500;\n",
       "}\n",
       "\n",
       ".xr-section-summary > span {\n",
       "  display: inline-block;\n",
       "  padding-left: 0.5em;\n",
       "}\n",
       "\n",
       ".xr-section-summary-in:disabled + label {\n",
       "  color: var(--xr-font-color2);\n",
       "}\n",
       "\n",
       ".xr-section-summary-in + label:before {\n",
       "  display: inline-block;\n",
       "  content: '►';\n",
       "  font-size: 11px;\n",
       "  width: 15px;\n",
       "  text-align: center;\n",
       "}\n",
       "\n",
       ".xr-section-summary-in:disabled + label:before {\n",
       "  color: var(--xr-disabled-color);\n",
       "}\n",
       "\n",
       ".xr-section-summary-in:checked + label:before {\n",
       "  content: '▼';\n",
       "}\n",
       "\n",
       ".xr-section-summary-in:checked + label > span {\n",
       "  display: none;\n",
       "}\n",
       "\n",
       ".xr-section-summary,\n",
       ".xr-section-inline-details {\n",
       "  padding-top: 4px;\n",
       "  padding-bottom: 4px;\n",
       "}\n",
       "\n",
       ".xr-section-inline-details {\n",
       "  grid-column: 2 / -1;\n",
       "}\n",
       "\n",
       ".xr-section-details {\n",
       "  display: none;\n",
       "  grid-column: 1 / -1;\n",
       "  margin-bottom: 5px;\n",
       "}\n",
       "\n",
       ".xr-section-summary-in:checked ~ .xr-section-details {\n",
       "  display: contents;\n",
       "}\n",
       "\n",
       ".xr-array-wrap {\n",
       "  grid-column: 1 / -1;\n",
       "  display: grid;\n",
       "  grid-template-columns: 20px auto;\n",
       "}\n",
       "\n",
       ".xr-array-wrap > label {\n",
       "  grid-column: 1;\n",
       "  vertical-align: top;\n",
       "}\n",
       "\n",
       ".xr-preview {\n",
       "  color: var(--xr-font-color3);\n",
       "}\n",
       "\n",
       ".xr-array-preview,\n",
       ".xr-array-data {\n",
       "  padding: 0 5px !important;\n",
       "  grid-column: 2;\n",
       "}\n",
       "\n",
       ".xr-array-data,\n",
       ".xr-array-in:checked ~ .xr-array-preview {\n",
       "  display: none;\n",
       "}\n",
       "\n",
       ".xr-array-in:checked ~ .xr-array-data,\n",
       ".xr-array-preview {\n",
       "  display: inline-block;\n",
       "}\n",
       "\n",
       ".xr-dim-list {\n",
       "  display: inline-block !important;\n",
       "  list-style: none;\n",
       "  padding: 0 !important;\n",
       "  margin: 0;\n",
       "}\n",
       "\n",
       ".xr-dim-list li {\n",
       "  display: inline-block;\n",
       "  padding: 0;\n",
       "  margin: 0;\n",
       "}\n",
       "\n",
       ".xr-dim-list:before {\n",
       "  content: '(';\n",
       "}\n",
       "\n",
       ".xr-dim-list:after {\n",
       "  content: ')';\n",
       "}\n",
       "\n",
       ".xr-dim-list li:not(:last-child):after {\n",
       "  content: ',';\n",
       "  padding-right: 5px;\n",
       "}\n",
       "\n",
       ".xr-has-index {\n",
       "  font-weight: bold;\n",
       "}\n",
       "\n",
       ".xr-var-list,\n",
       ".xr-var-item {\n",
       "  display: contents;\n",
       "}\n",
       "\n",
       ".xr-var-item > div,\n",
       ".xr-var-item label,\n",
       ".xr-var-item > .xr-var-name span {\n",
       "  background-color: var(--xr-background-color-row-even);\n",
       "  margin-bottom: 0;\n",
       "}\n",
       "\n",
       ".xr-var-item > .xr-var-name:hover span {\n",
       "  padding-right: 5px;\n",
       "}\n",
       "\n",
       ".xr-var-list > li:nth-child(odd) > div,\n",
       ".xr-var-list > li:nth-child(odd) > label,\n",
       ".xr-var-list > li:nth-child(odd) > .xr-var-name span {\n",
       "  background-color: var(--xr-background-color-row-odd);\n",
       "}\n",
       "\n",
       ".xr-var-name {\n",
       "  grid-column: 1;\n",
       "}\n",
       "\n",
       ".xr-var-dims {\n",
       "  grid-column: 2;\n",
       "}\n",
       "\n",
       ".xr-var-dtype {\n",
       "  grid-column: 3;\n",
       "  text-align: right;\n",
       "  color: var(--xr-font-color2);\n",
       "}\n",
       "\n",
       ".xr-var-preview {\n",
       "  grid-column: 4;\n",
       "}\n",
       "\n",
       ".xr-var-name,\n",
       ".xr-var-dims,\n",
       ".xr-var-dtype,\n",
       ".xr-preview,\n",
       ".xr-attrs dt {\n",
       "  white-space: nowrap;\n",
       "  overflow: hidden;\n",
       "  text-overflow: ellipsis;\n",
       "  padding-right: 10px;\n",
       "}\n",
       "\n",
       ".xr-var-name:hover,\n",
       ".xr-var-dims:hover,\n",
       ".xr-var-dtype:hover,\n",
       ".xr-attrs dt:hover {\n",
       "  overflow: visible;\n",
       "  width: auto;\n",
       "  z-index: 1;\n",
       "}\n",
       "\n",
       ".xr-var-attrs,\n",
       ".xr-var-data {\n",
       "  display: none;\n",
       "  background-color: var(--xr-background-color) !important;\n",
       "  padding-bottom: 5px !important;\n",
       "}\n",
       "\n",
       ".xr-var-attrs-in:checked ~ .xr-var-attrs,\n",
       ".xr-var-data-in:checked ~ .xr-var-data {\n",
       "  display: block;\n",
       "}\n",
       "\n",
       ".xr-var-data > table {\n",
       "  float: right;\n",
       "}\n",
       "\n",
       ".xr-var-name span,\n",
       ".xr-var-data,\n",
       ".xr-attrs {\n",
       "  padding-left: 25px !important;\n",
       "}\n",
       "\n",
       ".xr-attrs,\n",
       ".xr-var-attrs,\n",
       ".xr-var-data {\n",
       "  grid-column: 1 / -1;\n",
       "}\n",
       "\n",
       "dl.xr-attrs {\n",
       "  padding: 0;\n",
       "  margin: 0;\n",
       "  display: grid;\n",
       "  grid-template-columns: 125px auto;\n",
       "}\n",
       "\n",
       ".xr-attrs dt,\n",
       ".xr-attrs dd {\n",
       "  padding: 0;\n",
       "  margin: 0;\n",
       "  float: left;\n",
       "  padding-right: 10px;\n",
       "  width: auto;\n",
       "}\n",
       "\n",
       ".xr-attrs dt {\n",
       "  font-weight: normal;\n",
       "  grid-column: 1;\n",
       "}\n",
       "\n",
       ".xr-attrs dt:hover span {\n",
       "  display: inline-block;\n",
       "  background: var(--xr-background-color);\n",
       "  padding-right: 10px;\n",
       "}\n",
       "\n",
       ".xr-attrs dd {\n",
       "  grid-column: 2;\n",
       "  white-space: pre-wrap;\n",
       "  word-break: break-all;\n",
       "}\n",
       "\n",
       ".xr-icon-database,\n",
       ".xr-icon-file-text2 {\n",
       "  display: inline-block;\n",
       "  vertical-align: middle;\n",
       "  width: 1em;\n",
       "  height: 1.5em !important;\n",
       "  stroke-width: 0;\n",
       "  stroke: currentColor;\n",
       "  fill: currentColor;\n",
       "}\n",
       "</style><pre class='xr-text-repr-fallback'>&lt;xarray.DataArray (dim_0: 100)&gt;\n",
       "array([       nan,        nan,        nan,        nan,        nan,\n",
       "              nan,        nan,        nan,        nan,        nan,\n",
       "              nan,        nan,        nan,        nan,        nan,\n",
       "              nan,        nan,        nan,        nan,        nan,\n",
       "              nan,        nan,        nan,        nan,        nan,\n",
       "              nan,        nan,        nan,        nan,        nan,\n",
       "              nan,        nan, 0.63594167, 0.66199376, 0.68898447,\n",
       "       0.71694272, 0.74589816, 0.77588118, 0.80692291, 0.83905527,\n",
       "       0.87231096, 0.90672347, 0.94232709, 0.97915697, 1.01724907,\n",
       "       1.05664022, 1.09736811, 1.13947134, 1.18298937, 1.22796262,\n",
       "       1.27443241, 1.32244103, 1.37203171, 1.42324869, 1.47613717,\n",
       "       1.53074338, 1.58711459, 1.64529908, 1.70534623, 1.76730647,\n",
       "       1.83123133, 1.89717346, 1.96518663, 2.03532576, 2.10764693,\n",
       "       2.18220739, 2.25906562, 2.33828127, 2.41991527, 2.50402976,\n",
       "       2.59068819, 2.67995525, 2.77189698, 2.86658072, 2.96407517,\n",
       "       3.06445035, 3.16777772, 3.27413009, 3.3835817 , 3.49620825,\n",
       "       3.61208687, 3.73129616, 3.85391624, 3.98002873, 4.10971676,\n",
       "       4.24306506, 4.38015989, 4.52108912, 4.66594223, 4.81481034,\n",
       "       4.96778619, 5.12496422, 5.28644057, 5.45231305, 5.62268124,\n",
       "       5.79764645, 5.97731179, 6.16178212, 6.35116414, 6.54556639])\n",
       "Dimensions without coordinates: dim_0\n",
       "Attributes:\n",
       "    long_name:  actual saturation vapor pressure via Tdew\n",
       "    units:      kPa\n",
       "    url:        https://www.fao.org/docrep/X0490E/x0490e07.htm\n",
       "    info:       FAO 56; EQN 14; actual_saturation_vapor_pressure</pre><div class='xr-wrap' style='display:none'><div class='xr-header'><div class='xr-obj-type'>xarray.DataArray</div><div class='xr-array-name'></div><ul class='xr-dim-list'><li><span>dim_0</span>: 100</li></ul></div><ul class='xr-sections'><li class='xr-section-item'><div class='xr-array-wrap'><input id='section-2bf850f6-064a-4dc5-b2aa-5c3e1752df60' class='xr-array-in' type='checkbox' checked><label for='section-2bf850f6-064a-4dc5-b2aa-5c3e1752df60' title='Show/hide data repr'><svg class='icon xr-icon-database'><use xlink:href='#icon-database'></use></svg></label><div class='xr-array-preview xr-preview'><span>nan nan nan nan nan nan nan ... 5.623 5.798 5.977 6.162 6.351 6.546</span></div><div class='xr-array-data'><pre>array([       nan,        nan,        nan,        nan,        nan,\n",
       "              nan,        nan,        nan,        nan,        nan,\n",
       "              nan,        nan,        nan,        nan,        nan,\n",
       "              nan,        nan,        nan,        nan,        nan,\n",
       "              nan,        nan,        nan,        nan,        nan,\n",
       "              nan,        nan,        nan,        nan,        nan,\n",
       "              nan,        nan, 0.63594167, 0.66199376, 0.68898447,\n",
       "       0.71694272, 0.74589816, 0.77588118, 0.80692291, 0.83905527,\n",
       "       0.87231096, 0.90672347, 0.94232709, 0.97915697, 1.01724907,\n",
       "       1.05664022, 1.09736811, 1.13947134, 1.18298937, 1.22796262,\n",
       "       1.27443241, 1.32244103, 1.37203171, 1.42324869, 1.47613717,\n",
       "       1.53074338, 1.58711459, 1.64529908, 1.70534623, 1.76730647,\n",
       "       1.83123133, 1.89717346, 1.96518663, 2.03532576, 2.10764693,\n",
       "       2.18220739, 2.25906562, 2.33828127, 2.41991527, 2.50402976,\n",
       "       2.59068819, 2.67995525, 2.77189698, 2.86658072, 2.96407517,\n",
       "       3.06445035, 3.16777772, 3.27413009, 3.3835817 , 3.49620825,\n",
       "       3.61208687, 3.73129616, 3.85391624, 3.98002873, 4.10971676,\n",
       "       4.24306506, 4.38015989, 4.52108912, 4.66594223, 4.81481034,\n",
       "       4.96778619, 5.12496422, 5.28644057, 5.45231305, 5.62268124,\n",
       "       5.79764645, 5.97731179, 6.16178212, 6.35116414, 6.54556639])</pre></div></div></li><li class='xr-section-item'><input id='section-c3ca0baf-0730-422e-925b-8d82584a39a2' class='xr-section-summary-in' type='checkbox' disabled ><label for='section-c3ca0baf-0730-422e-925b-8d82584a39a2' class='xr-section-summary'  title='Expand/collapse section'>Coordinates: <span>(0)</span></label><div class='xr-section-inline-details'></div><div class='xr-section-details'><ul class='xr-var-list'></ul></div></li><li class='xr-section-item'><input id='section-d37847ba-29fd-4dc4-a0a9-da60f885f177' class='xr-section-summary-in' type='checkbox'  checked><label for='section-d37847ba-29fd-4dc4-a0a9-da60f885f177' class='xr-section-summary' >Attributes: <span>(4)</span></label><div class='xr-section-inline-details'></div><div class='xr-section-details'><dl class='xr-attrs'><dt><span>long_name :</span></dt><dd>actual saturation vapor pressure via Tdew</dd><dt><span>units :</span></dt><dd>kPa</dd><dt><span>url :</span></dt><dd>https://www.fao.org/docrep/X0490E/x0490e07.htm</dd><dt><span>info :</span></dt><dd>FAO 56; EQN 14; actual_saturation_vapor_pressure</dd></dl></div></li></ul></div></div>"
      ],
      "text/plain": [
       "<xarray.DataArray (dim_0: 100)>\n",
       "array([       nan,        nan,        nan,        nan,        nan,\n",
       "              nan,        nan,        nan,        nan,        nan,\n",
       "              nan,        nan,        nan,        nan,        nan,\n",
       "              nan,        nan,        nan,        nan,        nan,\n",
       "              nan,        nan,        nan,        nan,        nan,\n",
       "              nan,        nan,        nan,        nan,        nan,\n",
       "              nan,        nan, 0.63594167, 0.66199376, 0.68898447,\n",
       "       0.71694272, 0.74589816, 0.77588118, 0.80692291, 0.83905527,\n",
       "       0.87231096, 0.90672347, 0.94232709, 0.97915697, 1.01724907,\n",
       "       1.05664022, 1.09736811, 1.13947134, 1.18298937, 1.22796262,\n",
       "       1.27443241, 1.32244103, 1.37203171, 1.42324869, 1.47613717,\n",
       "       1.53074338, 1.58711459, 1.64529908, 1.70534623, 1.76730647,\n",
       "       1.83123133, 1.89717346, 1.96518663, 2.03532576, 2.10764693,\n",
       "       2.18220739, 2.25906562, 2.33828127, 2.41991527, 2.50402976,\n",
       "       2.59068819, 2.67995525, 2.77189698, 2.86658072, 2.96407517,\n",
       "       3.06445035, 3.16777772, 3.27413009, 3.3835817 , 3.49620825,\n",
       "       3.61208687, 3.73129616, 3.85391624, 3.98002873, 4.10971676,\n",
       "       4.24306506, 4.38015989, 4.52108912, 4.66594223, 4.81481034,\n",
       "       4.96778619, 5.12496422, 5.28644057, 5.45231305, 5.62268124,\n",
       "       5.79764645, 5.97731179, 6.16178212, 6.35116414, 6.54556639])\n",
       "Dimensions without coordinates: dim_0\n",
       "Attributes:\n",
       "    long_name:  actual saturation vapor pressure via Tdew\n",
       "    units:      kPa\n",
       "    url:        https://www.fao.org/docrep/X0490E/x0490e07.htm\n",
       "    info:       FAO 56; EQN 14; actual_saturation_vapor_pressure"
      ]
     },
     "execution_count": 20,
     "metadata": {},
     "output_type": "execute_result"
    }
   ],
   "source": [
    "ncl_gt2"
   ]
  },
  {
   "cell_type": "markdown",
   "id": "3acc4745-d762-4eb4-b5ef-4dcb31ad0671",
   "metadata": {
    "tags": []
   },
   "source": [
    "## Unittests with CPU!"
   ]
  },
  {
   "cell_type": "code",
   "execution_count": 21,
   "id": "bed32a55-c85c-4fa7-bd45-3ff4395a0cb3",
   "metadata": {},
   "outputs": [
    {
     "name": "stderr",
     "output_type": "stream",
     "text": [
      "/glade/work/hkashgar/conda-envs/geocat/lib/python3.10/site-packages/distributed/node.py:177: UserWarning: Port 8787 is already in use.\n",
      "Perhaps you already have a cluster running?\n",
      "Hosting the HTTP server on port 36828 instead\n",
      "  warnings.warn(\n",
      "2022-07-15 09:04:43,095 - distributed.diskutils - INFO - Found stale lock file and directory '/glade/u/home/hkashgar/GPU_data_analysis_rapids/geocat-comp/dask-worker-space/worker-ilha_x5g', purging\n"
     ]
    },
    {
     "name": "stdout",
     "output_type": "stream",
     "text": [
      "<class 'numpy.ndarray'>\n",
      "<class 'numpy.ndarray'>\n",
      "<class 'numpy.ndarray'>\n",
      "<class 'numpy.ndarray'>\n",
      "<class 'numpy.ndarray'>\n",
      "<class 'numpy.ndarray'>\n",
      "<class 'numpy.ndarray'>\n",
      "<class 'numpy.ndarray'>\n",
      "<class 'xarray.core.dataarray.DataArray'>\n",
      "<class 'xarray.core.dataarray.DataArray'>\n",
      "<class 'xarray.core.dataarray.DataArray'>\n",
      "<class 'xarray.core.dataarray.DataArray'>\n",
      "<class 'xarray.core.dataarray.DataArray'>\n",
      "<class 'xarray.core.dataarray.DataArray'>\n"
     ]
    }
   ],
   "source": [
    "client = Client(clusterCPU)\n",
    "test = Test_actual_saturation_vapor_pressure()\n",
    "\n",
    "test.setUpClass()\n",
    "test.test_float_input(use_gpu = False)\n",
    "test.test_list_input(use_gpu = False)\n",
    "test.test_numpy_input(use_gpu = False)\n",
    "test.test_multi_dimensional_input(use_gpu = False)\n",
    "test.test_xarray_input(use_gpu = False)\n",
    "test.test_dask_compute(use_gpu = False)\n",
    "test.test_dask_lazy(use_gpu = False)"
   ]
  },
  {
   "cell_type": "markdown",
   "id": "833e46b4-5d32-4ee4-b24c-dd4d90d57b20",
   "metadata": {
    "tags": []
   },
   "source": [
    "## Unittests with GPU"
   ]
  },
  {
   "cell_type": "code",
   "execution_count": 22,
   "id": "0c907e70-e181-4328-8083-7ac9ab53e734",
   "metadata": {},
   "outputs": [
    {
     "name": "stderr",
     "output_type": "stream",
     "text": [
      "/glade/work/hkashgar/conda-envs/geocat/lib/python3.10/site-packages/distributed/node.py:177: UserWarning: Port 8787 is already in use.\n",
      "Perhaps you already have a cluster running?\n",
      "Hosting the HTTP server on port 33956 instead\n",
      "  warnings.warn(\n"
     ]
    },
    {
     "name": "stdout",
     "output_type": "stream",
     "text": [
      "<class 'cupy._core.core.ndarray'>\n",
      "<class 'cupy._core.core.ndarray'>\n",
      "<class 'cupy._core.core.ndarray'>\n",
      "<class 'cupy._core.core.ndarray'>\n",
      "<class 'cupy._core.core.ndarray'>\n",
      "<class 'cupy._core.core.ndarray'>\n",
      "<class 'cupy._core.core.ndarray'>\n",
      "<class 'cupy._core.core.ndarray'>\n",
      "<class 'xarray.core.dataarray.DataArray'>\n",
      "<class 'xarray.core.dataarray.DataArray'>\n",
      "<class 'xarray.core.dataarray.DataArray'>\n",
      "<class 'xarray.core.dataarray.DataArray'>\n",
      "<class 'xarray.core.dataarray.DataArray'>\n",
      "<class 'xarray.core.dataarray.DataArray'>\n"
     ]
    }
   ],
   "source": [
    "client = Client(clusterCUDA)\n",
    "test = Test_actual_saturation_vapor_pressure()\n",
    "\n",
    "test.setUpClass()\n",
    "test.test_float_input(use_gpu = True)\n",
    "test.test_list_input(use_gpu = True)\n",
    "test.test_numpy_input(use_gpu = True)\n",
    "test.test_multi_dimensional_input(use_gpu = True)\n",
    "test.test_xarray_input(use_gpu = True)\n",
    "test.test_dask_compute(use_gpu = True)\n",
    "test.test_dask_lazy(use_gpu = True)"
   ]
  },
  {
   "cell_type": "markdown",
   "id": "89402be5-a57e-4037-a487-e3523d2ae4ff",
   "metadata": {
    "tags": []
   },
   "source": [
    "## Benchmark Results for different Array Sizes (NUMPY/CUPY)"
   ]
  },
  {
   "cell_type": "code",
   "execution_count": null,
   "id": "864afb6b-31c7-4f01-90ad-806fc289245b",
   "metadata": {},
   "outputs": [],
   "source": [
    "#Test_actual_saturation_vapor_pressure main body\n",
    "Routine = \"actual_saturation_vapor_pressure\"\n",
    "print(Routine)\n",
    "allData = pd.DataFrame()\n",
    "#For different Array sizes\n",
    "for i in range(2,max_power):\n",
    "    ArraySize = 10**i\n",
    "    temp = temp_arrays[i-1].data\n",
    "    print(\"Array size: \", ArraySize)\n",
    "    #for numpy and cupy both\n",
    "    for xp in [np,cp]:\n",
    "        #calculation will be repeated 10 time to get the less biased performance results\n",
    "        repsize = 10\n",
    "        repeat = np.zeros([repsize])\n",
    "        for rep in range(0,repsize):\n",
    "            #create different sizes of arrays\n",
    "            if(xp == cp):\n",
    "                res_cupy = geo.actual_saturation_vapor_pressure(temp,use_gpu=True)\n",
    "                cp.cuda.runtime.deviceSynchronize()\n",
    "                time1 = time.time()\n",
    "                res_cupy = geo.actual_saturation_vapor_pressure(temp,use_gpu=True)\n",
    "                cp.cuda.runtime.deviceSynchronize()\n",
    "                time2 = time.time()\n",
    "                repeat[rep] = time2-time1\n",
    "            else:\n",
    "                time1 = time.time()\n",
    "                res_numpy = geo.actual_saturation_vapor_pressure(temp,use_gpu=False)\n",
    "                time2 = time.time()\n",
    "                repeat[rep] = time2-time1\n",
    "        #save times\n",
    "        data = {'Routine': np.repeat(Routine, repsize),\n",
    "                'Input':\"NumPy input\",\n",
    "                'Approach': np.repeat(xp.__name__ , repsize),\n",
    "                'ArraySize': np.repeat(ArraySize , repsize),\n",
    "                'iteration' : np.arange(1,repsize+1),\n",
    "                'Runtime(s)': repeat}\n",
    "\n",
    "        allData = pd.concat([allData,pd.DataFrame(data)], ignore_index=True)\n",
    "        print(xp.__name__,np.mean(repeat), \"seconds\")\n",
    "    #test_validation(res_numpy,res_cupy)\n",
    "try:\n",
    "    previous = pd.read_csv(csvpath)\n",
    "    previous = pd.concat([previous,allData])\n",
    "except FileNotFoundError:\n",
    "    previous = allData\n",
    "previous.to_csv(csvpath, index=False)\n",
    "plot(allData,\"Test_actual_saturation_vapor_pressure_ported_numpy.jpg\")"
   ]
  },
  {
   "cell_type": "code",
   "execution_count": null,
   "id": "ef3b563c-2671-4ac5-823f-3fc62cda2717",
   "metadata": {},
   "outputs": [],
   "source": [
    "type(res_cupy)"
   ]
  },
  {
   "cell_type": "markdown",
   "id": "f5bcd16c-5c6c-4cad-9e38-73b9f26cbcd9",
   "metadata": {
    "tags": []
   },
   "source": [
    "## Results for different ArraySizes Xarray (with NumPy/CuPy arrays inside the Xarray)"
   ]
  },
  {
   "cell_type": "markdown",
   "id": "3a2a39d2-8527-4145-8ac9-f03b466c29ec",
   "metadata": {
    "tags": []
   },
   "source": [
    "### Test actual_saturation_vapor_pressure on CPU"
   ]
  },
  {
   "cell_type": "code",
   "execution_count": null,
   "id": "d8658fe1-d6ff-4187-90e4-4980769f41e3",
   "metadata": {},
   "outputs": [],
   "source": [
    "client = Client(clusterCPU)\n",
    "client"
   ]
  },
  {
   "cell_type": "code",
   "execution_count": null,
   "id": "f8e6e2c6-2b68-488e-adef-6e0e9450d744",
   "metadata": {},
   "outputs": [],
   "source": [
    "csvpath = \"actual_saturation_vapor_pressure_ported_test_xarray.csv\"\n",
    "#Test_actual_saturation_vapor_pressure main body\n",
    "Routine = \"actual_saturation_vapor_pressure\"\n",
    "print(Routine)\n",
    "allData = pd.DataFrame()\n",
    "#For different Array sizes\n",
    "for i in range(1,max_power):\n",
    "    ArraySize = 10**i\n",
    "    print(\"Array size: \", ArraySize)\n",
    "    pressure = pressure_arrays[i-1].data\n",
    "    #for numpy and cupy both\n",
    "    xp = np \n",
    "    repsize = 10\n",
    "    repeat = np.zeros([repsize])\n",
    "    for rep in range(0,repsize):\n",
    "    #create different sizes of arrays\n",
    "        numpy_res = geo.actual_saturation_vapor_pressure(pressure , False)\n",
    "        time1 = time.time()\n",
    "        numpy_res = geo.actual_saturation_vapor_pressure(pressure , False)\n",
    "        time2 = time.time()\n",
    "        repeat[rep] = time2-time1\n",
    "    numpy_results.append(numpy_res)\n",
    "    #save times\n",
    "    data = {'Routine': np.repeat(Routine, repsize),\n",
    "            'Input':\"Xarray with NumPy input\",\n",
    "            'Approach': np.repeat(xp.__name__ , repsize),\n",
    "            'ArraySize': np.repeat(ArraySize , repsize),\n",
    "            'iteration' : np.arange(1,repsize+1),\n",
    "            'Runtime(s)': repeat}\n",
    "    allData = pd.concat([allData,pd.DataFrame(data)], ignore_index=True)\n",
    "    print(xp.__name__,np.mean(repeat), \"seconds\")\n",
    "try:\n",
    "    previous = pd.read_csv(csvpath)\n",
    "    previous = pd.concat([previous,allData])\n",
    "except FileNotFoundError:\n",
    "    previous = allData\n",
    "previous.to_csv(csvpath, index=False)"
   ]
  },
  {
   "cell_type": "markdown",
   "id": "879a9679-29e3-4c11-8ae1-420f9e049814",
   "metadata": {
    "tags": []
   },
   "source": [
    "### Test actual_saturation_vapor_pressure on GPU"
   ]
  },
  {
   "cell_type": "code",
   "execution_count": null,
   "id": "3c39449d-eb3e-4b33-9092-9394c54ce360",
   "metadata": {},
   "outputs": [],
   "source": [
    "client = Client(clusterCUDA)\n",
    "client"
   ]
  },
  {
   "cell_type": "code",
   "execution_count": null,
   "id": "59f5657d-5b18-47fd-afd8-4f8c1d7981a0",
   "metadata": {},
   "outputs": [],
   "source": [
    "#Test_actual_saturation_vapor_pressure main body\n",
    "Routine = \"actual_saturation_vapor_pressure\"\n",
    "print(Routine)\n",
    "#For different Array sizes\n",
    "for i in range(1,max_power):\n",
    "    ArraySize = 10**i\n",
    "    pressure = pressure_arrays[i-1]\n",
    "    print(\"Array size: \", ArraySize)\n",
    "    #for numpy and cupy both\n",
    "    xp = cp\n",
    "        #calculation will be repeated 10 time to get the less biased performance results\n",
    "    repsize = 10\n",
    "    repeat = np.zeros([repsize])\n",
    "    for rep in range(0,repsize):\n",
    "        #create different sizes of arrays\n",
    "        cupy_res = geo.actual_saturation_vapor_pressure(pressure, True)\n",
    "        cp.cuda.runtime.deviceSynchronize()\n",
    "        time1 = time.time()\n",
    "        cupy_res = geo.actual_saturation_vapor_pressure(pressure, True)\n",
    "        cp.cuda.runtime.deviceSynchronize()\n",
    "        time2 = time.time()\n",
    "        repeat[rep] = time2-time1\n",
    "    cupy_results.append(cupy_res)\n",
    "    #save times\n",
    "    data = {'Routine': np.repeat(Routine, repsize),\n",
    "            'Input':\"Xarray with NumPy input\",\n",
    "            'Approach': np.repeat(xp.__name__ , repsize),\n",
    "            'ArraySize': np.repeat(ArraySize , repsize),\n",
    "            'iteration' : np.arange(1,repsize+1),\n",
    "            'Runtime(s)': repeat}\n",
    "    allData = pd.concat([allData,pd.DataFrame(data)], ignore_index=True)\n",
    "    print(xp.__name__,np.mean(repeat), \"seconds\")\n",
    "\n",
    "try:\n",
    "    previous = pd.read_csv(csvpath)\n",
    "    previous = pd.concat([previous,allData])\n",
    "except FileNotFoundError:\n",
    "    previous = allData\n",
    "previous.to_csv(csvpath, index=False)\n",
    "plot(allData,\"Test_actual_saturation_vapor_pressure_ported_xarray.jpg\")"
   ]
  },
  {
   "cell_type": "markdown",
   "id": "43a17406-2783-4389-b78e-8142cf27e5ac",
   "metadata": {
    "tags": []
   },
   "source": [
    "### Validation"
   ]
  },
  {
   "cell_type": "code",
   "execution_count": null,
   "id": "fb8a3094-2533-40d0-b6d4-2a2783c88aa3",
   "metadata": {},
   "outputs": [],
   "source": [
    "#validation \n",
    "for i in range(len(numpy_results)):\n",
    "    test_validation(cupy_results[i].data,numpy_results[i].data)"
   ]
  },
  {
   "cell_type": "code",
   "execution_count": null,
   "id": "b58db857-2ab8-4466-8340-67f03b646a0f",
   "metadata": {},
   "outputs": [],
   "source": [
    "cupy_results[0]"
   ]
  },
  {
   "cell_type": "code",
   "execution_count": null,
   "id": "0eac048e-c86e-429b-880a-2526c5492581",
   "metadata": {},
   "outputs": [],
   "source": [
    "numpy_results[0]"
   ]
  },
  {
   "cell_type": "markdown",
   "id": "b72bc7fa-4fa1-4616-abff-5fe2ebe22114",
   "metadata": {
    "tags": []
   },
   "source": [
    "## Benchmark Results for different ArraySizes Xarray (with Dask arrays inside the Xarray, then dask array type is either NumPy or CuPy)"
   ]
  },
  {
   "cell_type": "markdown",
   "id": "1b8fc679-e63d-4c66-bf0c-001720e0022f",
   "metadata": {
    "tags": []
   },
   "source": [
    "### Test actual_saturation_vapor_pressure on CPU"
   ]
  },
  {
   "cell_type": "code",
   "execution_count": null,
   "id": "d0e22a53-9c20-4995-9bc2-d319c17456a7",
   "metadata": {},
   "outputs": [],
   "source": [
    "client = Client(clusterCPU)\n",
    "client"
   ]
  },
  {
   "cell_type": "code",
   "execution_count": null,
   "id": "a71296bd-7005-4099-9704-2aff49831259",
   "metadata": {
    "tags": []
   },
   "outputs": [],
   "source": [
    "csvpath = \"actual_saturation_vapor_pressure_ported_test_dask.csv\"\n",
    "#Test_actual_saturation_vapor_pressure main body\n",
    "Routine = \"actual_saturation_vapor_pressure\"\n",
    "print(Routine)\n",
    "allData = pd.DataFrame()\n",
    "#For different Array sizes\n",
    "for i in range(1,max_power):\n",
    "    ArraySize = 10**i\n",
    "    print(\"Array size: \", ArraySize)\n",
    "    rh_def = rh_def_arrays[i-1].chunk(chunksize)\n",
    "    tk_def = tk_def_arrays[i-1].chunk(chunksize)\n",
    "    #for numpy and cupy both\n",
    "    xp = np\n",
    "    #calculation will be repeated 10 time to get the less biased performance results\n",
    "    repsize = 10\n",
    "    repeat = np.zeros([repsize])\n",
    "    for rep in range(0,repsize):\n",
    "        #create different sizes of arrays\n",
    "        numpy_res = geo.actual_saturation_vapor_pressure(tk_def, rh_def, False).compute()\n",
    "        time1 = time.time()\n",
    "        numpy_res = geo.actual_saturation_vapor_pressure(tk_def, rh_def, False).compute()\n",
    "        time2 = time.time()\n",
    "        repeat[rep] = time2-time1\n",
    "        #save times\n",
    "    numpy_results.append(numpy_res)\n",
    "    data = {'Routine': np.repeat(Routine, repsize),\n",
    "            'Input':\"Xarray with Dask array input\",\n",
    "            'Approach': np.repeat(xp.__name__ , repsize),\n",
    "            'ArraySize': np.repeat(ArraySize , repsize),\n",
    "            'iteration' : np.arange(1,repsize+1),\n",
    "            'Runtime(s)': repeat}\n",
    "    allData = pd.concat([allData,pd.DataFrame(data)], ignore_index=True)\n",
    "    print(xp.__name__,np.mean(repeat), \"seconds\")\n",
    "\n",
    "try:\n",
    "    previous = pd.read_csv(csvpath)\n",
    "    previous = pd.concat([previous,allData])\n",
    "except FileNotFoundError:\n",
    "    previous = allData\n",
    "previous.to_csv(csvpath, index=False)"
   ]
  },
  {
   "cell_type": "markdown",
   "id": "2364591d-d6df-44e0-82e3-6aaac0481a7c",
   "metadata": {
    "tags": []
   },
   "source": [
    "### Test actual_saturation_vapor_pressure on GPU"
   ]
  },
  {
   "cell_type": "code",
   "execution_count": null,
   "id": "98c47630-a644-43cf-918c-a59caef436ff",
   "metadata": {},
   "outputs": [],
   "source": [
    "client = Client(clusterCUDA)\n",
    "client"
   ]
  },
  {
   "cell_type": "code",
   "execution_count": null,
   "id": "70e801b0-367c-4000-88be-29db5abaecdf",
   "metadata": {},
   "outputs": [],
   "source": [
    "#Test_actual_saturation_vapor_pressure main body\n",
    "Routine = \"actual_saturation_vapor_pressure\"\n",
    "print(Routine)\n",
    "#For different Array sizes\n",
    "for i in range(1,max_power):\n",
    "    ArraySize = 10**i\n",
    "    print(\"Array size: \", ArraySize)\n",
    "    rh_def = rh_def_arrays[i-1].chunk(chunksize)\n",
    "    tk_def = tk_def_arrays[i-1].chunk(chunksize)\n",
    "    #for numpy and cupy both\n",
    "    xp = cp\n",
    "    #calculation will be repeated 10 time to get the less biased performance results\n",
    "    repsize = 10\n",
    "    repeat = np.zeros([repsize])\n",
    "    for rep in range(0,repsize):\n",
    "        #create different sizes of arrays\n",
    "        cupy_res = geo.actual_saturation_vapor_pressure(tk_def, rh_def, True).compute()\n",
    "        cp.cuda.runtime.deviceSynchronize()\n",
    "        time1 = time.time()\n",
    "        cupy_res = geo.actual_saturation_vapor_pressure(tk_def, rh_def, True).compute()\n",
    "        cp.cuda.runtime.deviceSynchronize()\n",
    "        time2 = time.time()\n",
    "        repeat[rep] = time2-time1\n",
    "        #save times\n",
    "    cupy_results.append(cupy_res)\n",
    "    data = {'Routine': np.repeat(Routine, repsize),\n",
    "            'Input':\"Xarray with Dask array input\",\n",
    "            'Approach': np.repeat(xp.__name__ , repsize),\n",
    "            'ArraySize': np.repeat(ArraySize , repsize),\n",
    "            'iteration' : np.arange(1,repsize+1),\n",
    "            'Runtime(s)': repeat}\n",
    "    new = pd.DataFrame(data)\n",
    "    allData = pd.concat([allData,new], ignore_index=True)\n",
    "    print(xp.__name__,np.mean(repeat), \"seconds\")\n",
    "    #print(np.allclose(cupy_res.data,numpy_res.data,atol=0.0000001))\n",
    "try:\n",
    "    previous = pd.read_csv(csvpath)\n",
    "    previous = pd.concat([previous,allData])\n",
    "except FileNotFoundError:\n",
    "    previous = allData\n",
    "previous.to_csv(csvpath, index=False)\n",
    "\n",
    "plot(allData,\"Test_actual_saturation_vapor_pressure_ported_dask.jpg\")"
   ]
  },
  {
   "cell_type": "code",
   "execution_count": null,
   "id": "01bbacbe-6b26-4fd1-ba7c-75f423aff5ef",
   "metadata": {},
   "outputs": [],
   "source": [
    "cupy_res.data"
   ]
  },
  {
   "cell_type": "code",
   "execution_count": null,
   "id": "afce7400-1da6-4a10-a3b3-996d19d3877c",
   "metadata": {},
   "outputs": [],
   "source": [
    "numpy_res.data"
   ]
  },
  {
   "cell_type": "markdown",
   "id": "08e202cd-1651-4c15-8c86-35e6c5dc83d9",
   "metadata": {
    "tags": []
   },
   "source": [
    "### Validation"
   ]
  },
  {
   "cell_type": "code",
   "execution_count": null,
   "id": "7ac9bf6f-dea4-42d8-b125-7a94eb7942b9",
   "metadata": {},
   "outputs": [],
   "source": [
    "#validation \n",
    "for i in range(len(numpy_results)):\n",
    "    test_validation(cupy_results[i].data,numpy_results[i].data)"
   ]
  },
  {
   "cell_type": "code",
   "execution_count": null,
   "id": "097b0f94-92cd-4e13-ae04-cbb5c75dac57",
   "metadata": {},
   "outputs": [],
   "source": [
    "numpy_results[0]"
   ]
  },
  {
   "cell_type": "code",
   "execution_count": null,
   "id": "e42399d9-338b-4f91-a755-620504f97e7c",
   "metadata": {},
   "outputs": [],
   "source": [
    "cupy_results[0]"
   ]
  },
  {
   "cell_type": "code",
   "execution_count": null,
   "id": "894b2754-2bc1-44c3-8248-f3d434593155",
   "metadata": {},
   "outputs": [],
   "source": [
    "len(numpy_results)"
   ]
  },
  {
   "cell_type": "markdown",
   "id": "b31393ae-590f-4179-9d6b-b41158730396",
   "metadata": {
    "tags": []
   },
   "source": [
    "### Only comparing \"compute()\" runtime"
   ]
  },
  {
   "cell_type": "code",
   "execution_count": null,
   "id": "c50f0d05-5a4e-459e-a9a5-c830d7d206f7",
   "metadata": {},
   "outputs": [],
   "source": [
    "chunksize = 10**5"
   ]
  },
  {
   "cell_type": "markdown",
   "id": "30e0b661-f8e4-4d5f-924b-f3b84f064d6c",
   "metadata": {
    "tags": []
   },
   "source": [
    "#### on CPU"
   ]
  },
  {
   "cell_type": "code",
   "execution_count": null,
   "id": "1bd7bfe2-8759-4d15-8a2b-c1016410ed2b",
   "metadata": {},
   "outputs": [],
   "source": [
    "client = Client(clusterCPU)\n",
    "client"
   ]
  },
  {
   "cell_type": "code",
   "execution_count": null,
   "id": "30b546e4-0d12-424f-acd6-17c454ab1aba",
   "metadata": {},
   "outputs": [],
   "source": [
    "csvpath = \"actual_saturation_vapor_pressure_ported_test_dask_compute_10.csv\"\n",
    "#Test_actual_saturation_vapor_pressure main body\n",
    "Routine = \"actual_saturation_vapor_pressure\"\n",
    "print(Routine)\n",
    "allData = pd.DataFrame()\n",
    "#For different Array sizes\n",
    "for i in range(1,7):\n",
    "    ArraySize = 10**i\n",
    "    print(\"Array size: \", ArraySize)\n",
    "    rh_def = rh_def_arrays[i-1].chunk(chunksize)\n",
    "    tk_def = tk_def_arrays[i-1].chunk(chunksize)\n",
    "    #for numpy and cupy both\n",
    "    xp = np\n",
    "    #calculation will be repeated 10 time to get the less biased performance results\n",
    "    repsize = 10\n",
    "    repeat = np.zeros([repsize])\n",
    "    for rep in range(0,repsize):\n",
    "        #create different sizes of arrays\n",
    "        numpy_res = geo.actual_saturation_vapor_pressure(tk_def, rh_def,False)\n",
    "        numpy_res.compute()\n",
    "        time1 = time.time()\n",
    "        numpy_res = numpy_res.compute()\n",
    "        time2 = time.time()\n",
    "        repeat[rep] = time2-time1\n",
    "        #save times\n",
    "    numpy_results.append(numpy_res)\n",
    "    data = {'Routine': np.repeat(Routine, repsize),\n",
    "            'Input':\"Xarray with Dask array input compute\",\n",
    "            'Approach': np.repeat(xp.__name__ , repsize),\n",
    "            'ArraySize': np.repeat(ArraySize , repsize),\n",
    "            'iteration' : np.arange(1,repsize+1),\n",
    "            'Runtime(s)': repeat}\n",
    "    allData = pd.concat([allData,pd.DataFrame(data)], ignore_index=True)\n",
    "    print(xp.__name__,np.mean(repeat), \"seconds\")\n",
    "\n",
    "try:\n",
    "    previous = pd.read_csv(csvpath)\n",
    "    previous = pd.concat([previous,allData])\n",
    "except FileNotFoundError:\n",
    "    previous = allData\n",
    "previous.to_csv(csvpath, index=False)"
   ]
  },
  {
   "cell_type": "markdown",
   "id": "658a8849-0840-4664-93f1-e6385b05a282",
   "metadata": {
    "tags": []
   },
   "source": [
    "#### on GPU"
   ]
  },
  {
   "cell_type": "code",
   "execution_count": null,
   "id": "c0724428-a3c2-45b3-a2b9-89faaa8e538d",
   "metadata": {},
   "outputs": [],
   "source": [
    "client = Client(clusterCUDA)\n",
    "client"
   ]
  },
  {
   "cell_type": "code",
   "execution_count": null,
   "id": "75c885d0-a02d-48e5-b545-ae7b7f052349",
   "metadata": {},
   "outputs": [],
   "source": [
    "#Test_actual_saturation_vapor_pressure main body\n",
    "Routine = \"actual_saturation_vapor_pressure\"\n",
    "print(Routine)\n",
    "#For different Array sizes\n",
    "for i in range(1,7):\n",
    "    ArraySize = 10**i\n",
    "    print(\"Array size: \", ArraySize)\n",
    "    rh_def = rh_def_arrays[i-1].chunk(chunksize)\n",
    "    tk_def = tk_def_arrays[i-1].chunk(chunksize)\n",
    "    #for numpy and cupy both\n",
    "    xp = cp\n",
    "    #calculation will be repeated 10 time to get the less biased performance results\n",
    "    repsize = 10\n",
    "    repeat = np.zeros([repsize])\n",
    "    for rep in range(0,repsize):\n",
    "        #create different sizes of arrays\n",
    "        cupy_res = geo.actual_saturation_vapor_pressure(tk_def, rh_def,True)\n",
    "        cupy_res.compute()\n",
    "        cp.cuda.runtime.deviceSynchronize()\n",
    "        time1 = time.time()\n",
    "        cupy_res = cupy_res.compute()\n",
    "        cp.cuda.runtime.deviceSynchronize()\n",
    "        time2 = time.time()\n",
    "        repeat[rep] = time2-time1\n",
    "        #save times\n",
    "    cupy_results.append(cupy_res)\n",
    "    data = {'Routine': np.repeat(Routine, repsize),\n",
    "            'Input':\"Xarray with Dask array input compute\",\n",
    "            'Approach': np.repeat(xp.__name__ , repsize),\n",
    "            'ArraySize': np.repeat(ArraySize , repsize),\n",
    "            'iteration' : np.arange(1,repsize+1),\n",
    "            'Runtime(s)': repeat}\n",
    "    new = pd.DataFrame(data)\n",
    "    allData = pd.concat([allData,new], ignore_index=True)\n",
    "    print(xp.__name__,np.mean(repeat), \"seconds\")\n",
    "    #print(np.allclose(cupy_res.data,numpy_res.data,atol=0.0000001))\n",
    "try:\n",
    "    previous = pd.read_csv(csvpath)\n",
    "    previous = pd.concat([previous,allData])\n",
    "except FileNotFoundError:\n",
    "    previous = allData\n",
    "previous.to_csv(csvpath, index=False)"
   ]
  },
  {
   "cell_type": "code",
   "execution_count": null,
   "id": "1c1fdf44-4cba-4a10-8795-8e9297b0b14d",
   "metadata": {},
   "outputs": [],
   "source": [
    "plot(allData,\"Test_actual_saturation_vapor_pressure_ported_compute\")"
   ]
  },
  {
   "cell_type": "markdown",
   "id": "4970184b-f441-4b3e-8d4a-acd8d0f9a09e",
   "metadata": {
    "tags": []
   },
   "source": [
    "#### Validation"
   ]
  },
  {
   "cell_type": "code",
   "execution_count": null,
   "id": "834fa41a-d9a8-4671-a851-4371003707c0",
   "metadata": {},
   "outputs": [],
   "source": [
    "#validation \n",
    "for i in range(len(numpy_results)):\n",
    "    test_validation(cupy_results[i].data,numpy_results[i].data)"
   ]
  }
 ],
 "metadata": {
  "kernelspec": {
   "display_name": "Python [conda env:geocat]",
   "language": "python",
   "name": "conda-env-geocat-py"
  },
  "language_info": {
   "codemirror_mode": {
    "name": "ipython",
    "version": 3
   },
   "file_extension": ".py",
   "mimetype": "text/x-python",
   "name": "python",
   "nbconvert_exporter": "python",
   "pygments_lexer": "ipython3",
   "version": "3.10.4"
  }
 },
 "nbformat": 4,
 "nbformat_minor": 5
}
