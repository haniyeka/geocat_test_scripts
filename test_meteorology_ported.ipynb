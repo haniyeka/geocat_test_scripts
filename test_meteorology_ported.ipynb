{
 "cells": [
  {
   "cell_type": "code",
   "execution_count": 1,
   "id": "2fdf765e-36ac-4dd6-a450-4bbda8900b51",
   "metadata": {},
   "outputs": [],
   "source": [
    "import time\n",
    "import unittest\n",
    "from test.test_meteorology import Test_relhum\n",
    "\n",
    "import cupy as cp\n",
    "import dask\n",
    "import numpy as np\n",
    "import pandas as pd\n",
    "import src.geocat.comp.meteorology as geo\n",
    "import xarray as xr\n",
    "xp = np\n",
    "p_def = xp.random.uniform(low=2000,high=100800,size=10**6)\n",
    "t_def = xp.random.uniform(low=194.65,high=302.45,size=10**6)\n",
    "q_def = xp.random.uniform(low=0,high=0.02038,size=10**6)"
   ]
  },
  {
   "cell_type": "code",
   "execution_count": 2,
   "id": "5973898e-0874-421f-aa6b-4ac75af9811b",
   "metadata": {},
   "outputs": [
    {
     "name": "stderr",
     "output_type": "stream",
     "text": [
      "2022-06-28 10:49:31,678 - distributed.diskutils - INFO - Found stale lock file and directory '/glade/u/home/hkashgar/geocat-comp/dask-worker-space/worker-c1brgcfz', purging\n"
     ]
    }
   ],
   "source": [
    "import dask.distributed as dd\n",
    "client = dd.Client()"
   ]
  },
  {
   "cell_type": "code",
   "execution_count": 3,
   "id": "72bc96d6-d588-4c50-b29b-d1dea4f73213",
   "metadata": {},
   "outputs": [
    {
     "data": {
      "text/html": [
       "<div>\n",
       "    <div style=\"width: 24px; height: 24px; background-color: #e1e1e1; border: 3px solid #9D9D9D; border-radius: 5px; position: absolute;\"> </div>\n",
       "    <div style=\"margin-left: 48px;\">\n",
       "        <h3 style=\"margin-bottom: 0px;\">Client</h3>\n",
       "        <p style=\"color: #9D9D9D; margin-bottom: 0px;\">Client-47c7871d-f702-11ec-a693-0cc47a88156a</p>\n",
       "        <table style=\"width: 100%; text-align: left;\">\n",
       "\n",
       "        <tr>\n",
       "        \n",
       "            <td style=\"text-align: left;\"><strong>Connection method:</strong> Cluster object</td>\n",
       "            <td style=\"text-align: left;\"><strong>Cluster type:</strong> distributed.LocalCluster</td>\n",
       "        \n",
       "        </tr>\n",
       "\n",
       "        \n",
       "            <tr>\n",
       "                <td style=\"text-align: left;\">\n",
       "                    <strong>Dashboard: </strong> <a href=\"https://jupyterhub.hpc.ucar.edu/stable/user/hkashgar/proxy/8787/status\" target=\"_blank\">https://jupyterhub.hpc.ucar.edu/stable/user/hkashgar/proxy/8787/status</a>\n",
       "                </td>\n",
       "                <td style=\"text-align: left;\"></td>\n",
       "            </tr>\n",
       "        \n",
       "\n",
       "        </table>\n",
       "\n",
       "        \n",
       "            <details>\n",
       "            <summary style=\"margin-bottom: 20px;\"><h3 style=\"display: inline;\">Cluster Info</h3></summary>\n",
       "            <div class=\"jp-RenderedHTMLCommon jp-RenderedHTML jp-mod-trusted jp-OutputArea-output\">\n",
       "    <div style=\"width: 24px; height: 24px; background-color: #e1e1e1; border: 3px solid #9D9D9D; border-radius: 5px; position: absolute;\">\n",
       "    </div>\n",
       "    <div style=\"margin-left: 48px;\">\n",
       "        <h3 style=\"margin-bottom: 0px; margin-top: 0px;\">LocalCluster</h3>\n",
       "        <p style=\"color: #9D9D9D; margin-bottom: 0px;\">4cf25a9d</p>\n",
       "        <table style=\"width: 100%; text-align: left;\">\n",
       "            <tr>\n",
       "                <td style=\"text-align: left;\">\n",
       "                    <strong>Dashboard:</strong> <a href=\"https://jupyterhub.hpc.ucar.edu/stable/user/hkashgar/proxy/8787/status\" target=\"_blank\">https://jupyterhub.hpc.ucar.edu/stable/user/hkashgar/proxy/8787/status</a>\n",
       "                </td>\n",
       "                <td style=\"text-align: left;\">\n",
       "                    <strong>Workers:</strong> 1\n",
       "                </td>\n",
       "            </tr>\n",
       "            <tr>\n",
       "                <td style=\"text-align: left;\">\n",
       "                    <strong>Total threads:</strong> 1\n",
       "                </td>\n",
       "                <td style=\"text-align: left;\">\n",
       "                    <strong>Total memory:</strong> 20.00 GiB\n",
       "                </td>\n",
       "            </tr>\n",
       "            \n",
       "            <tr>\n",
       "    <td style=\"text-align: left;\"><strong>Status:</strong> running</td>\n",
       "    <td style=\"text-align: left;\"><strong>Using processes:</strong> True</td>\n",
       "</tr>\n",
       "\n",
       "            \n",
       "        </table>\n",
       "\n",
       "        <details>\n",
       "            <summary style=\"margin-bottom: 20px;\">\n",
       "                <h3 style=\"display: inline;\">Scheduler Info</h3>\n",
       "            </summary>\n",
       "\n",
       "            <div style=\"\">\n",
       "    <div>\n",
       "        <div style=\"width: 24px; height: 24px; background-color: #FFF7E5; border: 3px solid #FF6132; border-radius: 5px; position: absolute;\"> </div>\n",
       "        <div style=\"margin-left: 48px;\">\n",
       "            <h3 style=\"margin-bottom: 0px;\">Scheduler</h3>\n",
       "            <p style=\"color: #9D9D9D; margin-bottom: 0px;\">Scheduler-05cb378c-5d5f-4452-8967-95591d49fd8f</p>\n",
       "            <table style=\"width: 100%; text-align: left;\">\n",
       "                <tr>\n",
       "                    <td style=\"text-align: left;\">\n",
       "                        <strong>Comm:</strong> tcp://127.0.0.1:42672\n",
       "                    </td>\n",
       "                    <td style=\"text-align: left;\">\n",
       "                        <strong>Workers:</strong> 1\n",
       "                    </td>\n",
       "                </tr>\n",
       "                <tr>\n",
       "                    <td style=\"text-align: left;\">\n",
       "                        <strong>Dashboard:</strong> <a href=\"https://jupyterhub.hpc.ucar.edu/stable/user/hkashgar/proxy/8787/status\" target=\"_blank\">https://jupyterhub.hpc.ucar.edu/stable/user/hkashgar/proxy/8787/status</a>\n",
       "                    </td>\n",
       "                    <td style=\"text-align: left;\">\n",
       "                        <strong>Total threads:</strong> 1\n",
       "                    </td>\n",
       "                </tr>\n",
       "                <tr>\n",
       "                    <td style=\"text-align: left;\">\n",
       "                        <strong>Started:</strong> Just now\n",
       "                    </td>\n",
       "                    <td style=\"text-align: left;\">\n",
       "                        <strong>Total memory:</strong> 20.00 GiB\n",
       "                    </td>\n",
       "                </tr>\n",
       "            </table>\n",
       "        </div>\n",
       "    </div>\n",
       "\n",
       "    <details style=\"margin-left: 48px;\">\n",
       "        <summary style=\"margin-bottom: 20px;\">\n",
       "            <h3 style=\"display: inline;\">Workers</h3>\n",
       "        </summary>\n",
       "\n",
       "        \n",
       "        <div style=\"margin-bottom: 20px;\">\n",
       "            <div style=\"width: 24px; height: 24px; background-color: #DBF5FF; border: 3px solid #4CC9FF; border-radius: 5px; position: absolute;\"> </div>\n",
       "            <div style=\"margin-left: 48px;\">\n",
       "            <details>\n",
       "                <summary>\n",
       "                    <h4 style=\"margin-bottom: 0px; display: inline;\">Worker: 0</h4>\n",
       "                </summary>\n",
       "                <table style=\"width: 100%; text-align: left;\">\n",
       "                    <tr>\n",
       "                        <td style=\"text-align: left;\">\n",
       "                            <strong>Comm: </strong> tcp://127.0.0.1:42854\n",
       "                        </td>\n",
       "                        <td style=\"text-align: left;\">\n",
       "                            <strong>Total threads: </strong> 1\n",
       "                        </td>\n",
       "                    </tr>\n",
       "                    <tr>\n",
       "                        <td style=\"text-align: left;\">\n",
       "                            <strong>Dashboard: </strong> <a href=\"https://jupyterhub.hpc.ucar.edu/stable/user/hkashgar/proxy/33283/status\" target=\"_blank\">https://jupyterhub.hpc.ucar.edu/stable/user/hkashgar/proxy/33283/status</a>\n",
       "                        </td>\n",
       "                        <td style=\"text-align: left;\">\n",
       "                            <strong>Memory: </strong> 20.00 GiB\n",
       "                        </td>\n",
       "                    </tr>\n",
       "                    <tr>\n",
       "                        <td style=\"text-align: left;\">\n",
       "                            <strong>Nanny: </strong> tcp://127.0.0.1:44004\n",
       "                        </td>\n",
       "                        <td style=\"text-align: left;\"></td>\n",
       "                    </tr>\n",
       "                    <tr>\n",
       "                        <td colspan=\"2\" style=\"text-align: left;\">\n",
       "                            <strong>Local directory: </strong> /glade/u/home/hkashgar/geocat-comp/dask-worker-space/worker-r7z4qfwy\n",
       "                        </td>\n",
       "                    </tr>\n",
       "\n",
       "                    \n",
       "                    <tr>\n",
       "                        <td style=\"text-align: left;\">\n",
       "                            <strong>GPU: </strong>Tesla V100-SXM2-32GB\n",
       "                        </td>\n",
       "                        <td style=\"text-align: left;\">\n",
       "                            <strong>GPU memory: </strong> 32.00 GiB\n",
       "                        </td>\n",
       "                    </tr>\n",
       "                    \n",
       "\n",
       "                    \n",
       "\n",
       "                </table>\n",
       "            </details>\n",
       "            </div>\n",
       "        </div>\n",
       "        \n",
       "\n",
       "    </details>\n",
       "</div>\n",
       "\n",
       "        </details>\n",
       "    </div>\n",
       "</div>\n",
       "            </details>\n",
       "        \n",
       "\n",
       "    </div>\n",
       "</div>"
      ],
      "text/plain": [
       "<Client: 'tcp://127.0.0.1:42672' processes=1 threads=1, memory=20.00 GiB>"
      ]
     },
     "execution_count": 3,
     "metadata": {},
     "output_type": "execute_result"
    }
   ],
   "source": [
    "client"
   ]
  },
  {
   "cell_type": "markdown",
   "id": "c4f57ff7-fb58-43f3-be12-61af00641488",
   "metadata": {},
   "source": [
    "## Testing Numpy input and CPU"
   ]
  },
  {
   "cell_type": "code",
   "execution_count": 4,
   "id": "8d383dec-7760-4e14-bdc5-3fd881b00809",
   "metadata": {},
   "outputs": [
    {
     "name": "stdout",
     "output_type": "stream",
     "text": [
      "step 1: conversion:\n",
      "5.9604644775390625e-06\n",
      "step 2: clip\n",
      "0.0021424293518066406\n",
      "step 3: it\n",
      "0.005689382553100586\n",
      "step 4: t2\n",
      "0.0012912750244140625\n",
      "step 5: es\n",
      "0.019776344299316406\n",
      "step 6: rh\n",
      "0.005697727203369141\n",
      "step 7: rh\n",
      "0.0008924007415771484\n"
     ]
    }
   ],
   "source": [
    "rh_gt_2 = geo.relhum(t_def, q_def, p_def, use_gpu = False)"
   ]
  },
  {
   "cell_type": "markdown",
   "id": "c82fbf02-f23f-44f1-a917-b276b32036da",
   "metadata": {},
   "source": [
    "## Testing Numpy input and GPU"
   ]
  },
  {
   "cell_type": "code",
   "execution_count": 5,
   "id": "d604910b-524e-4f82-94ca-216c231f01eb",
   "metadata": {},
   "outputs": [
    {
     "name": "stdout",
     "output_type": "stream",
     "text": [
      "step 1: conversion:\n",
      "0.020243406295776367\n",
      "step 2: clip\n",
      "0.10709118843078613\n",
      "step 3: it\n",
      "0.003403902053833008\n",
      "step 4: t2\n",
      "0.0008230209350585938\n",
      "step 5: es\n",
      "0.005720853805541992\n",
      "step 6: rh\n",
      "0.001428365707397461\n",
      "step 7: rh\n",
      "7.414817810058594e-05\n"
     ]
    }
   ],
   "source": [
    "rh_gt_2 = geo.relhum(t_def, q_def, p_def, use_gpu = True)"
   ]
  },
  {
   "cell_type": "markdown",
   "id": "14a4fd4c-2b40-47aa-a090-6ce513e4b420",
   "metadata": {},
   "source": [
    "## Testing Xarray input and CPU"
   ]
  },
  {
   "cell_type": "code",
   "execution_count": 6,
   "id": "42547a9d-22f4-41b3-8dd5-6d5b0d360e4c",
   "metadata": {},
   "outputs": [
    {
     "name": "stdout",
     "output_type": "stream",
     "text": [
      "step 1: conversion:\n",
      "1.6689300537109375e-06\n",
      "step 2: clip\n",
      "0.0036063194274902344\n",
      "step 3: it\n",
      "0.00741124153137207\n",
      "step 4: t2\n",
      "0.001668691635131836\n",
      "step 5: es\n",
      "0.23754167556762695\n",
      "step 6: rh\n",
      "0.03779482841491699\n",
      "step 7: rh\n",
      "0.0008211135864257812\n"
     ]
    }
   ],
   "source": [
    "p = xr.DataArray(p_def)\n",
    "t = xr.DataArray(t_def)\n",
    "q = xr.DataArray(q_def)\n",
    "a = geo.relhum(t, q, p, use_gpu = False)"
   ]
  },
  {
   "cell_type": "markdown",
   "id": "25d892e2-66a7-42e6-8054-909d510ce5dc",
   "metadata": {},
   "source": [
    "## Testing Xarray input and GPU"
   ]
  },
  {
   "cell_type": "code",
   "execution_count": 7,
   "id": "7a507eef-4dbf-4ef3-8099-e78b0194df09",
   "metadata": {},
   "outputs": [
    {
     "name": "stdout",
     "output_type": "stream",
     "text": [
      "step 1: conversion:\n",
      "0.005831241607666016\n",
      "step 2: clip\n",
      "0.0006158351898193359\n",
      "step 3: it\n",
      "0.0001316070556640625\n",
      "step 4: t2\n",
      "5.4836273193359375e-05\n",
      "step 5: es\n",
      "0.17171478271484375\n",
      "step 6: rh\n",
      "0.00488591194152832\n",
      "step 7: rh\n",
      "0.0008091926574707031\n"
     ]
    }
   ],
   "source": [
    "p = xr.DataArray(p_def)\n",
    "t = xr.DataArray(t_def)\n",
    "q = xr.DataArray(q_def)\n",
    "a = geo.relhum(t, q, p, use_gpu = True)"
   ]
  },
  {
   "cell_type": "markdown",
   "id": "4524bdcc-e83c-4482-979b-1abf1277ac74",
   "metadata": {},
   "source": [
    "## Testing Dask input with CPU"
   ]
  },
  {
   "cell_type": "code",
   "execution_count": 8,
   "id": "a8a1e244-71a8-4812-a8f5-0d3c3aaebb8b",
   "metadata": {},
   "outputs": [
    {
     "name": "stdout",
     "output_type": "stream",
     "text": [
      "step 1: conversion:\n",
      "8.058547973632812e-05\n",
      "step 2: clip\n",
      "0.017906665802001953\n",
      "step 3: it\n",
      "0.06217646598815918\n",
      "step 4: t2\n",
      "0.018827199935913086\n",
      "step 5: es\n",
      "0.30895113945007324\n",
      "step 6: rh\n",
      "0.11308002471923828\n",
      "step 7: rh\n",
      "0.019645214080810547\n"
     ]
    }
   ],
   "source": [
    "p = xr.DataArray(p_def).chunk(10)\n",
    "t = xr.DataArray(t_def).chunk(10)\n",
    "q = xr.DataArray(q_def).chunk(10)\n",
    "a = geo.relhum(t, q, p, use_gpu = False)"
   ]
  },
  {
   "cell_type": "markdown",
   "id": "08135d44-53ff-4c5a-b1f5-6d437510d2fd",
   "metadata": {},
   "source": [
    "## Testing Dask input with GPU"
   ]
  },
  {
   "cell_type": "code",
   "execution_count": 9,
   "id": "a6a0220d-520d-45c8-8db3-fc9a44ea136c",
   "metadata": {},
   "outputs": [
    {
     "name": "stdout",
     "output_type": "stream",
     "text": [
      "step 1: conversion:\n",
      "0.050879478454589844\n",
      "step 2: clip\n",
      "0.019103050231933594\n",
      "step 3: it\n",
      "0.03528285026550293\n",
      "step 4: t2\n",
      "0.020735740661621094\n",
      "step 5: es\n",
      "0.24248147010803223\n",
      "step 6: rh\n",
      "0.12958788871765137\n",
      "step 7: rh\n",
      "0.04177594184875488\n"
     ]
    }
   ],
   "source": [
    "p = xr.DataArray(p_def).chunk(10)\n",
    "t = xr.DataArray(t_def).chunk(10)\n",
    "q = xr.DataArray(q_def).chunk(10)\n",
    "a = geo.relhum(t, q, p, use_gpu = True)"
   ]
  },
  {
   "cell_type": "code",
   "execution_count": 10,
   "id": "79a4e007-e7a5-423c-9f8d-69fccbf109a5",
   "metadata": {},
   "outputs": [
    {
     "data": {
      "text/plain": [
       "xarray.core.dataarray.DataArray"
      ]
     },
     "execution_count": 10,
     "metadata": {},
     "output_type": "execute_result"
    }
   ],
   "source": [
    "maxtemp = 375.16\n",
    "mintemp = 173.16\n",
    "t = xp.random.uniform(low=194.65,high=302.45,size=10**3)\n",
    "t = xr.DataArray(cp.asarray(t)).chunk(10)\n",
    "# replace values of t above and below max and min values for temperature\n",
    "type(t)"
   ]
  },
  {
   "cell_type": "markdown",
   "id": "3acc4745-d762-4eb4-b5ef-4dcb31ad0671",
   "metadata": {},
   "source": [
    "## Unittests with CPU!"
   ]
  },
  {
   "cell_type": "code",
   "execution_count": null,
   "id": "bed32a55-c85c-4fa7-bd45-3ff4395a0cb3",
   "metadata": {},
   "outputs": [],
   "source": [
    "test = Test_relhum()\n",
    "\n",
    "test.setUpClass()\n",
    "test.test_float_input(use_gpu = False)\n",
    "test.test_list_input(use_gpu = False)\n",
    "test.test_numpy_input(use_gpu = False)\n",
    "test.test_dims_error(use_gpu = False)\n",
    "test.test_xarray_type_error(use_gpu = False)\n",
    "test.test_dask_compute(use_gpu = False)\n",
    "test.test_dask_lazy(use_gpu = False)"
   ]
  },
  {
   "cell_type": "markdown",
   "id": "833e46b4-5d32-4ee4-b24c-dd4d90d57b20",
   "metadata": {},
   "source": [
    "## Unittests with GPU"
   ]
  },
  {
   "cell_type": "code",
   "execution_count": null,
   "id": "0c907e70-e181-4328-8083-7ac9ab53e734",
   "metadata": {},
   "outputs": [],
   "source": [
    "test = Test_relhum()\n",
    "\n",
    "test.setUpClass()\n",
    "test.test_float_input(use_gpu = True)\n",
    "test.test_list_input(use_gpu = True)\n",
    "test.test_numpy_input(use_gpu = True)\n",
    "test.test_dims_error(use_gpu = True)\n",
    "test.test_xarray_type_error(use_gpu = True)\n",
    "test.test_dask_compute(use_gpu = True)\n",
    "test.test_dask_lazy(use_gpu = True)"
   ]
  },
  {
   "cell_type": "markdown",
   "id": "89402be5-a57e-4037-a487-e3523d2ae4ff",
   "metadata": {},
   "source": [
    "## Benchmark Results for different Array Sizes"
   ]
  },
  {
   "cell_type": "code",
   "execution_count": 12,
   "id": "1738f02c-ebb9-4fcd-a18b-45313a968443",
   "metadata": {},
   "outputs": [],
   "source": [
    "def test_numpy_input(use_gpu):\n",
    "    p = np.asarray(p_def)\n",
    "    t = np.asarray(t_def)\n",
    "    q = np.asarray(q_def)\n",
    "    \n",
    "    assert xp.allclose(geo.relhum(t, q, p,use_gpu), rh_gt_2, atol=0.1)"
   ]
  },
  {
   "cell_type": "code",
   "execution_count": null,
   "id": "864afb6b-31c7-4f01-90ad-806fc289245b",
   "metadata": {},
   "outputs": [],
   "source": [
    "#Test_relhum main body\n",
    "Routine = \"Relhum\"\n",
    "print(Routine)\n",
    "allData = pd.DataFrame()\n",
    "#For different Array sizes\n",
    "for i in range(1,8):\n",
    "    ArraySize = 10**i\n",
    "    print(\"Array size: \", ArraySize)\n",
    "    #for numpy and cupy both\n",
    "    for xp in [np,cp]:\n",
    "        #calculation will be repeated 10 time to get the less biased performance results\n",
    "        repeat = np.zeros([10])\n",
    "        repsize = 10\n",
    "        for rep in range(0,repsize):\n",
    "            #create different sizes of arrays\n",
    "            p_def = np.random.uniform(low=2000,high=100800,size=10**i)\n",
    "            t_def = np.random.uniform(low=194.65,high=302.45,size=10**i)\n",
    "            q_def = np.random.uniform(low=0,high=0.02038,size=10**i)\n",
    "            if(xp == cp):\n",
    "                geo.relhum(t_def, q_def, p_def,True)\n",
    "                cp.cuda.runtime.deviceSynchronize()\n",
    "                time1 = time.time()\n",
    "                geo.relhum(t_def, q_def, p_def,True)\n",
    "                cp.cuda.runtime.deviceSynchronize()\n",
    "                time2 = time.time()\n",
    "                repeat[rep] = time2-time1\n",
    "            else:\n",
    "                time1 = time.time()\n",
    "                geo.relhum(t_def, q_def,p_def,False)\n",
    "                time2 = time.time()\n",
    "                repeat[rep] = time2-time1\n",
    "        #save times\n",
    "        data = {'Routine': np.repeat(Routine, repsize),\n",
    "                'Approach': np.repeat(xp.__name__ , repsize),\n",
    "                'ArraySize': np.repeat(ArraySize , repsize),\n",
    "                'iteration' : np.arange(1,repsize+1),\n",
    "                'Runtime(s)': repeat}\n",
    "        new = pd.DataFrame(data)\n",
    "        allData = pd.concat([allData,new], ignore_index=True)\n",
    "        print(xp.__name__,np.mean(repeat), \"seconds\")"
   ]
  },
  {
   "cell_type": "markdown",
   "id": "adb53418-ba38-451d-81d7-8bfa93fa5830",
   "metadata": {},
   "source": [
    "## Plotting"
   ]
  },
  {
   "cell_type": "code",
   "execution_count": null,
   "id": "d48da88f-2a8a-4683-8b68-0ae7faaea2ee",
   "metadata": {},
   "outputs": [],
   "source": [
    "import matplotlib.pyplot as plt\n",
    "import numpy as np\n",
    "\n",
    "arraysizes = np.unique(allData['ArraySize'])\n",
    "sd_numpy = np.zeros(len(arraysizes))\n",
    "sd_cupy = np.zeros(len(arraysizes))\n",
    "y_numpy = np.zeros(len(arraysizes))\n",
    "y_cupy = np.zeros(len(arraysizes))\n",
    "\n",
    "for i in range(0,len(arraysizes)):\n",
    "    cupydata = allData.loc[(allData['ArraySize'] == arraysizes[i]) & (allData['Approach'] == 'cupy')]\n",
    "    numpydata = allData.loc[(allData['ArraySize'] == arraysizes[i]) & (allData['Approach'] == 'numpy')]\n",
    "    y_cupy[i] = np.mean(cupydata['Runtime(s)'])\n",
    "    y_numpy[i] = np.mean(numpydata['Runtime(s)'])\n",
    "    sd_cupy[i] = np.std(cupydata['Runtime(s)'])\n",
    "    sd_numpy[i] = np.std(numpydata['Runtime(s)'])"
   ]
  },
  {
   "cell_type": "code",
   "execution_count": null,
   "id": "b6f90b91-db38-4fac-80f6-4ed11dbdb4f0",
   "metadata": {},
   "outputs": [],
   "source": [
    "fig, ax = plt.subplots(figsize=(9, 6))\n",
    "ax.errorbar(arraysizes, y_numpy, yerr=sd_numpy, fmt='-o')\n",
    "ax.errorbar(arraysizes, y_cupy, yerr=sd_cupy, fmt='-o')\n",
    "ax.plot(arraysizes, y_numpy, label='numpy',color=\"steelblue\")\n",
    "ax.plot(arraysizes, y_cupy, label='cupy',color=\"darkorange\")  # Plot more data on the axes...\n",
    "ax.legend();  # Add a legend.\n",
    "ax.set_xlabel('ArraySize')  # Add an x-label to the axes.\n",
    "ax.set_ylabel('Runtime(s)')  # Add a y-label to the axes.\n",
    "ax.set_title((\"Test_relhum\"))\n",
    "ax.set_xscale('log')\n",
    "ax.set_yscale('log')\n",
    "#plt.savefig(\"Test_relhum.jpg\",dpi=fig.dpi)"
   ]
  },
  {
   "cell_type": "code",
   "execution_count": null,
   "id": "593d8229-516a-41a2-8d3b-08ab551ee8a2",
   "metadata": {},
   "outputs": [],
   "source": [
    "import dask.distributed as dd\n",
    "\n",
    "client = dd.Client()"
   ]
  },
  {
   "cell_type": "code",
   "execution_count": null,
   "id": "e2774935-dfdc-4acf-bb9c-d555630b6a78",
   "metadata": {},
   "outputs": [],
   "source": [
    "client"
   ]
  },
  {
   "cell_type": "markdown",
   "id": "f5bcd16c-5c6c-4cad-9e38-73b9f26cbcd9",
   "metadata": {},
   "source": [
    "## Benchmark Results for different ArraySizes Xarray"
   ]
  },
  {
   "cell_type": "code",
   "execution_count": null,
   "id": "131f990f-055b-4513-867d-1e094efe7e99",
   "metadata": {},
   "outputs": [],
   "source": [
    "#Test_relhum main body\n",
    "Routine = \"Relhum\"\n",
    "print(Routine)\n",
    "allData = pd.DataFrame()\n",
    "#For different Array sizes\n",
    "for i in range(1,8):\n",
    "    ArraySize = 10**i\n",
    "    print(\"Array size: \", ArraySize)\n",
    "    #for numpy and cupy both\n",
    "    for xp in [np,cp]:\n",
    "        #calculation will be repeated 10 time to get the less biased performance results\n",
    "        repeat = np.zeros([10])\n",
    "        repsize = 10\n",
    "        for rep in range(0,repsize):\n",
    "            #create different sizes of arrays\n",
    "            p_def = xr.DataArray(np.random.uniform(low=2000,high=100800,size=10**i))\n",
    "            t_def = xr.DataArray(np.random.uniform(low=194.65,high=302.45,size=10**i))\n",
    "            q_def = xr.DataArray(np.random.uniform(low=0,high=0.02038,size=10**i))\n",
    "            if(xp == cp):\n",
    "                geo.relhum(t_def, q_def, p_def,True)\n",
    "                cp.cuda.runtime.deviceSynchronize()\n",
    "                time1 = time.time()\n",
    "                geo.relhum(t_def, q_def, p_def,True)\n",
    "                cp.cuda.runtime.deviceSynchronize()\n",
    "                time2 = time.time()\n",
    "                repeat[rep] = time2-time1\n",
    "            else:\n",
    "                time1 = time.time()\n",
    "                geo.relhum(t_def, q_def,p_def,False)\n",
    "                time2 = time.time()\n",
    "                repeat[rep] = time2-time1\n",
    "        #save times\n",
    "        data = {'Routine': np.repeat(Routine, repsize),\n",
    "                'Approach': np.repeat(xp.__name__ , repsize),\n",
    "                'ArraySize': np.repeat(ArraySize , repsize),\n",
    "                'iteration' : np.arange(1,repsize+1),\n",
    "                'Runtime(s)': repeat}\n",
    "        new = pd.DataFrame(data)\n",
    "        allData = pd.concat([allData,new], ignore_index=True)\n",
    "        print(xp.__name__,np.mean(repeat), \"seconds\")"
   ]
  },
  {
   "cell_type": "code",
   "execution_count": null,
   "id": "a71296bd-7005-4099-9704-2aff49831259",
   "metadata": {},
   "outputs": [],
   "source": [
    "#Test_relhum main body\n",
    "Routine = \"Relhum\"\n",
    "print(Routine)\n",
    "allData = pd.DataFrame()\n",
    "#For different Array sizes\n",
    "for i in range(1,8):\n",
    "    ArraySize = 10**i\n",
    "    print(\"Array size: \", ArraySize)\n",
    "    #for numpy and cupy both\n",
    "    for xp in [np,cp]:\n",
    "        #calculation will be repeated 10 time to get the less biased performance results\n",
    "        repeat = np.zeros([10])\n",
    "        repsize = 10\n",
    "        for rep in range(0,repsize):\n",
    "            #create different sizes of arrays\n",
    "            p_def = xr.DataArray(cp.random.uniform(low=2000,high=100800,size=10**i))\n",
    "            t_def = xr.DataArray(cp.random.uniform(low=194.65,high=302.45,size=10**i))\n",
    "            q_def = xr.DataArray(cp.random.uniform(low=0,high=0.02038,size=10**i))\n",
    "            if(xp == cp):\n",
    "                geo.relhum(t_def, q_def, p_def,True)\n",
    "                cp.cuda.runtime.deviceSynchronize()\n",
    "                time1 = time.time()\n",
    "                geo.relhum(t_def, q_def, p_def,True)\n",
    "                cp.cuda.runtime.deviceSynchronize()\n",
    "                time2 = time.time()\n",
    "                repeat[rep] = time2-time1\n",
    "            else:\n",
    "                time1 = time.time()\n",
    "                geo.relhum(t_def, q_def,p_def,False)\n",
    "                time2 = time.time()\n",
    "                repeat[rep] = time2-time1\n",
    "        #save times\n",
    "        data = {'Routine': np.repeat(Routine, repsize),\n",
    "                'Approach': np.repeat(xp.__name__ , repsize),\n",
    "                'ArraySize': np.repeat(ArraySize , repsize),\n",
    "                'iteration' : np.arange(1,repsize+1),\n",
    "                'Runtime(s)': repeat}\n",
    "        new = pd.DataFrame(data)\n",
    "        allData = pd.concat([allData,new], ignore_index=True)\n",
    "        print(xp.__name__,np.mean(repeat), \"seconds\")"
   ]
  },
  {
   "cell_type": "code",
   "execution_count": null,
   "id": "78f0a966-0109-486d-bf25-378f6884003e",
   "metadata": {},
   "outputs": [],
   "source": [
    "#Test_relhum main body\n",
    "Routine = \"Relhum\"\n",
    "print(Routine)\n",
    "allData = pd.DataFrame()\n",
    "#For different Array sizes\n",
    "for i in range(1,8):\n",
    "    ArraySize = 10**i\n",
    "    print(\"Array size: \", ArraySize)\n",
    "    #for numpy and cupy both\n",
    "    for xp in [np,cp]:\n",
    "        #calculation will be repeated 10 time to get the less biased performance results\n",
    "        repeat = np.zeros([10])\n",
    "        repsize = 10\n",
    "        for rep in range(0,repsize):\n",
    "            #create different sizes of arrays\n",
    "            p_def = xr.DataArray(np.random.uniform(low=2000,high=100800,size=10**i)).chunk(10)\n",
    "            t_def = xr.DataArray(np.random.uniform(low=194.65,high=302.45,size=10**i)).chunk(10)\n",
    "            q_def = xr.DataArray(np.random.uniform(low=0,high=0.02038,size=10**i)).chunk(10)\n",
    "            if(xp == cp):\n",
    "                geo.relhum(t_def, q_def, p_def,True)\n",
    "                cp.cuda.runtime.deviceSynchronize()\n",
    "                time1 = time.time()\n",
    "                geo.relhum(t_def, q_def, p_def,True)\n",
    "                cp.cuda.runtime.deviceSynchronize()\n",
    "                time2 = time.time()\n",
    "                repeat[rep] = time2-time1\n",
    "            else:\n",
    "                time1 = time.time()\n",
    "                geo.relhum(t_def, q_def,p_def,False)\n",
    "                time2 = time.time()\n",
    "                repeat[rep] = time2-time1\n",
    "        #save times\n",
    "        data = {'Routine': np.repeat(Routine, repsize),\n",
    "                'Approach': np.repeat(xp.__name__ , repsize),\n",
    "                'ArraySize': np.repeat(ArraySize , repsize),\n",
    "                'iteration' : np.arange(1,repsize+1),\n",
    "                'Runtime(s)': repeat}\n",
    "        new = pd.DataFrame(data)\n",
    "        allData = pd.concat([allData,new], ignore_index=True)\n",
    "        print(xp.__name__,np.mean(repeat), \"seconds\")"
   ]
  }
 ],
 "metadata": {
  "kernelspec": {
   "display_name": "Python [conda env:geocat]",
   "language": "python",
   "name": "conda-env-geocat-py"
  },
  "language_info": {
   "codemirror_mode": {
    "name": "ipython",
    "version": 3
   },
   "file_extension": ".py",
   "mimetype": "text/x-python",
   "name": "python",
   "nbconvert_exporter": "python",
   "pygments_lexer": "ipython3",
   "version": "3.10.4"
  }
 },
 "nbformat": 4,
 "nbformat_minor": 5
}
