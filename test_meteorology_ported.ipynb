{
 "cells": [
  {
   "cell_type": "code",
   "execution_count": 1,
   "id": "2fdf765e-36ac-4dd6-a450-4bbda8900b51",
   "metadata": {},
   "outputs": [],
   "source": [
    "import unittest\n",
    "\n",
    "import cupy as cp\n",
    "import xarray as xr\n",
    "\n",
    "import src.geocat.comp.meteorology as geo\n",
    "\n",
    "import numpy as np\n",
    "import time\n",
    "import pandas as pd\n",
    "import cupy as cp\n",
    "from test.test_meteorology import Test_relhum"
   ]
  },
  {
   "cell_type": "markdown",
   "id": "c4f57ff7-fb58-43f3-be12-61af00641488",
   "metadata": {},
   "source": [
    "## Testing Numpy input and CPU"
   ]
  },
  {
   "cell_type": "code",
   "execution_count": 2,
   "id": "8d383dec-7760-4e14-bdc5-3fd881b00809",
   "metadata": {},
   "outputs": [],
   "source": [
    "xp = np\n",
    "p_def = xp.random.uniform(low=2000,high=100800,size=10**3)\n",
    "t_def = xp.random.uniform(low=194.65,high=302.45,size=10**3)\n",
    "q_def = xp.random.uniform(low=0,high=0.02038,size=10**3)\n",
    "rh_gt_2 = geo.relhum(t_def, q_def, p_def, use_gpu = False)"
   ]
  },
  {
   "cell_type": "markdown",
   "id": "c82fbf02-f23f-44f1-a917-b276b32036da",
   "metadata": {},
   "source": [
    "## Testing Numpy input and GPU"
   ]
  },
  {
   "cell_type": "code",
   "execution_count": 3,
   "id": "d604910b-524e-4f82-94ca-216c231f01eb",
   "metadata": {},
   "outputs": [],
   "source": [
    "xp = np\n",
    "p_def = xp.random.uniform(low=2000,high=100800,size=10**3)\n",
    "t_def = xp.random.uniform(low=194.65,high=302.45,size=10**3)\n",
    "q_def = xp.random.uniform(low=0,high=0.02038,size=10**3)\n",
    "rh_gt_2 = geo.relhum(t_def, q_def, p_def, use_gpu = True)"
   ]
  },
  {
   "cell_type": "markdown",
   "id": "4524bdcc-e83c-4482-979b-1abf1277ac74",
   "metadata": {},
   "source": [
    "## Testing Xarray input with CPU"
   ]
  },
  {
   "cell_type": "code",
   "execution_count": 4,
   "id": "a8a1e244-71a8-4812-a8f5-0d3c3aaebb8b",
   "metadata": {},
   "outputs": [],
   "source": [
    "p = xr.DataArray(p_def).chunk(10)\n",
    "t = xr.DataArray(t_def).chunk(10)\n",
    "q = xr.DataArray(q_def).chunk(10)\n",
    "a = geo.relhum(t, q, p, use_gpu = False)"
   ]
  },
  {
   "cell_type": "markdown",
   "id": "08135d44-53ff-4c5a-b1f5-6d437510d2fd",
   "metadata": {},
   "source": [
    "## Testing Xarray input with GPU"
   ]
  },
  {
   "cell_type": "code",
   "execution_count": 5,
   "id": "a6a0220d-520d-45c8-8db3-fc9a44ea136c",
   "metadata": {},
   "outputs": [],
   "source": [
    "p = xr.DataArray(p_def).chunk(10)\n",
    "t = xr.DataArray(t_def).chunk(10)\n",
    "q = xr.DataArray(q_def).chunk(10)\n",
    "a = geo.relhum(t, q, p, use_gpu = True)"
   ]
  },
  {
   "cell_type": "markdown",
   "id": "3acc4745-d762-4eb4-b5ef-4dcb31ad0671",
   "metadata": {},
   "source": [
    "## Unittests with CPU!"
   ]
  },
  {
   "cell_type": "code",
   "execution_count": 6,
   "id": "bed32a55-c85c-4fa7-bd45-3ff4395a0cb3",
   "metadata": {},
   "outputs": [
    {
     "name": "stderr",
     "output_type": "stream",
     "text": [
      "2022-06-23 12:01:59,223 - distributed.diskutils - INFO - Found stale lock file and directory '/glade/u/home/hkashgar/geocat-comp/dask-worker-space/worker-11ni1044', purging\n",
      "2022-06-23 12:01:59,223 - distributed.diskutils - INFO - Found stale lock file and directory '/glade/u/home/hkashgar/geocat-comp/dask-worker-space/worker-3lesz_ee', purging\n"
     ]
    }
   ],
   "source": [
    "test = Test_relhum()\n",
    "\n",
    "test.setUpClass()\n",
    "test.test_float_input(use_gpu = False)\n",
    "test.test_list_input(use_gpu = False)\n",
    "test.test_numpy_input(use_gpu = False)\n",
    "test.test_dims_error(use_gpu = False)\n",
    "test.test_xarray_type_error(use_gpu = False)\n",
    "test.test_dask_compute(use_gpu = False)\n",
    "test.test_dask_lazy(use_gpu = False)"
   ]
  },
  {
   "cell_type": "markdown",
   "id": "833e46b4-5d32-4ee4-b24c-dd4d90d57b20",
   "metadata": {},
   "source": [
    "## Unittests with GPU"
   ]
  },
  {
   "cell_type": "code",
   "execution_count": 7,
   "id": "0c907e70-e181-4328-8083-7ac9ab53e734",
   "metadata": {},
   "outputs": [
    {
     "name": "stderr",
     "output_type": "stream",
     "text": [
      "/glade/work/hkashgar/conda-envs/geocat/lib/python3.10/site-packages/distributed/node.py:177: UserWarning: Port 8787 is already in use.\n",
      "Perhaps you already have a cluster running?\n",
      "Hosting the HTTP server on port 34960 instead\n",
      "  warnings.warn(\n"
     ]
    }
   ],
   "source": [
    "test = Test_relhum()\n",
    "\n",
    "test.setUpClass()\n",
    "test.test_float_input(use_gpu = True)\n",
    "test.test_list_input(use_gpu = True)\n",
    "test.test_numpy_input(use_gpu = True)\n",
    "test.test_dims_error(use_gpu = True)\n",
    "test.test_xarray_type_error(use_gpu = True)\n",
    "test.test_dask_compute(use_gpu = True)\n",
    "test.test_dask_lazy(use_gpu = True)"
   ]
  },
  {
   "cell_type": "markdown",
   "id": "89402be5-a57e-4037-a487-e3523d2ae4ff",
   "metadata": {},
   "source": [
    "## Benchmark Results for different Array Sizes"
   ]
  },
  {
   "cell_type": "code",
   "execution_count": 10,
   "id": "1738f02c-ebb9-4fcd-a18b-45313a968443",
   "metadata": {},
   "outputs": [],
   "source": [
    "def test_numpy_input(use_gpu):\n",
    "    p = np.asarray(p_def)\n",
    "    t = np.asarray(t_def)\n",
    "    q = np.asarray(q_def)\n",
    "    \n",
    "    assert xp.allclose(geo.relhum(t, q, p,use_gpu), rh_gt_2, atol=0.1)"
   ]
  },
  {
   "cell_type": "code",
   "execution_count": 19,
   "id": "864afb6b-31c7-4f01-90ad-806fc289245b",
   "metadata": {},
   "outputs": [
    {
     "name": "stdout",
     "output_type": "stream",
     "text": [
      "Relhum\n",
      "Array size:  10\n",
      "numpy 6.773471832275391e-05 seconds\n",
      "cupy 0.0008260965347290039 seconds\n",
      "Array size:  100\n",
      "numpy 7.314682006835938e-05 seconds\n",
      "cupy 0.0006152153015136719 seconds\n",
      "Array size:  1000\n",
      "numpy 7.710456848144531e-05 seconds\n",
      "cupy 0.0005006790161132812 seconds\n",
      "Array size:  10000\n",
      "numpy 0.00018575191497802735 seconds\n",
      "cupy 0.0005466938018798828 seconds\n",
      "Array size:  100000\n",
      "numpy 0.002039384841918945 seconds\n",
      "cupy 0.0009038209915161133 seconds\n",
      "Array size:  1000000\n",
      "numpy 0.025208568572998045 seconds\n",
      "cupy 0.006637716293334961 seconds\n",
      "Array size:  10000000\n",
      "numpy 0.4949803829193115 seconds\n",
      "cupy 0.05858581066131592 seconds\n"
     ]
    }
   ],
   "source": [
    "#Test_relhum main body\n",
    "Routine = \"Relhum\"\n",
    "print(Routine)\n",
    "allData = pd.DataFrame()\n",
    "#For different Array sizes\n",
    "for i in range(1,8):\n",
    "    ArraySize = 10**i\n",
    "    print(\"Array size: \", ArraySize)\n",
    "    #for numpy and cupy both\n",
    "    for xp in [np,cp]:\n",
    "        #calculation will be repeated 10 time to get the less biased performance results\n",
    "        repeat = np.zeros([10])\n",
    "        repsize = 10\n",
    "        for rep in range(0,repsize):\n",
    "            #create different sizes of arrays\n",
    "            p_def = np.random.uniform(low=2000,high=100800,size=10**i)\n",
    "            t_def = np.random.uniform(low=194.65,high=302.45,size=10**i)\n",
    "            q_def = np.random.uniform(low=0,high=0.02038,size=10**i)\n",
    "            if(xp == cp):\n",
    "                geo.relhum(t_def, q_def, p_def,True)\n",
    "                cp.cuda.runtime.deviceSynchronize()\n",
    "                time1 = time.time()\n",
    "                geo.relhum(t_def, q_def, p_def,True)\n",
    "                cp.cuda.runtime.deviceSynchronize()\n",
    "                time2 = time.time()\n",
    "                repeat[rep] = time2-time1\n",
    "            else:\n",
    "                time1 = time.time()\n",
    "                geo.relhum(t_def, q_def,p_def,False)\n",
    "                time2 = time.time()\n",
    "                repeat[rep] = time2-time1\n",
    "        #save times\n",
    "        data = {'Routine': np.repeat(Routine, repsize),\n",
    "                'Approach': np.repeat(xp.__name__ , repsize),\n",
    "                'ArraySize': np.repeat(ArraySize , repsize),\n",
    "                'iteration' : np.arange(1,repsize+1),\n",
    "                'Runtime(s)': repeat}\n",
    "        new = pd.DataFrame(data)\n",
    "        allData = pd.concat([allData,new], ignore_index=True)\n",
    "        print(xp.__name__,np.mean(repeat), \"seconds\")"
   ]
  },
  {
   "cell_type": "markdown",
   "id": "adb53418-ba38-451d-81d7-8bfa93fa5830",
   "metadata": {},
   "source": [
    "## Plotting"
   ]
  },
  {
   "cell_type": "code",
   "execution_count": 24,
   "id": "d48da88f-2a8a-4683-8b68-0ae7faaea2ee",
   "metadata": {},
   "outputs": [],
   "source": [
    "import matplotlib.pyplot as plt\n",
    "import numpy as np\n",
    "\n",
    "arraysizes = np.unique(allData['ArraySize'])\n",
    "sd_numpy = np.zeros(len(arraysizes))\n",
    "sd_cupy = np.zeros(len(arraysizes))\n",
    "y_numpy = np.zeros(len(arraysizes))\n",
    "y_cupy = np.zeros(len(arraysizes))\n",
    "\n",
    "for i in range(0,len(arraysizes)):\n",
    "    cupydata = allData.loc[(allData['ArraySize'] == arraysizes[i]) & (allData['Approach'] == 'cupy')]\n",
    "    numpydata = allData.loc[(allData['ArraySize'] == arraysizes[i]) & (allData['Approach'] == 'numpy')]\n",
    "    y_cupy[i] = np.mean(cupydata['Runtime(s)'])\n",
    "    y_numpy[i] = np.mean(numpydata['Runtime(s)'])\n",
    "    sd_cupy[i] = np.std(cupydata['Runtime(s)'])\n",
    "    sd_numpy[i] = np.std(numpydata['Runtime(s)'])"
   ]
  },
  {
   "cell_type": "code",
   "execution_count": 25,
   "id": "b6f90b91-db38-4fac-80f6-4ed11dbdb4f0",
   "metadata": {},
   "outputs": [
    {
     "data": {
      "image/png": "[encoded data removed]",
      "text/plain": [
       "<Figure size 648x432 with 1 Axes>"
      ]
     },
     "metadata": {
      "needs_background": "light"
     },
     "output_type": "display_data"
    }
   ],
   "source": [
    "fig, ax = plt.subplots(figsize=(9, 6))\n",
    "ax.errorbar(arraysizes, y_numpy, yerr=sd_numpy, fmt='-o')\n",
    "ax.errorbar(arraysizes, y_cupy, yerr=sd_cupy, fmt='-o')\n",
    "ax.plot(arraysizes, y_numpy, label='numpy',color=\"steelblue\")\n",
    "ax.plot(arraysizes, y_cupy, label='cupy',color=\"darkorange\")  # Plot more data on the axes...\n",
    "ax.legend();  # Add a legend.\n",
    "ax.set_xlabel('ArraySize')  # Add an x-label to the axes.\n",
    "ax.set_ylabel('Runtime(s)')  # Add a y-label to the axes.\n",
    "ax.set_title((\"Test_relhum\"))\n",
    "ax.set_xscale('log')\n",
    "ax.set_yscale('log')\n",
    "#plt.savefig(\"Test_relhum.jpg\",dpi=fig.dpi)"
   ]
  }
 ],
 "metadata": {
  "kernelspec": {
   "display_name": "Python [conda env:geocat]",
   "language": "python",
   "name": "conda-env-geocat-py"
  },
  "language_info": {
   "codemirror_mode": {
    "name": "ipython",
    "version": 3
   },
   "file_extension": ".py",
   "mimetype": "text/x-python",
   "name": "python",
   "nbconvert_exporter": "python",
   "pygments_lexer": "ipython3",
   "version": "3.10.4"
  }
 },
 "nbformat": 4,
 "nbformat_minor": 5
}
