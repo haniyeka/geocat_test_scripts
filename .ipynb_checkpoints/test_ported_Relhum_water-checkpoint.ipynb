{
 "cells": [
  {
   "cell_type": "markdown",
   "id": "01697216-2b36-48e9-86c5-e8aa49cd9265",
   "metadata": {},
   "source": [
    "# Relhum_water and its helper function _relhum_water from meteorology.py\n",
    "This function just accepts NumPy array, list, and float inputs. So, there is no need to port for xarray and dask array; however, it also works with xarray without dask (tested)."
   ]
  },
  {
   "cell_type": "code",
   "execution_count": 1,
   "id": "2fdf765e-36ac-4dd6-a450-4bbda8900b51",
   "metadata": {},
   "outputs": [],
   "source": [
    "import time\n",
    "import unittest\n",
    "from test.test_meteorology import Test_relhum_water\n",
    "\n",
    "import cupy as cp\n",
    "import dask\n",
    "import numpy as npx\n",
    "import pandas as pd\n",
    "import xarray as xr\n",
    "import src.geocat.comp.meteorology as geo\n",
    "csvpath = \"relhum_water_ported_test_numpy.csv\""
   ]
  },
  {
   "cell_type": "markdown",
   "id": "adb53418-ba38-451d-81d7-8bfa93fa5830",
   "metadata": {
    "tags": []
   },
   "source": [
    "## Plotting and Validation"
   ]
  },
  {
   "cell_type": "code",
   "execution_count": 2,
   "id": "d48da88f-2a8a-4683-8b68-0ae7faaea2ee",
   "metadata": {},
   "outputs": [],
   "source": [
    "import matplotlib.pyplot as plt\n",
    "import numpy as np\n",
    "\n",
    "def plot(allData,name):\n",
    "    arraysizes = np.unique(allData['ArraySize'])\n",
    "    sd_numpy = np.zeros(len(arraysizes))\n",
    "    sd_cupy = np.zeros(len(arraysizes))\n",
    "    y_numpy = np.zeros(len(arraysizes))\n",
    "    y_cupy = np.zeros(len(arraysizes))\n",
    "    plt.rcParams.update({'font.size': 20})\n",
    "    for i in range(0,len(arraysizes)):\n",
    "        cupydata = allData.loc[(allData['ArraySize'] == arraysizes[i]) & (allData['Approach'] == 'cupy')]\n",
    "        numpydata = allData.loc[(allData['ArraySize'] == arraysizes[i]) & (allData['Approach'] == 'numpy')]\n",
    "        y_cupy[i] = np.mean(cupydata['Runtime(s)'])\n",
    "        y_numpy[i] = np.mean(numpydata['Runtime(s)'])\n",
    "        sd_cupy[i] = np.std(cupydata['Runtime(s)'])\n",
    "        sd_numpy[i] = np.std(numpydata['Runtime(s)'])\n",
    "    fig, ax = plt.subplots(figsize=(9, 6))\n",
    "    ax.errorbar(arraysizes, y_numpy, yerr=sd_numpy, fmt='-o',label='numpy')\n",
    "    ax.errorbar(arraysizes, y_cupy, yerr=sd_cupy, fmt='-o',label='cupy')\n",
    "    ax.legend();  # Add a legend.\n",
    "    ax.set_xlabel('ArraySize')  # Add an x-label to the axes.\n",
    "    ax.set_ylabel('Runtime(s)')  # Add a y-label to the axes.\n",
    "    ax.set_title((\"Test_relhum_water\"))\n",
    "    ax.set_xscale('log')\n",
    "    ax.set_yscale('log')\n",
    "    plt.savefig(name,dpi=fig.dpi)\n",
    "    \n",
    "def test_validation(res_numpy,res_cupy):\n",
    "    assert np.allclose(res_numpy,res_cupy, atol=0.0000001)"
   ]
  },
  {
   "cell_type": "markdown",
   "id": "fa2a6dce-2862-42fd-b577-fd0d3b57a430",
   "metadata": {},
   "source": [
    "## Initializing Arrays"
   ]
  },
  {
   "cell_type": "code",
   "execution_count": 3,
   "id": "f3103bd5-f76e-4fd8-9531-f1bbccb99aa2",
   "metadata": {},
   "outputs": [],
   "source": [
    "max_power = 8\n",
    "chunksize = 10**5\n",
    "p_def_arrays = []\n",
    "t_def_arrays = []\n",
    "q_def_arrays = []\n",
    "for i in range(1,max_power):\n",
    "    ArraySize = 10**i\n",
    "    p_def_arrays.append(np.random.uniform(low=2000,high=100800,size=10**i))\n",
    "    t_def_arrays.append(np.random.uniform(low=194.65,high=302.45,size=10**i))\n",
    "    q_def_arrays.append(np.random.uniform(low=0,high=0.02038,size=10**i))\n",
    "numpy_results = []\n",
    "cupy_results = []"
   ]
  },
  {
   "cell_type": "markdown",
   "id": "c4f57ff7-fb58-43f3-be12-61af00641488",
   "metadata": {
    "tags": []
   },
   "source": [
    "## Testing Numpy input and CPU"
   ]
  },
  {
   "cell_type": "code",
   "execution_count": 4,
   "id": "8d383dec-7760-4e14-bdc5-3fd881b00809",
   "metadata": {},
   "outputs": [],
   "source": [
    "xp = np\n",
    "for i in range(max_power):\n",
    "    p_def = p_def_arrays[i-1]\n",
    "    q_def = q_def_arrays[i-1]\n",
    "    t_def = t_def_arrays[i-1]\n",
    "    rh_gt_1 = geo.relhum_water(t_def, q_def, p_def, use_gpu = False)"
   ]
  },
  {
   "cell_type": "code",
   "execution_count": 5,
   "id": "de42444c-fa19-49d9-9a28-73aa9beb5095",
   "metadata": {},
   "outputs": [
    {
     "data": {
      "text/plain": [
       "numpy.ndarray"
      ]
     },
     "execution_count": 5,
     "metadata": {},
     "output_type": "execute_result"
    }
   ],
   "source": [
    "type(rh_gt_1)"
   ]
  },
  {
   "cell_type": "markdown",
   "id": "c82fbf02-f23f-44f1-a917-b276b32036da",
   "metadata": {
    "tags": []
   },
   "source": [
    "## Testing Numpy input and GPU"
   ]
  },
  {
   "cell_type": "code",
   "execution_count": 6,
   "id": "d604910b-524e-4f82-94ca-216c231f01eb",
   "metadata": {},
   "outputs": [],
   "source": [
    "for i in range(max_power):\n",
    "    p_def = p_def_arrays[i-1]\n",
    "    q_def = q_def_arrays[i-1]\n",
    "    t_def = t_def_arrays[i-1]\n",
    "    rh_gt_2 = geo.relhum_water(t_def, q_def, p_def, use_gpu = True)"
   ]
  },
  {
   "cell_type": "code",
   "execution_count": 7,
   "id": "29927f0a-75db-4452-9214-ecc87c2936bc",
   "metadata": {},
   "outputs": [
    {
     "data": {
      "text/plain": [
       "cupy._core.core.ndarray"
      ]
     },
     "execution_count": 7,
     "metadata": {},
     "output_type": "execute_result"
    }
   ],
   "source": [
    "type(rh_gt_2)"
   ]
  },
  {
   "cell_type": "markdown",
   "id": "14a4fd4c-2b40-47aa-a090-6ce513e4b420",
   "metadata": {
    "tags": []
   },
   "source": [
    "## Testing Xarray input and CPU"
   ]
  },
  {
   "cell_type": "code",
   "execution_count": 8,
   "id": "42547a9d-22f4-41b3-8dd5-6d5b0d360e4c",
   "metadata": {},
   "outputs": [],
   "source": [
    "import xarray as xr\n",
    "for i in range(max_power):\n",
    "    p_def = p_def_arrays[i-1]\n",
    "    q_def = q_def_arrays[i-1]\n",
    "    t_def = t_def_arrays[i-1]\n",
    "    p = xr.DataArray(p_def)\n",
    "    q = xr.DataArray(q_def)\n",
    "    t = xr.DataArray(t_def)\n",
    "    rh_gt_1 = geo.relhum_water(t, q, p, use_gpu = False).compute()"
   ]
  },
  {
   "cell_type": "code",
   "execution_count": 9,
   "id": "ce4b5e87-ab1e-4afd-a176-b958a8d97930",
   "metadata": {},
   "outputs": [
    {
     "data": {
      "text/plain": [
       "numpy.ndarray"
      ]
     },
     "execution_count": 9,
     "metadata": {},
     "output_type": "execute_result"
    }
   ],
   "source": [
    "type(rh_gt_1.data)"
   ]
  },
  {
   "cell_type": "markdown",
   "id": "25d892e2-66a7-42e6-8054-909d510ce5dc",
   "metadata": {
    "tags": []
   },
   "source": [
    "## Testing Xarray input and GPU"
   ]
  },
  {
   "cell_type": "code",
   "execution_count": 10,
   "id": "7a507eef-4dbf-4ef3-8099-e78b0194df09",
   "metadata": {},
   "outputs": [],
   "source": [
    "for i in range(2):\n",
    "    p_def = p_def_arrays[i-1]\n",
    "    q_def = q_def_arrays[i-1]\n",
    "    t_def = t_def_arrays[i-1]\n",
    "    p = xr.DataArray(p_def)\n",
    "    q = xr.DataArray(q_def)\n",
    "    t = xr.DataArray(t_def)\n",
    "    rh_gt_2 = geo.relhum_water(t, q, p, use_gpu = True).compute()"
   ]
  },
  {
   "cell_type": "code",
   "execution_count": 11,
   "id": "7de123c3-8c05-49de-a101-357009b74d3c",
   "metadata": {},
   "outputs": [
    {
     "data": {
      "text/plain": [
       "<CUDA Device 0>"
      ]
     },
     "execution_count": 11,
     "metadata": {},
     "output_type": "execute_result"
    }
   ],
   "source": [
    "rh_gt_2.data.device"
   ]
  },
  {
   "cell_type": "markdown",
   "id": "3acc4745-d762-4eb4-b5ef-4dcb31ad0671",
   "metadata": {
    "tags": []
   },
   "source": [
    "## Unittests with CPU!"
   ]
  },
  {
   "cell_type": "code",
   "execution_count": 2,
   "id": "bed32a55-c85c-4fa7-bd45-3ff4395a0cb3",
   "metadata": {},
   "outputs": [],
   "source": [
    "test = Test_relhum_water()\n",
    "\n",
    "test.test_float_input(use_gpu = False)"
   ]
  },
  {
   "cell_type": "markdown",
   "id": "833e46b4-5d32-4ee4-b24c-dd4d90d57b20",
   "metadata": {
    "tags": []
   },
   "source": [
    "## Unittests with GPU"
   ]
  },
  {
   "cell_type": "code",
   "execution_count": 3,
   "id": "0c907e70-e181-4328-8083-7ac9ab53e734",
   "metadata": {},
   "outputs": [],
   "source": [
    "test = Test_relhum_water()\n",
    "\n",
    "test.test_float_input(use_gpu = True)"
   ]
  },
  {
   "cell_type": "markdown",
   "id": "89402be5-a57e-4037-a487-e3523d2ae4ff",
   "metadata": {
    "tags": []
   },
   "source": [
    "## Benchmark Results for different Array Sizes (NUMPY/CUPY)"
   ]
  },
  {
   "cell_type": "code",
   "execution_count": 14,
   "id": "864afb6b-31c7-4f01-90ad-806fc289245b",
   "metadata": {},
   "outputs": [
    {
     "name": "stdout",
     "output_type": "stream",
     "text": [
      "Relhum_water\n",
      "Array size:  10\n",
      "numpy 1.3899803161621093e-05 seconds\n",
      "cupy 0.0002652645111083984 seconds\n",
      "Array size:  100\n",
      "numpy 1.8143653869628905e-05 seconds\n",
      "cupy 0.00026009082794189455 seconds\n",
      "Array size:  1000\n",
      "numpy 2.1958351135253905e-05 seconds\n",
      "cupy 0.00026884078979492185 seconds\n",
      "Array size:  10000\n",
      "numpy 6.625652313232421e-05 seconds\n",
      "cupy 0.0003139734268188477 seconds\n",
      "Array size:  100000\n",
      "numpy 0.0008736133575439453 seconds\n",
      "cupy 0.0007911443710327149 seconds\n",
      "Array size:  1000000\n",
      "numpy 0.013472461700439453 seconds\n",
      "cupy 0.005812168121337891 seconds\n",
      "Array size:  10000000\n",
      "numpy 0.2474372386932373 seconds\n",
      "cupy 0.056971073150634766 seconds\n"
     ]
    }
   ],
   "source": [
    "#Test_relhum main body\n",
    "Routine = \"Relhum_water\"\n",
    "print(Routine)\n",
    "allData = pd.DataFrame()\n",
    "#For different Array sizes\n",
    "for i in range(1,max_power):\n",
    "    ArraySize = 10**i\n",
    "    p_def = p_def_arrays[i-1].data\n",
    "    t_def = t_def_arrays[i-1].data\n",
    "    q_def = q_def_arrays[i-1].data\n",
    "    print(\"Array size: \", ArraySize)\n",
    "    #for numpy and cupy both\n",
    "    for xp in [np,cp]:\n",
    "        #calculation will be repeated 10 time to get the less biased performance results\n",
    "        repsize = 10\n",
    "        repeat = np.zeros([repsize])\n",
    "        for rep in range(0,repsize):\n",
    "            #create different sizes of arrays\n",
    "            if(xp == cp):\n",
    "                res_cupy = geo.relhum_water(t_def, q_def, p_def,True)\n",
    "                cp.cuda.runtime.deviceSynchronize()\n",
    "                time1 = time.time()\n",
    "                res_cupy = geo.relhum_water(t_def, q_def, p_def,True)\n",
    "                cp.cuda.runtime.deviceSynchronize()\n",
    "                time2 = time.time()\n",
    "                repeat[rep] = time2-time1\n",
    "            else:\n",
    "                res_numpy = geo.relhum_water(t_def, q_def,p_def,False)\n",
    "                time1 = time.time()\n",
    "                res_numpy = geo.relhum_water(t_def, q_def,p_def,False)\n",
    "                time2 = time.time()\n",
    "                repeat[rep] = time2-time1\n",
    "        #save times\n",
    "        data = {'Routine': np.repeat(Routine, repsize),\n",
    "                'Input':\"NumPy input\",\n",
    "                'Approach': np.repeat(xp.__name__ , repsize),\n",
    "                'ArraySize': np.repeat(ArraySize , repsize),\n",
    "                'iteration' : np.arange(1,repsize+1),\n",
    "                'Runtime(s)': repeat}\n",
    "\n",
    "        allData = pd.concat([allData,pd.DataFrame(data)], ignore_index=True)\n",
    "        print(xp.__name__,np.mean(repeat), \"seconds\")\n",
    "    test_validation(res_numpy,res_cupy)\n",
    "try:\n",
    "    previous = pd.read_csv(csvpath)\n",
    "    previous = pd.concat([previous,allData])\n",
    "except FileNotFoundError:\n",
    "    previous = allData\n",
    "previous.to_csv(csvpath, index=False)"
   ]
  },
  {
   "cell_type": "code",
   "execution_count": 15,
   "id": "71b0a94f-4ddf-46bf-9753-57f1d32a0312",
   "metadata": {},
   "outputs": [
    {
     "data": {
      "image/png": "[encoded data removed]",
      "text/plain": [
       "<Figure size 648x432 with 1 Axes>"
      ]
     },
     "metadata": {
      "needs_background": "light"
     },
     "output_type": "display_data"
    }
   ],
   "source": [
    "plot(allData,\"Test_relhum_water_ported_numpy.jpg\")"
   ]
  },
  {
   "cell_type": "markdown",
   "id": "f5bcd16c-5c6c-4cad-9e38-73b9f26cbcd9",
   "metadata": {
    "tags": []
   },
   "source": [
    "## Results for different ArraySizes Xarray (with NumPy/CuPy arrays inside the Xarray)"
   ]
  },
  {
   "cell_type": "markdown",
   "id": "3a2a39d2-8527-4145-8ac9-f03b466c29ec",
   "metadata": {
    "tags": []
   },
   "source": [
    "### Test Relhum on CPU"
   ]
  },
  {
   "cell_type": "code",
   "execution_count": 16,
   "id": "f8e6e2c6-2b68-488e-adef-6e0e9450d744",
   "metadata": {},
   "outputs": [
    {
     "name": "stdout",
     "output_type": "stream",
     "text": [
      "Relhum\n",
      "Array size:  10\n",
      "numpy 1.392364501953125e-05 seconds\n",
      "Array size:  100\n",
      "numpy 1.3279914855957032e-05 seconds\n",
      "Array size:  1000\n",
      "numpy 2.067089080810547e-05 seconds\n",
      "Array size:  10000\n",
      "numpy 7.26938247680664e-05 seconds\n",
      "Array size:  100000\n",
      "numpy 0.0010889053344726562 seconds\n",
      "Array size:  1000000\n",
      "numpy 0.013346338272094726 seconds\n",
      "Array size:  10000000\n",
      "numpy 0.250799298286438 seconds\n"
     ]
    }
   ],
   "source": [
    "csvpath = \"relhum_water_ported_test_xarray.csv\"\n",
    "#Test_relhum main body\n",
    "Routine = \"Relhum\"\n",
    "print(Routine)\n",
    "allData = pd.DataFrame()\n",
    "#For different Array sizes\n",
    "for i in range(1,max_power):\n",
    "    ArraySize = 10**i\n",
    "    print(\"Array size: \", ArraySize)\n",
    "    p_def = p_def_arrays[i-1].data\n",
    "    t_def = t_def_arrays[i-1].data\n",
    "    q_def = q_def_arrays[i-1].data\n",
    "    #for numpy and cupy both\n",
    "    xp = np \n",
    "    repsize = 10\n",
    "    repeat = np.zeros([repsize])\n",
    "    for rep in range(0,repsize):\n",
    "    #create different sizes of arrays\n",
    "        numpy_res = geo.relhum_water(t_def, q_def, p_def,False)\n",
    "        time1 = time.time()\n",
    "        numpy_res = geo.relhum_water(t_def, q_def, p_def,False)\n",
    "        time2 = time.time()\n",
    "        repeat[rep] = time2-time1\n",
    "    numpy_results.append(numpy_res)\n",
    "    #save times\n",
    "    data = {'Routine': np.repeat(Routine, repsize),\n",
    "            'Input':\"Xarray with NumPy input\",\n",
    "            'Approach': np.repeat(xp.__name__ , repsize),\n",
    "            'ArraySize': np.repeat(ArraySize , repsize),\n",
    "            'iteration' : np.arange(1,repsize+1),\n",
    "            'Runtime(s)': repeat}\n",
    "    allData = pd.concat([allData,pd.DataFrame(data)], ignore_index=True)\n",
    "    print(xp.__name__,np.mean(repeat), \"seconds\")\n",
    "try:\n",
    "    previous = pd.read_csv(csvpath)\n",
    "    previous = pd.concat([previous,allData])\n",
    "except FileNotFoundError:\n",
    "    previous = allData\n",
    "previous.to_csv(csvpath, index=False)"
   ]
  },
  {
   "cell_type": "markdown",
   "id": "879a9679-29e3-4c11-8ae1-420f9e049814",
   "metadata": {
    "tags": []
   },
   "source": [
    "### Test Relhum on GPU"
   ]
  },
  {
   "cell_type": "code",
   "execution_count": 17,
   "id": "131f990f-055b-4513-867d-1e094efe7e99",
   "metadata": {},
   "outputs": [
    {
     "name": "stdout",
     "output_type": "stream",
     "text": [
      "Relhum\n",
      "Array size:  10\n",
      "cupy 0.0002548694610595703 seconds\n",
      "Array size:  100\n",
      "cupy 0.00026783943176269533 seconds\n",
      "Array size:  1000\n",
      "cupy 0.0002643823623657227 seconds\n",
      "Array size:  10000\n",
      "cupy 0.00031979084014892577 seconds\n",
      "Array size:  100000\n",
      "cupy 0.0007579326629638672 seconds\n",
      "Array size:  1000000\n",
      "cupy 0.007252264022827149 seconds\n",
      "Array size:  10000000\n",
      "cupy 0.057566714286804196 seconds\n"
     ]
    },
    {
     "data": {
      "image/png": "[encoded data removed]",
      "text/plain": [
       "<Figure size 648x432 with 1 Axes>"
      ]
     },
     "metadata": {
      "needs_background": "light"
     },
     "output_type": "display_data"
    }
   ],
   "source": [
    "#Test_relhum main body\n",
    "Routine = \"Relhum\"\n",
    "print(Routine)\n",
    "#For different Array sizes\n",
    "for i in range(1,max_power):\n",
    "    ArraySize = 10**i\n",
    "    p_def = p_def_arrays[i-1].data\n",
    "    t_def = t_def_arrays[i-1].data\n",
    "    q_def = q_def_arrays[i-1].data\n",
    "    print(\"Array size: \", ArraySize)\n",
    "    #for numpy and cupy both\n",
    "    xp = cp\n",
    "        #calculation will be repeated 10 time to get the less biased performance results\n",
    "    repsize = 10\n",
    "    repeat = np.zeros([repsize])\n",
    "    for rep in range(0,repsize):\n",
    "        #create different sizes of arrays\n",
    "        cupy_res = geo.relhum_water(t_def, q_def, p_def,True)\n",
    "        cp.cuda.runtime.deviceSynchronize()\n",
    "        time1 = time.time()\n",
    "        cupy_res = geo.relhum_water(t_def, q_def, p_def,True)\n",
    "        cp.cuda.runtime.deviceSynchronize()\n",
    "        time2 = time.time()\n",
    "        repeat[rep] = time2-time1\n",
    "    cupy_results.append(cupy_res)\n",
    "    #save times\n",
    "    data = {'Routine': np.repeat(Routine, repsize),\n",
    "            'Input':\"Xarray with NumPy input\",\n",
    "            'Approach': np.repeat(xp.__name__ , repsize),\n",
    "            'ArraySize': np.repeat(ArraySize , repsize),\n",
    "            'iteration' : np.arange(1,repsize+1),\n",
    "            'Runtime(s)': repeat}\n",
    "    allData = pd.concat([allData,pd.DataFrame(data)], ignore_index=True)\n",
    "    print(xp.__name__,np.mean(repeat), \"seconds\")\n",
    "\n",
    "try:\n",
    "    previous = pd.read_csv(csvpath)\n",
    "    previous = pd.concat([previous,allData])\n",
    "except FileNotFoundError:\n",
    "    previous = allData\n",
    "previous.to_csv(csvpath, index=False)\n",
    "plot(allData,\"Test_relhum_water_ported_xarray.jpg\")"
   ]
  },
  {
   "cell_type": "markdown",
   "id": "43a17406-2783-4389-b78e-8142cf27e5ac",
   "metadata": {
    "tags": []
   },
   "source": [
    "### Validation"
   ]
  },
  {
   "cell_type": "code",
   "execution_count": 18,
   "id": "fb8a3094-2533-40d0-b6d4-2a2783c88aa3",
   "metadata": {},
   "outputs": [],
   "source": [
    "#validation \n",
    "for i in range(len(numpy_results)):\n",
    "    test_validation(cupy_results[i],numpy_results[i])"
   ]
  },
  {
   "cell_type": "code",
   "execution_count": 19,
   "id": "b58db857-2ab8-4466-8340-67f03b646a0f",
   "metadata": {},
   "outputs": [
    {
     "data": {
      "text/plain": [
       "array([1.84962963e+01, 2.90282159e+01, 1.98038071e+02, 1.04862446e+02,\n",
       "       6.98535971e+01, 2.56274122e+01, 3.97830575e+01, 6.26482899e+04,\n",
       "       1.72508368e+03, 5.65835897e+02])"
      ]
     },
     "execution_count": 19,
     "metadata": {},
     "output_type": "execute_result"
    }
   ],
   "source": [
    "cupy_results[0]"
   ]
  },
  {
   "cell_type": "code",
   "execution_count": 20,
   "id": "0eac048e-c86e-429b-880a-2526c5492581",
   "metadata": {},
   "outputs": [
    {
     "data": {
      "text/plain": [
       "array([1.84962963e+01, 2.90282159e+01, 1.98038071e+02, 1.04862446e+02,\n",
       "       6.98535971e+01, 2.56274122e+01, 3.97830575e+01, 6.26482899e+04,\n",
       "       1.72508368e+03, 5.65835897e+02])"
      ]
     },
     "execution_count": 20,
     "metadata": {},
     "output_type": "execute_result"
    }
   ],
   "source": [
    "numpy_results[0]"
   ]
  },
  {
   "cell_type": "code",
   "execution_count": null,
   "id": "4e295116-6ec7-479b-93d2-2a549456e6eb",
   "metadata": {},
   "outputs": [],
   "source": []
  },
  {
   "cell_type": "code",
   "execution_count": null,
   "id": "16963179-8659-4447-886e-13f8d7343c95",
   "metadata": {},
   "outputs": [],
   "source": []
  }
 ],
 "metadata": {
  "kernelspec": {
   "display_name": "Python [conda env:geocat]",
   "language": "python",
   "name": "conda-env-geocat-py"
  },
  "language_info": {
   "codemirror_mode": {
    "name": "ipython",
    "version": 3
   },
   "file_extension": ".py",
   "mimetype": "text/x-python",
   "name": "python",
   "nbconvert_exporter": "python",
   "pygments_lexer": "ipython3",
   "version": "3.10.4"
  }
 },
 "nbformat": 4,
 "nbformat_minor": 5
}
